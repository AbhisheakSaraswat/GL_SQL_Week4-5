{
 "cells": [
  {
   "cell_type": "code",
   "execution_count": 1,
   "id": "bb598da5",
   "metadata": {},
   "outputs": [],
   "source": [
    "dct = {'d':5, \"a\" : 4, \"b\": 3,\"c\":10}"
   ]
  },
  {
   "cell_type": "code",
   "execution_count": 2,
   "id": "dbd3dce0",
   "metadata": {},
   "outputs": [
    {
     "data": {
      "text/plain": [
       "{'d': 5, 'a': 4, 'b': 3, 'c': 10}"
      ]
     },
     "execution_count": 2,
     "metadata": {},
     "output_type": "execute_result"
    }
   ],
   "source": [
    "dct"
   ]
  },
  {
   "cell_type": "code",
   "execution_count": 3,
   "id": "afe0260c",
   "metadata": {},
   "outputs": [
    {
     "data": {
      "text/plain": [
       "{'a': 4, 'b': 3, 'c': 10, 'd': 5}"
      ]
     },
     "execution_count": 3,
     "metadata": {},
     "output_type": "execute_result"
    }
   ],
   "source": [
    "dict(sorted(dct.items()))"
   ]
  },
  {
   "cell_type": "code",
   "execution_count": 8,
   "id": "940b6a75",
   "metadata": {},
   "outputs": [],
   "source": [
    "sort = dict(sorted(dct.items(), key = lambda item: item[1]))"
   ]
  },
  {
   "cell_type": "code",
   "execution_count": 9,
   "id": "4e4d2408",
   "metadata": {},
   "outputs": [
    {
     "name": "stdout",
     "output_type": "stream",
     "text": [
      "{'b': 3, 'a': 4, 'd': 5, 'c': 10}\n"
     ]
    }
   ],
   "source": [
    "print(sort)"
   ]
  },
  {
   "cell_type": "markdown",
   "id": "60341dc5",
   "metadata": {},
   "source": [
    "### Python Function\n",
    "\n",
    "Function is a group of statements that perform a specific task.\n",
    "\n",
    "Functions are the important concept for every programming which violated the DRY\n",
    "principle (Dont Repeat YourSelf)\n",
    "\n",
    "We can define the function in Python programming using <b> def </b> keyword."
   ]
  },
  {
   "cell_type": "markdown",
   "id": "a1d07c13",
   "metadata": {},
   "source": [
    "### Syntax \n",
    "\n",
    "def functionName(p1,p2..pn)\n",
    "    doc_string\n",
    "    'statementn\n",
    "    return statement"
   ]
  },
  {
   "cell_type": "markdown",
   "id": "3453be89",
   "metadata": {},
   "source": [
    "### User Defined Function | System Defined Function"
   ]
  },
  {
   "cell_type": "code",
   "execution_count": 10,
   "id": "2a37b6fa",
   "metadata": {},
   "outputs": [],
   "source": [
    "def who_are_you():\n",
    "    '''This is a normal function which describes the syntax of a function.'''\n",
    "    print(\"I am a ordinary function.\")"
   ]
  },
  {
   "cell_type": "markdown",
   "id": "ec6dd678",
   "metadata": {},
   "source": [
    "### Function calling"
   ]
  },
  {
   "cell_type": "code",
   "execution_count": 11,
   "id": "ec0e5bbb",
   "metadata": {},
   "outputs": [
    {
     "name": "stdout",
     "output_type": "stream",
     "text": [
      "I am a ordinary function.\n"
     ]
    }
   ],
   "source": [
    "who_are_you()"
   ]
  },
  {
   "cell_type": "code",
   "execution_count": 12,
   "id": "8ca97a5e",
   "metadata": {},
   "outputs": [
    {
     "data": {
      "text/plain": [
       "'This is a normal function which describes the syntax of a function.'"
      ]
     },
     "execution_count": 12,
     "metadata": {},
     "output_type": "execute_result"
    }
   ],
   "source": [
    "who_are_you.__doc__"
   ]
  },
  {
   "cell_type": "code",
   "execution_count": 16,
   "id": "facaa86e",
   "metadata": {},
   "outputs": [],
   "source": [
    "def greetings(msg):\n",
    "    print(f\"Welcome to {msg}\")"
   ]
  },
  {
   "cell_type": "code",
   "execution_count": 18,
   "id": "307c5a37",
   "metadata": {},
   "outputs": [
    {
     "name": "stdout",
     "output_type": "stream",
     "text": [
      "Welcome to Python Programming\n"
     ]
    }
   ],
   "source": [
    "txt = \"Python Programming\"\n",
    "greetings(txt)"
   ]
  },
  {
   "cell_type": "code",
   "execution_count": 19,
   "id": "bfe52b80",
   "metadata": {},
   "outputs": [
    {
     "name": "stdout",
     "output_type": "stream",
     "text": [
      "Welcome to Great Learning!!!\n"
     ]
    }
   ],
   "source": [
    "greetings(\"Great Learning!!!\")"
   ]
  },
  {
   "cell_type": "markdown",
   "id": "813a291f",
   "metadata": {},
   "source": [
    "### Creating a function with parameters and return the value"
   ]
  },
  {
   "cell_type": "code",
   "execution_count": 47,
   "id": "7c3314a8",
   "metadata": {},
   "outputs": [],
   "source": [
    "def calc_sum(a,b):\n",
    "    '''This function will takes 2 input as a number and return an output in the form of sum.'''\n",
    "    add = a + b\n",
    "    print(f\"Total: {add}\") # displays the sum to the user\n",
    "    return add # Makes the sum available for further use"
   ]
  },
  {
   "cell_type": "code",
   "execution_count": 32,
   "id": "d9d8c5aa",
   "metadata": {},
   "outputs": [
    {
     "name": "stdout",
     "output_type": "stream",
     "text": [
      "Total: 55\n"
     ]
    },
    {
     "data": {
      "text/plain": [
       "55"
      ]
     },
     "execution_count": 32,
     "metadata": {},
     "output_type": "execute_result"
    }
   ],
   "source": [
    "calc_sum(10,45)"
   ]
  },
  {
   "cell_type": "code",
   "execution_count": 33,
   "id": "564dbb9e",
   "metadata": {},
   "outputs": [
    {
     "name": "stdout",
     "output_type": "stream",
     "text": [
      "Total: 101\n"
     ]
    },
    {
     "data": {
      "text/plain": [
       "101"
      ]
     },
     "execution_count": 33,
     "metadata": {},
     "output_type": "execute_result"
    }
   ],
   "source": [
    "calc_sum(34,67)"
   ]
  },
  {
   "cell_type": "code",
   "execution_count": 26,
   "id": "38aa322e",
   "metadata": {},
   "outputs": [
    {
     "name": "stdout",
     "output_type": "stream",
     "text": [
      "Hello Abhisheak\n"
     ]
    }
   ],
   "source": [
    "print(\"Hello Abhisheak\")"
   ]
  },
  {
   "cell_type": "code",
   "execution_count": 27,
   "id": "e3a42496",
   "metadata": {},
   "outputs": [
    {
     "name": "stdout",
     "output_type": "stream",
     "text": [
      "Hello Abhisheak\n"
     ]
    }
   ],
   "source": [
    "a = print(\"Hello Abhisheak\")"
   ]
  },
  {
   "cell_type": "code",
   "execution_count": 28,
   "id": "6e989f51",
   "metadata": {},
   "outputs": [],
   "source": [
    "a"
   ]
  },
  {
   "cell_type": "code",
   "execution_count": 34,
   "id": "734a3d28",
   "metadata": {},
   "outputs": [
    {
     "name": "stdout",
     "output_type": "stream",
     "text": [
      "Total: 30\n"
     ]
    }
   ],
   "source": [
    "result = calc_sum(10,20)"
   ]
  },
  {
   "cell_type": "code",
   "execution_count": 35,
   "id": "055450eb",
   "metadata": {},
   "outputs": [
    {
     "data": {
      "text/plain": [
       "30"
      ]
     },
     "execution_count": 35,
     "metadata": {},
     "output_type": "execute_result"
    }
   ],
   "source": [
    "result"
   ]
  },
  {
   "cell_type": "markdown",
   "id": "ea4a3190",
   "metadata": {},
   "source": [
    "### Note:\n",
    "\n",
    "Print just displaying the msg to the user as an output only. Where as return is returnin an output of that function, and that output we can store in a variable for future purpose.\n",
    "\n",
    "In a function, we can utilize as many print statement, but we can define\n",
    "the return statement only one time."
   ]
  },
  {
   "cell_type": "code",
   "execution_count": 37,
   "id": "ffbc54b8",
   "metadata": {},
   "outputs": [],
   "source": [
    "def calc_sum(a,b):\n",
    "    '''This function will takes 2 input as a number and return an output in the form of sum.'''\n",
    "    add = a + b\n",
    "    print(f\"Total: {add}\")\n"
   ]
  },
  {
   "cell_type": "code",
   "execution_count": 38,
   "id": "6df2490b",
   "metadata": {},
   "outputs": [],
   "source": [
    "a = 20"
   ]
  },
  {
   "cell_type": "code",
   "execution_count": 39,
   "id": "1758efc9",
   "metadata": {},
   "outputs": [
    {
     "name": "stdout",
     "output_type": "stream",
     "text": [
      "Total: 10\n"
     ]
    },
    {
     "ename": "TypeError",
     "evalue": "unsupported operand type(s) for +: 'int' and 'NoneType'",
     "output_type": "error",
     "traceback": [
      "\u001b[1;31m---------------------------------------------------------------------------\u001b[0m",
      "\u001b[1;31mTypeError\u001b[0m                                 Traceback (most recent call last)",
      "Cell \u001b[1;32mIn[39], line 1\u001b[0m\n\u001b[1;32m----> 1\u001b[0m \u001b[43ma\u001b[49m\u001b[43m \u001b[49m\u001b[38;5;241;43m+\u001b[39;49m\u001b[43m \u001b[49m\u001b[43mcalc_sum\u001b[49m\u001b[43m(\u001b[49m\u001b[38;5;241;43m5\u001b[39;49m\u001b[43m,\u001b[49m\u001b[38;5;241;43m5\u001b[39;49m\u001b[43m)\u001b[49m\n",
      "\u001b[1;31mTypeError\u001b[0m: unsupported operand type(s) for +: 'int' and 'NoneType'"
     ]
    }
   ],
   "source": [
    "a + calc_sum(5,5)"
   ]
  },
  {
   "cell_type": "code",
   "execution_count": 40,
   "id": "88130f48",
   "metadata": {},
   "outputs": [
    {
     "name": "stdout",
     "output_type": "stream",
     "text": [
      "Total: 10\n"
     ]
    }
   ],
   "source": [
    "a = calc_sum(5,5)"
   ]
  },
  {
   "cell_type": "code",
   "execution_count": 41,
   "id": "e066a02a",
   "metadata": {},
   "outputs": [
    {
     "data": {
      "text/plain": [
       "NoneType"
      ]
     },
     "execution_count": 41,
     "metadata": {},
     "output_type": "execute_result"
    }
   ],
   "source": [
    "type(a)"
   ]
  },
  {
   "cell_type": "code",
   "execution_count": 42,
   "id": "88b51665",
   "metadata": {},
   "outputs": [],
   "source": [
    "def calc_sum1(a,b):\n",
    "    '''This function will takes 2 input as a number and return an output in the form of sum.'''\n",
    "    add = a + b\n",
    "    return add"
   ]
  },
  {
   "cell_type": "code",
   "execution_count": 44,
   "id": "7f819747",
   "metadata": {},
   "outputs": [],
   "source": [
    "a = 20"
   ]
  },
  {
   "cell_type": "code",
   "execution_count": 45,
   "id": "f74dc7c7",
   "metadata": {},
   "outputs": [
    {
     "data": {
      "text/plain": [
       "20"
      ]
     },
     "execution_count": 45,
     "metadata": {},
     "output_type": "execute_result"
    }
   ],
   "source": [
    "a"
   ]
  },
  {
   "cell_type": "code",
   "execution_count": 46,
   "id": "b422d21b",
   "metadata": {},
   "outputs": [
    {
     "data": {
      "text/plain": [
       "30"
      ]
     },
     "execution_count": 46,
     "metadata": {},
     "output_type": "execute_result"
    }
   ],
   "source": [
    "a + calc_sum1(5,5)"
   ]
  },
  {
   "cell_type": "markdown",
   "id": "4d2e697e",
   "metadata": {},
   "source": [
    "\n",
    "print is just for output and return is just for utilize the output in other expressions"
   ]
  },
  {
   "cell_type": "code",
   "execution_count": 48,
   "id": "60925762",
   "metadata": {},
   "outputs": [
    {
     "name": "stdout",
     "output_type": "stream",
     "text": [
      "Enter a number: 10\n",
      "10 is even\n"
     ]
    }
   ],
   "source": [
    "number = int(input(\"Enter a number: \"))\n",
    "if number % 2 == 0:\n",
    "    print(f\"{number} is even\")\n",
    "else:\n",
    "    print(f\"{number} is odd\")"
   ]
  },
  {
   "cell_type": "code",
   "execution_count": 49,
   "id": "b76599fe",
   "metadata": {},
   "outputs": [],
   "source": [
    "# now how to convert above code in Python function\n",
    "def even_odd():\n",
    "    number = int(input(\"Enter a number: \"))\n",
    "    if number % 2 == 0:\n",
    "        print(f\"{number} is even\")\n",
    "    else:\n",
    "        print(f\"{number} is odd\")\n"
   ]
  },
  {
   "cell_type": "code",
   "execution_count": 50,
   "id": "cdc346f7",
   "metadata": {},
   "outputs": [
    {
     "name": "stdout",
     "output_type": "stream",
     "text": [
      "Enter a number: 11\n",
      "11 is odd\n"
     ]
    }
   ],
   "source": [
    "even_odd()"
   ]
  },
  {
   "cell_type": "code",
   "execution_count": 51,
   "id": "0e9d33e2",
   "metadata": {},
   "outputs": [],
   "source": [
    "def sum_even(lst):\n",
    "    evenlst = []\n",
    "    for n in lst:\n",
    "        if n % 2 == 0:\n",
    "            evenlst.append(n)\n",
    "    return evenlst"
   ]
  },
  {
   "cell_type": "code",
   "execution_count": 52,
   "id": "3cbdf585",
   "metadata": {},
   "outputs": [],
   "source": [
    "num = [2,4,5,6,7,8,10,33,44,55,12,36,78]"
   ]
  },
  {
   "cell_type": "code",
   "execution_count": 54,
   "id": "1f266242",
   "metadata": {},
   "outputs": [
    {
     "data": {
      "text/plain": [
       "200"
      ]
     },
     "execution_count": 54,
     "metadata": {},
     "output_type": "execute_result"
    }
   ],
   "source": [
    "sum(sum_even(num))"
   ]
  },
  {
   "cell_type": "code",
   "execution_count": 55,
   "id": "a7168ff5",
   "metadata": {},
   "outputs": [],
   "source": [
    "def sum_even1(lst):\n",
    "    evenlst = []\n",
    "    for n in lst:\n",
    "        if n % 2 == 0:\n",
    "            evenlst.append(n)\n",
    "    print(evenlst)"
   ]
  },
  {
   "cell_type": "code",
   "execution_count": 57,
   "id": "c99d7e68",
   "metadata": {},
   "outputs": [
    {
     "name": "stdout",
     "output_type": "stream",
     "text": [
      "[2, 4, 6, 8, 10, 44, 12, 36, 78]\n"
     ]
    },
    {
     "ename": "TypeError",
     "evalue": "'NoneType' object is not iterable",
     "output_type": "error",
     "traceback": [
      "\u001b[1;31m---------------------------------------------------------------------------\u001b[0m",
      "\u001b[1;31mTypeError\u001b[0m                                 Traceback (most recent call last)",
      "Cell \u001b[1;32mIn[57], line 1\u001b[0m\n\u001b[1;32m----> 1\u001b[0m \u001b[38;5;28;43msum\u001b[39;49m\u001b[43m(\u001b[49m\u001b[43msum_even1\u001b[49m\u001b[43m(\u001b[49m\u001b[43mnum\u001b[49m\u001b[43m)\u001b[49m\u001b[43m)\u001b[49m\n",
      "\u001b[1;31mTypeError\u001b[0m: 'NoneType' object is not iterable"
     ]
    }
   ],
   "source": [
    "sum(sum_even1(num))"
   ]
  },
  {
   "cell_type": "markdown",
   "id": "00241d6e",
   "metadata": {},
   "source": [
    "### Return multiple values from a single function"
   ]
  },
  {
   "cell_type": "code",
   "execution_count": 58,
   "id": "49e51831",
   "metadata": {},
   "outputs": [],
   "source": [
    "def arithmetic_operations(num1, num2):\n",
    "    add = num1 + num2\n",
    "    sub = num1 - num2\n",
    "    div = num1 / num2\n",
    "    mul = num1 * num2\n",
    "    return add, sub, div, mul"
   ]
  },
  {
   "cell_type": "code",
   "execution_count": 59,
   "id": "f58b6928",
   "metadata": {},
   "outputs": [
    {
     "data": {
      "text/plain": [
       "(7, -3, 0.4, 10)"
      ]
     },
     "execution_count": 59,
     "metadata": {},
     "output_type": "execute_result"
    }
   ],
   "source": [
    "arithmetic_operations(2,5)"
   ]
  },
  {
   "cell_type": "code",
   "execution_count": 60,
   "id": "a1edd5de",
   "metadata": {},
   "outputs": [],
   "source": [
    "a,b,c,d = arithmetic_operations(2,5)"
   ]
  },
  {
   "cell_type": "code",
   "execution_count": 61,
   "id": "b983dd31",
   "metadata": {},
   "outputs": [
    {
     "data": {
      "text/plain": [
       "7"
      ]
     },
     "execution_count": 61,
     "metadata": {},
     "output_type": "execute_result"
    }
   ],
   "source": [
    "a"
   ]
  },
  {
   "cell_type": "code",
   "execution_count": 62,
   "id": "51ce00cb",
   "metadata": {},
   "outputs": [
    {
     "data": {
      "text/plain": [
       "-3"
      ]
     },
     "execution_count": 62,
     "metadata": {},
     "output_type": "execute_result"
    }
   ],
   "source": [
    "b"
   ]
  },
  {
   "cell_type": "code",
   "execution_count": 63,
   "id": "88a2e6c2",
   "metadata": {},
   "outputs": [
    {
     "data": {
      "text/plain": [
       "0.4"
      ]
     },
     "execution_count": 63,
     "metadata": {},
     "output_type": "execute_result"
    }
   ],
   "source": [
    "c"
   ]
  },
  {
   "cell_type": "code",
   "execution_count": 64,
   "id": "2a8045cc",
   "metadata": {},
   "outputs": [
    {
     "data": {
      "text/plain": [
       "10"
      ]
     },
     "execution_count": 64,
     "metadata": {},
     "output_type": "execute_result"
    }
   ],
   "source": [
    "d"
   ]
  },
  {
   "cell_type": "code",
   "execution_count": 66,
   "id": "ce007266",
   "metadata": {},
   "outputs": [
    {
     "name": "stdout",
     "output_type": "stream",
     "text": [
      "Addition:  7\n",
      "Subtraction:  -3\n",
      "Division:  0.4\n",
      "Multiplication:  10\n"
     ]
    }
   ],
   "source": [
    "print(\"Addition: \", a)\n",
    "print(\"Subtraction: \", b)\n",
    "print(\"Division: \", c)\n",
    "print(\"Multiplication: \", d)"
   ]
  },
  {
   "cell_type": "code",
   "execution_count": 67,
   "id": "da62ee64",
   "metadata": {},
   "outputs": [],
   "source": [
    "def generate_prime_number(lower,upper):\n",
    "    is_Divisible = True # flag variable\n",
    "\n",
    "    for num in range(lower, upper+1):\n",
    "        for i in range(2, num):\n",
    "            if num % i == 0:\n",
    "                break\n",
    "        else:\n",
    "            print(\"Prime Number: \", num)"
   ]
  },
  {
   "cell_type": "code",
   "execution_count": 68,
   "id": "0e1ee39d",
   "metadata": {},
   "outputs": [
    {
     "name": "stdout",
     "output_type": "stream",
     "text": [
      "Prime Number:  11\n",
      "Prime Number:  13\n",
      "Prime Number:  17\n",
      "Prime Number:  19\n",
      "Prime Number:  23\n",
      "Prime Number:  29\n"
     ]
    }
   ],
   "source": [
    "generate_prime_number(10,30)"
   ]
  },
  {
   "cell_type": "markdown",
   "id": "bf229810",
   "metadata": {},
   "source": [
    "### You have some sales data, based on sales please create a bucket\n",
    "\n",
    "* sales between 0 - 500      : sales 0 - 500\n",
    "* sales between 500 - 1000   : sales 500 - 1000\n",
    "* sales between 1000 - 5000  : sales 1000 - 5000 else sales > 5000\n",
    "\n",
    "Q. Create a function which calculates the bucket based on sales."
   ]
  },
  {
   "cell_type": "code",
   "execution_count": 75,
   "id": "0228665c",
   "metadata": {},
   "outputs": [
    {
     "name": "stdout",
     "output_type": "stream",
     "text": [
      "Greater than 5000\n"
     ]
    }
   ],
   "source": [
    "def sales(x):\n",
    "    if 0<= x <=500:\n",
    "        print(\"Sales in the range 0 to 500\")\n",
    "    elif 500<x<=1000:\n",
    "        print(\"Sales in the range 501 to 1000\")\n",
    "    elif 1000<x<=5000:\n",
    "        print(\"Sales in the range 1001 to 5000\")\n",
    "    else:\n",
    "        print(\"Greater than 5000\")\n",
    "\n",
    "sales(7000)"
   ]
  },
  {
   "cell_type": "code",
   "execution_count": 76,
   "id": "cae1cf5c",
   "metadata": {},
   "outputs": [],
   "source": [
    "lstOfNumber = [56,56,30,44,56,47,44,56,87,90,25,67,82]"
   ]
  },
  {
   "cell_type": "code",
   "execution_count": 77,
   "id": "97069be0",
   "metadata": {},
   "outputs": [],
   "source": [
    "def get_unique(lst):\n",
    "    unique_item = []\n",
    "    for num in lst:\n",
    "        if num not in unique_item:\n",
    "            unique_item.append(num)\n",
    "    return unique_item"
   ]
  },
  {
   "cell_type": "code",
   "execution_count": 81,
   "id": "37e4ce13",
   "metadata": {},
   "outputs": [
    {
     "data": {
      "text/plain": [
       "[25, 30, 44, 47, 56, 67, 82, 87, 90]"
      ]
     },
     "execution_count": 81,
     "metadata": {},
     "output_type": "execute_result"
    }
   ],
   "source": [
    "sorted(get_unique(lstOfNumber))"
   ]
  },
  {
   "cell_type": "code",
   "execution_count": 82,
   "id": "71615443",
   "metadata": {},
   "outputs": [
    {
     "data": {
      "text/plain": [
       "[25, 30, 44, 47, 56, 67, 82, 87, 90]"
      ]
     },
     "execution_count": 82,
     "metadata": {},
     "output_type": "execute_result"
    }
   ],
   "source": [
    "sorted(list(set(lstOfNumber)))"
   ]
  },
  {
   "cell_type": "markdown",
   "id": "298f4d06",
   "metadata": {},
   "source": [
    "### *args and **kwargs"
   ]
  },
  {
   "cell_type": "markdown",
   "id": "8a21a56c",
   "metadata": {},
   "source": [
    "### *args (arguments)"
   ]
  },
  {
   "cell_type": "code",
   "execution_count": 83,
   "id": "d07d8063",
   "metadata": {},
   "outputs": [],
   "source": [
    "def get_result(*great):\n",
    "    for item in great:\n",
    "        print(item)"
   ]
  },
  {
   "cell_type": "code",
   "execution_count": 86,
   "id": "22af517a",
   "metadata": {},
   "outputs": [
    {
     "name": "stdout",
     "output_type": "stream",
     "text": [
      "Abhishek\n",
      "Karan\n",
      "Shreya\n",
      "Reshma\n",
      "Ankit\n"
     ]
    }
   ],
   "source": [
    "get_result('Abhishek',\"Karan\",\"Shreya\",\"Reshma\",\"Ankit\")"
   ]
  },
  {
   "cell_type": "code",
   "execution_count": 87,
   "id": "6198f3ba",
   "metadata": {},
   "outputs": [],
   "source": [
    "def addition(*numbers):\n",
    "    total = 0\n",
    "    for num in numbers:\n",
    "        total = total + num\n",
    "    print(\"Final sum: \", total)"
   ]
  },
  {
   "cell_type": "code",
   "execution_count": 88,
   "id": "bbb58cdd",
   "metadata": {},
   "outputs": [
    {
     "name": "stdout",
     "output_type": "stream",
     "text": [
      "Final sum:  360\n"
     ]
    }
   ],
   "source": [
    "addition(10,20,30,40,50,60,70,80)"
   ]
  },
  {
   "cell_type": "code",
   "execution_count": 89,
   "id": "1dce94b9",
   "metadata": {},
   "outputs": [
    {
     "name": "stdout",
     "output_type": "stream",
     "text": [
      "Final sum:  36\n"
     ]
    }
   ],
   "source": [
    "addition(2,34)"
   ]
  },
  {
   "cell_type": "markdown",
   "id": "5257cc66",
   "metadata": {},
   "source": [
    "### Note:\n",
    "\n",
    "If you are not sure how many input I will be supply to the function, based on your requirement\n",
    "your input variable may differ, in that situation please utilize the concept of args."
   ]
  },
  {
   "cell_type": "markdown",
   "id": "1870e70f",
   "metadata": {},
   "source": [
    "### **kwargs (Keyword Arguments)"
   ]
  },
  {
   "cell_type": "code",
   "execution_count": 90,
   "id": "82a89681",
   "metadata": {},
   "outputs": [],
   "source": [
    "name = \"Reshma\"\n",
    "salary = 3000\n",
    "grade = \"A\"\n",
    "subject = 'Python'\n",
    "address = \"GZB\"\n",
    "age = 29\n",
    "concept = \"Logic\""
   ]
  },
  {
   "cell_type": "code",
   "execution_count": 95,
   "id": "de83847f",
   "metadata": {},
   "outputs": [],
   "source": [
    "def get_info(**kwargs):\n",
    "    print(f\"{kwargs['name']} likes {kwargs['subject']}\")"
   ]
  },
  {
   "cell_type": "code",
   "execution_count": 96,
   "id": "968f05a5",
   "metadata": {},
   "outputs": [
    {
     "name": "stdout",
     "output_type": "stream",
     "text": [
      "Reshma likes Python\n"
     ]
    }
   ],
   "source": [
    "get_info(name =\"Reshma\",age = 29,subject=\"Python\",\n",
    "         concept = \"Logic\",address=\"Delhi\")"
   ]
  },
  {
   "cell_type": "code",
   "execution_count": 97,
   "id": "60c5cda4",
   "metadata": {},
   "outputs": [],
   "source": [
    "def totalSales(*args, **kwargs):\n",
    "    total = sum(args)\n",
    "    print(f\"{kwargs['day']} sales : {total}\")"
   ]
  },
  {
   "cell_type": "code",
   "execution_count": 98,
   "id": "d21cc1d5",
   "metadata": {},
   "outputs": [
    {
     "name": "stdout",
     "output_type": "stream",
     "text": [
      "Sunday sales : 1150\n"
     ]
    }
   ],
   "source": [
    "totalSales(100,200,300,400,30,50,70, day = 'Sunday')"
   ]
  },
  {
   "cell_type": "code",
   "execution_count": 103,
   "id": "c00d1c42",
   "metadata": {},
   "outputs": [],
   "source": [
    "def totalSales(*args, **kwargs):\n",
    "    total = sum(args)\n",
    "    print(f\"{kwargs['day']} sales : {total}, of {kwargs['Brand']}\")"
   ]
  },
  {
   "cell_type": "code",
   "execution_count": 105,
   "id": "2ad8faea",
   "metadata": {},
   "outputs": [
    {
     "name": "stdout",
     "output_type": "stream",
     "text": [
      "Sunday sales : 1150, of Nike Shoes\n"
     ]
    }
   ],
   "source": [
    "totalSales(100,200,300,400,30,50,70, day = 'Sunday', Brand = \"Nike Shoes\")"
   ]
  },
  {
   "cell_type": "markdown",
   "id": "9df06277",
   "metadata": {},
   "source": [
    "* using args: I can have as many input\n",
    "* using kwargs: I can have as many keyword input"
   ]
  },
  {
   "cell_type": "code",
   "execution_count": null,
   "id": "926bdb82",
   "metadata": {},
   "outputs": [],
   "source": [
    "def totalmarks(eng,math,scihistory, art, stu1):\n",
    "    eng =10\n",
    "    math = 20\n",
    "    sci = 32\n",
    "    "
   ]
  },
  {
   "cell_type": "code",
   "execution_count": null,
   "id": "31c89201",
   "metadata": {},
   "outputs": [],
   "source": [
    "def totalmarks(*subject,**stu):\n",
    "    "
   ]
  },
  {
   "cell_type": "code",
   "execution_count": null,
   "id": "c0d3c993",
   "metadata": {},
   "outputs": [],
   "source": [
    "(70,80,90,76,89,stu1 = \"A\",stu = \"B\",stu = \"C\", stu=\"D\")"
   ]
  },
  {
   "cell_type": "markdown",
   "id": "98674417",
   "metadata": {},
   "source": [
    "### Recursive Function"
   ]
  },
  {
   "cell_type": "code",
   "execution_count": 106,
   "id": "116e63c3",
   "metadata": {},
   "outputs": [],
   "source": [
    "def fibonacci(n):\n",
    "    if n <= 0:\n",
    "        return 0\n",
    "    elif n == 1: \n",
    "        return 1\n",
    "    else:\n",
    "        return fibonacci(n-1) + fibonacci(n-2)"
   ]
  },
  {
   "cell_type": "code",
   "execution_count": 107,
   "id": "fcbc9416",
   "metadata": {},
   "outputs": [
    {
     "name": "stdout",
     "output_type": "stream",
     "text": [
      "Fibonacci(0) = 0\n",
      "Fibonacci(1) = 1\n",
      "Fibonacci(2) = 1\n",
      "Fibonacci(3) = 2\n",
      "Fibonacci(4) = 3\n",
      "Fibonacci(5) = 5\n",
      "Fibonacci(6) = 8\n",
      "Fibonacci(7) = 13\n",
      "Fibonacci(8) = 21\n",
      "Fibonacci(9) = 34\n"
     ]
    }
   ],
   "source": [
    "for i in range(10):\n",
    "    print(f\"Fibonacci({i}) = {fibonacci(i)}\")"
   ]
  },
  {
   "cell_type": "code",
   "execution_count": 114,
   "id": "7752ab96",
   "metadata": {},
   "outputs": [],
   "source": [
    "def sum_list(nums):\n",
    "    if len(nums) == 0:\n",
    "        return 0\n",
    "    last_number = nums.pop()\n",
    "    print(last_number)\n",
    "    return last_number + sum_list(nums)"
   ]
  },
  {
   "cell_type": "code",
   "execution_count": 115,
   "id": "4c6b7106",
   "metadata": {},
   "outputs": [],
   "source": [
    "num = [2,3,4,5]"
   ]
  },
  {
   "cell_type": "code",
   "execution_count": 116,
   "id": "95956540",
   "metadata": {},
   "outputs": [
    {
     "name": "stdout",
     "output_type": "stream",
     "text": [
      "5\n",
      "4\n",
      "3\n",
      "2\n"
     ]
    },
    {
     "data": {
      "text/plain": [
       "14"
      ]
     },
     "execution_count": 116,
     "metadata": {},
     "output_type": "execute_result"
    }
   ],
   "source": [
    "sum_list(num)"
   ]
  },
  {
   "cell_type": "code",
   "execution_count": 112,
   "id": "a5b99b87",
   "metadata": {},
   "outputs": [],
   "source": [
    "num = [2,3,4,5]"
   ]
  },
  {
   "cell_type": "code",
   "execution_count": 113,
   "id": "74f8624b",
   "metadata": {},
   "outputs": [
    {
     "data": {
      "text/plain": [
       "14"
      ]
     },
     "execution_count": 113,
     "metadata": {},
     "output_type": "execute_result"
    }
   ],
   "source": [
    "sum(num)"
   ]
  },
  {
   "cell_type": "code",
   "execution_count": 124,
   "id": "dad8188b",
   "metadata": {},
   "outputs": [],
   "source": [
    "def get_unique(lst):\n",
    "    unique_item = []\n",
    "    myName = \"Karan\"\n",
    "    for num in lst:\n",
    "        if num not in unique_item:\n",
    "            unique_item.append(num)\n",
    "    print(myName)\n",
    "    return unique_item"
   ]
  },
  {
   "cell_type": "code",
   "execution_count": 125,
   "id": "fbbe0d7b",
   "metadata": {},
   "outputs": [
    {
     "name": "stdout",
     "output_type": "stream",
     "text": [
      "Karan\n"
     ]
    },
    {
     "data": {
      "text/plain": [
       "[1, 3, 4, 5, 64, 23]"
      ]
     },
     "execution_count": 125,
     "metadata": {},
     "output_type": "execute_result"
    }
   ],
   "source": [
    "get_unique([1,3,4,5,64,23,4,5])"
   ]
  },
  {
   "cell_type": "code",
   "execution_count": 126,
   "id": "d7b4e4c9",
   "metadata": {},
   "outputs": [
    {
     "ename": "NameError",
     "evalue": "name 'myName' is not defined",
     "output_type": "error",
     "traceback": [
      "\u001b[1;31m---------------------------------------------------------------------------\u001b[0m",
      "\u001b[1;31mNameError\u001b[0m                                 Traceback (most recent call last)",
      "Cell \u001b[1;32mIn[126], line 1\u001b[0m\n\u001b[1;32m----> 1\u001b[0m \u001b[43mmyName\u001b[49m\n",
      "\u001b[1;31mNameError\u001b[0m: name 'myName' is not defined"
     ]
    }
   ],
   "source": [
    "myName"
   ]
  },
  {
   "cell_type": "code",
   "execution_count": 127,
   "id": "8c28300b",
   "metadata": {},
   "outputs": [],
   "source": [
    "def get_unique(lst):\n",
    "    unique_item = []\n",
    "    global a\n",
    "    for num in lst:\n",
    "        if num not in unique_item:\n",
    "            unique_item.append(num)\n",
    "    a = 10\n",
    "    return unique_item"
   ]
  },
  {
   "cell_type": "code",
   "execution_count": 128,
   "id": "a4798335",
   "metadata": {},
   "outputs": [
    {
     "data": {
      "text/plain": [
       "7"
      ]
     },
     "execution_count": 128,
     "metadata": {},
     "output_type": "execute_result"
    }
   ],
   "source": [
    "a"
   ]
  },
  {
   "cell_type": "code",
   "execution_count": 129,
   "id": "351ef2b0",
   "metadata": {},
   "outputs": [],
   "source": [
    "counter = 0 # global variable defined outside of the function\n",
    "def increment_number():\n",
    "    global counter # here, declare counter variable as global to modify it\n",
    "    counter = counter + 1\n",
    "    print(f\"Value of counter is {counter}\")"
   ]
  },
  {
   "cell_type": "code",
   "execution_count": 134,
   "id": "b8137050",
   "metadata": {},
   "outputs": [
    {
     "name": "stdout",
     "output_type": "stream",
     "text": [
      "Value of counter is 3\n"
     ]
    }
   ],
   "source": [
    "increment_number()"
   ]
  },
  {
   "cell_type": "code",
   "execution_count": 135,
   "id": "8a77f072",
   "metadata": {},
   "outputs": [
    {
     "data": {
      "text/plain": [
       "3"
      ]
     },
     "execution_count": 135,
     "metadata": {},
     "output_type": "execute_result"
    }
   ],
   "source": [
    "counter"
   ]
  },
  {
   "cell_type": "code",
   "execution_count": 136,
   "id": "bad2e614",
   "metadata": {},
   "outputs": [],
   "source": [
    "icounter = 0 \n",
    "def increment_number():\n",
    "    icounter = 1 # here, declare counter variable as global to modify it\n",
    "    icounter = icounter + 1\n",
    "    print(f\"Value of counter is {icounter}\")"
   ]
  },
  {
   "cell_type": "code",
   "execution_count": 139,
   "id": "074d8772",
   "metadata": {},
   "outputs": [
    {
     "name": "stdout",
     "output_type": "stream",
     "text": [
      "Value of counter is 2\n"
     ]
    }
   ],
   "source": [
    "increment_number()"
   ]
  },
  {
   "cell_type": "code",
   "execution_count": 140,
   "id": "d64eb767",
   "metadata": {},
   "outputs": [
    {
     "data": {
      "text/plain": [
       "0"
      ]
     },
     "execution_count": 140,
     "metadata": {},
     "output_type": "execute_result"
    }
   ],
   "source": [
    "icounter"
   ]
  },
  {
   "cell_type": "markdown",
   "id": "884cac9a",
   "metadata": {},
   "source": [
    "* Q: How to change your global variable value inside the function?\n",
    "    * A: Using global keyword"
   ]
  },
  {
   "cell_type": "code",
   "execution_count": null,
   "id": "59b44cae",
   "metadata": {},
   "outputs": [],
   "source": []
  }
 ],
 "metadata": {
  "kernelspec": {
   "display_name": "Python 3 (ipykernel)",
   "language": "python",
   "name": "python3"
  },
  "language_info": {
   "codemirror_mode": {
    "name": "ipython",
    "version": 3
   },
   "file_extension": ".py",
   "mimetype": "text/x-python",
   "name": "python",
   "nbconvert_exporter": "python",
   "pygments_lexer": "ipython3",
   "version": "3.11.2"
  }
 },
 "nbformat": 4,
 "nbformat_minor": 5
}
