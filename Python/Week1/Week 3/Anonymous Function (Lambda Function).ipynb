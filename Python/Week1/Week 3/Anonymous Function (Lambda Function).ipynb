{
 "cells": [
  {
   "cell_type": "markdown",
   "id": "bfdb28c4",
   "metadata": {},
   "source": [
    "### Anonymous Function (Lambda Function)"
   ]
  },
  {
   "cell_type": "markdown",
   "id": "6e83a44f",
   "metadata": {},
   "source": [
    "Lambda functions are anonymous function or a function define without its name.\n",
    "\n",
    "Lambda is a keyword that utlize as a anonymous function.\n",
    "\n",
    "Lambda basically restrict for a single line statement only."
   ]
  },
  {
   "cell_type": "markdown",
   "id": "9c161a43",
   "metadata": {},
   "source": [
    "### Syntax of Lambda"
   ]
  },
  {
   "cell_type": "code",
   "execution_count": 1,
   "id": "d861089c",
   "metadata": {},
   "outputs": [
    {
     "data": {
      "text/plain": [
       "<function __main__.<lambda>(arugments)>"
      ]
     },
     "execution_count": 1,
     "metadata": {},
     "output_type": "execute_result"
    }
   ],
   "source": [
    "lambda arugments : expression"
   ]
  },
  {
   "cell_type": "code",
   "execution_count": 2,
   "id": "14b5dedf",
   "metadata": {},
   "outputs": [],
   "source": [
    "def mul(a,b):\n",
    "    return a * b"
   ]
  },
  {
   "cell_type": "code",
   "execution_count": 3,
   "id": "4a682564",
   "metadata": {},
   "outputs": [
    {
     "data": {
      "text/plain": [
       "30"
      ]
     },
     "execution_count": 3,
     "metadata": {},
     "output_type": "execute_result"
    }
   ],
   "source": [
    "mul(5,6)"
   ]
  },
  {
   "cell_type": "code",
   "execution_count": 4,
   "id": "33dc6563",
   "metadata": {},
   "outputs": [],
   "source": [
    "result = lambda a,b : a * b"
   ]
  },
  {
   "cell_type": "code",
   "execution_count": 5,
   "id": "fc5e5a19",
   "metadata": {},
   "outputs": [
    {
     "data": {
      "text/plain": [
       "30"
      ]
     },
     "execution_count": 5,
     "metadata": {},
     "output_type": "execute_result"
    }
   ],
   "source": [
    "result(5,6)"
   ]
  },
  {
   "cell_type": "markdown",
   "id": "d65db025",
   "metadata": {},
   "source": [
    "### Map, Filter, Reduce\n",
    "\n",
    "#### Map:\n",
    "\n",
    "Map function takes another function as a parameter alongh with sequence of items from iterables.\n",
    "It will extract all the items from iterables one-by-one.\n",
    "\n",
    "#### Syntax of map function\n",
    "* Map function takes two argument as follows:\n",
    "    * Function (User Define | System Define)\n",
    "    * Iterable(s) (Single or Multiple Iterable)"
   ]
  },
  {
   "cell_type": "code",
   "execution_count": 6,
   "id": "e65157e9",
   "metadata": {},
   "outputs": [],
   "source": [
    "lstofNumber = [3,5,7,8,9,2,10,12,20,50]"
   ]
  },
  {
   "cell_type": "code",
   "execution_count": 7,
   "id": "42bc4372",
   "metadata": {},
   "outputs": [],
   "source": [
    "def power(n):\n",
    "    return n * n"
   ]
  },
  {
   "cell_type": "code",
   "execution_count": 8,
   "id": "94ece689",
   "metadata": {},
   "outputs": [
    {
     "data": {
      "text/plain": [
       "100"
      ]
     },
     "execution_count": 8,
     "metadata": {},
     "output_type": "execute_result"
    }
   ],
   "source": [
    "power(10)"
   ]
  },
  {
   "cell_type": "code",
   "execution_count": 9,
   "id": "6b931c6f",
   "metadata": {},
   "outputs": [],
   "source": [
    "# map : function or iterables"
   ]
  },
  {
   "cell_type": "code",
   "execution_count": 10,
   "id": "c82f60ca",
   "metadata": {},
   "outputs": [
    {
     "data": {
      "text/plain": [
       "<map at 0x1b7d12c3520>"
      ]
     },
     "execution_count": 10,
     "metadata": {},
     "output_type": "execute_result"
    }
   ],
   "source": [
    "map(power, lstofNumber) # it will return a map object"
   ]
  },
  {
   "cell_type": "code",
   "execution_count": 11,
   "id": "e692978f",
   "metadata": {},
   "outputs": [],
   "source": [
    "# How to retrieve the value from map object\n",
    "# answer: stored into data structure or apply the loop"
   ]
  },
  {
   "cell_type": "code",
   "execution_count": 12,
   "id": "2793ffc6",
   "metadata": {},
   "outputs": [
    {
     "data": {
      "text/plain": [
       "[9, 25, 49, 64, 81, 4, 100, 144, 400, 2500]"
      ]
     },
     "execution_count": 12,
     "metadata": {},
     "output_type": "execute_result"
    }
   ],
   "source": [
    "list(map(power, lstofNumber))"
   ]
  },
  {
   "cell_type": "code",
   "execution_count": 13,
   "id": "84c73b40",
   "metadata": {},
   "outputs": [],
   "source": [
    "lstA = [1,2,3,4,5]\n",
    "lstB = [5,6,7,8,9]"
   ]
  },
  {
   "cell_type": "code",
   "execution_count": 14,
   "id": "30748384",
   "metadata": {},
   "outputs": [],
   "source": [
    "def multiplication(a,b):\n",
    "    return a * b"
   ]
  },
  {
   "cell_type": "code",
   "execution_count": 15,
   "id": "a8de22c6",
   "metadata": {},
   "outputs": [
    {
     "data": {
      "text/plain": [
       "[5, 12, 21, 32, 45]"
      ]
     },
     "execution_count": 15,
     "metadata": {},
     "output_type": "execute_result"
    }
   ],
   "source": [
    "list(map(multiplication,lstA, lstB))"
   ]
  },
  {
   "cell_type": "code",
   "execution_count": 16,
   "id": "4901eb8c",
   "metadata": {},
   "outputs": [
    {
     "data": {
      "text/plain": [
       "[6, 8, 10, 12, 14]"
      ]
     },
     "execution_count": 16,
     "metadata": {},
     "output_type": "execute_result"
    }
   ],
   "source": [
    "list(map(lambda x, y : x + y, lstA, lstB))"
   ]
  },
  {
   "cell_type": "code",
   "execution_count": 17,
   "id": "a895753a",
   "metadata": {},
   "outputs": [],
   "source": [
    "ai = \"Artificial intelligence (AI), in its broadest sense, is intelligence exhibited by machines, particularly computer systems. It is a field of research in computer science that develops and studies methods and software that enable machines to perceive their environment and use learning and intelligence to take actions that maximize their chances of achieving defined goals.[1] Such machines may be called AIs.\""
   ]
  },
  {
   "cell_type": "code",
   "execution_count": 18,
   "id": "889b903a",
   "metadata": {},
   "outputs": [
    {
     "name": "stdout",
     "output_type": "stream",
     "text": [
      "Artificial intelligence (AI), in its broadest sense, is intelligence exhibited by machines, particularly computer systems. It is a field of research in computer science that develops and studies methods and software that enable machines to perceive their environment and use learning and intelligence to take actions that maximize their chances of achieving defined goals.[1] Such machines may be called AIs.\n"
     ]
    }
   ],
   "source": [
    "print(ai)"
   ]
  },
  {
   "cell_type": "code",
   "execution_count": 20,
   "id": "d0945b13",
   "metadata": {},
   "outputs": [
    {
     "name": "stdout",
     "output_type": "stream",
     "text": [
      "[10, 12, 5, 2, 3, 8, 6, 2, 12, 9, 2, 9, 12, 8, 8, 2, 2, 1, 5, 2, 8, 2, 8, 7, 4, 8, 3, 7, 7, 3, 8, 4, 6, 8, 2, 8, 5, 11, 3, 3, 8, 3, 12, 2, 4, 7, 4, 8, 5, 7, 2, 9, 7, 9, 4, 8, 3, 2, 6, 4]\n"
     ]
    }
   ],
   "source": [
    "print(list(map(lambda x: len(x), ai.split())))"
   ]
  },
  {
   "cell_type": "code",
   "execution_count": 21,
   "id": "50898fd7",
   "metadata": {},
   "outputs": [],
   "source": [
    "lstofNumber = [3,5,7,8,9,2,10,12,20,50]"
   ]
  },
  {
   "cell_type": "code",
   "execution_count": 43,
   "id": "c3abf02c",
   "metadata": {},
   "outputs": [
    {
     "name": "stdout",
     "output_type": "stream",
     "text": [
      "(False, False, False, True, False, True, True, True, True, True)\n",
      "(8, 2, 10, 12, 20, 50)\n"
     ]
    }
   ],
   "source": [
    "print(tuple(map(lambda x: x % 2 == 0, lstofNumber)))\n",
    "print(tuple(filter(lambda x: x % 2 == 0, lstofNumber)))"
   ]
  },
  {
   "cell_type": "code",
   "execution_count": 23,
   "id": "200d7b50",
   "metadata": {},
   "outputs": [
    {
     "data": {
      "text/plain": [
       "6"
      ]
     },
     "execution_count": 23,
     "metadata": {},
     "output_type": "execute_result"
    }
   ],
   "source": [
    "sum(tuple(map(lambda x: x % 2 == 0, lstofNumber)))"
   ]
  },
  {
   "cell_type": "code",
   "execution_count": 24,
   "id": "7a57e124",
   "metadata": {},
   "outputs": [],
   "source": [
    "lst1 = [3,4,5,6]\n",
    "lst2 = [2,3,2,3]\n",
    "lst3 = [3,2,3,1]"
   ]
  },
  {
   "cell_type": "code",
   "execution_count": 26,
   "id": "4c7b29fc",
   "metadata": {},
   "outputs": [
    {
     "data": {
      "text/plain": [
       "[9, 14, 13, 19]"
      ]
     },
     "execution_count": 26,
     "metadata": {},
     "output_type": "execute_result"
    }
   ],
   "source": [
    " list(map(lambda x, y, z: x * y + z, lst1, lst2, lst3))"
   ]
  },
  {
   "cell_type": "markdown",
   "id": "3ea2adee",
   "metadata": {},
   "source": [
    "### Filter Function\n",
    "\n",
    "Filter function just filter the value based on the condition.\n",
    "\n",
    "### Syntax\n",
    "\n",
    "- Filter function also take two input\n",
    "    * Function or None\n",
    "    * Iterable"
   ]
  },
  {
   "cell_type": "code",
   "execution_count": 27,
   "id": "2966298c",
   "metadata": {},
   "outputs": [],
   "source": [
    "lstofNumber = [3,5,7,8,9,2,10,12,20,50]\n",
    "# can you filter the even number"
   ]
  },
  {
   "cell_type": "code",
   "execution_count": 28,
   "id": "507fe09c",
   "metadata": {},
   "outputs": [
    {
     "data": {
      "text/plain": [
       "<filter at 0x1b7d0892fe0>"
      ]
     },
     "execution_count": 28,
     "metadata": {},
     "output_type": "execute_result"
    }
   ],
   "source": [
    "filter(lambda x : x % 2 == 0, lstofNumber)"
   ]
  },
  {
   "cell_type": "code",
   "execution_count": 29,
   "id": "bb5f517a",
   "metadata": {},
   "outputs": [
    {
     "data": {
      "text/plain": [
       "[8, 2, 10, 12, 20, 50]"
      ]
     },
     "execution_count": 29,
     "metadata": {},
     "output_type": "execute_result"
    }
   ],
   "source": [
    "list(filter(lambda x : x % 2 == 0, lstofNumber))"
   ]
  },
  {
   "cell_type": "code",
   "execution_count": 30,
   "id": "6cf38d10",
   "metadata": {},
   "outputs": [
    {
     "data": {
      "text/plain": [
       "[3, 5, 7, 9]"
      ]
     },
     "execution_count": 30,
     "metadata": {},
     "output_type": "execute_result"
    }
   ],
   "source": [
    "list(filter(lambda x : x % 2 != 0, lstofNumber))"
   ]
  },
  {
   "cell_type": "code",
   "execution_count": 31,
   "id": "d1d21751",
   "metadata": {},
   "outputs": [
    {
     "name": "stdout",
     "output_type": "stream",
     "text": [
      "Artificial intelligence (AI), in its broadest sense, is intelligence exhibited by machines, particularly computer systems. It is a field of research in computer science that develops and studies methods and software that enable machines to perceive their environment and use learning and intelligence to take actions that maximize their chances of achieving defined goals.[1] Such machines may be called AIs.\n"
     ]
    }
   ],
   "source": [
    "print(ai)"
   ]
  },
  {
   "cell_type": "code",
   "execution_count": 32,
   "id": "ec9d7a4e",
   "metadata": {},
   "outputs": [],
   "source": [
    "# Filter a word with 10 or more than 10 char from above paragraph"
   ]
  },
  {
   "cell_type": "code",
   "execution_count": 41,
   "id": "80cb1a3e",
   "metadata": {},
   "outputs": [
    {
     "data": {
      "text/plain": [
       "['Artificial',\n",
       " 'intelligence',\n",
       " 'intelligence',\n",
       " 'particularly',\n",
       " 'environment',\n",
       " 'intelligence']"
      ]
     },
     "execution_count": 41,
     "metadata": {},
     "output_type": "execute_result"
    }
   ],
   "source": [
    "list(filter(lambda x : len(x) >= 10, ai.split()))"
   ]
  },
  {
   "cell_type": "markdown",
   "id": "d4bf3421",
   "metadata": {},
   "source": [
    "### A word contains either h or v"
   ]
  },
  {
   "cell_type": "code",
   "execution_count": 42,
   "id": "409001aa",
   "metadata": {},
   "outputs": [
    {
     "name": "stdout",
     "output_type": "stream",
     "text": [
      "['exhibited', 'machines,', 'research', 'that', 'develops', 'methods', 'that', 'machines', 'perceive', 'their', 'environment', 'that', 'their', 'chances', 'achieving', 'Such', 'machines']\n"
     ]
    }
   ],
   "source": [
    "print(list(filter(lambda x: \"h\" in x or \"v\" in x, ai.split())))"
   ]
  },
  {
   "cell_type": "code",
   "execution_count": 33,
   "id": "b5d67bd2",
   "metadata": {},
   "outputs": [],
   "source": [
    "# lambda takes argument or arugments and Expression (single only)"
   ]
  },
  {
   "cell_type": "code",
   "execution_count": 36,
   "id": "e0454a60",
   "metadata": {},
   "outputs": [],
   "source": [
    "r = lambda x,y : x + y"
   ]
  },
  {
   "cell_type": "code",
   "execution_count": 37,
   "id": "2353f2cf",
   "metadata": {},
   "outputs": [],
   "source": [
    "a = 10; b = 7"
   ]
  },
  {
   "cell_type": "code",
   "execution_count": 38,
   "id": "915e6d04",
   "metadata": {},
   "outputs": [
    {
     "data": {
      "text/plain": [
       "17"
      ]
     },
     "execution_count": 38,
     "metadata": {},
     "output_type": "execute_result"
    }
   ],
   "source": [
    "r(a,b)"
   ]
  },
  {
   "cell_type": "code",
   "execution_count": 45,
   "id": "5a587dde",
   "metadata": {},
   "outputs": [
    {
     "name": "stdout",
     "output_type": "stream",
     "text": [
      "['append', 'clear', 'copy', 'count', 'extend', 'index', 'insert', 'pop', 'remove', 'reverse', 'sort']\n"
     ]
    }
   ],
   "source": [
    "print([i for i in dir(list) if \"__\" not in i])"
   ]
  },
  {
   "cell_type": "code",
   "execution_count": 47,
   "id": "1ca3a750",
   "metadata": {},
   "outputs": [
    {
     "name": "stdout",
     "output_type": "stream",
     "text": [
      "['append', 'clear', 'copy', 'count', 'extend', 'index', 'insert', 'pop', 'remove', 'reverse', 'sort']\n"
     ]
    }
   ],
   "source": [
    "print(list(filter(lambda x: \"__\" not in x, dir(list))))"
   ]
  },
  {
   "cell_type": "code",
   "execution_count": 51,
   "id": "9b0c5670",
   "metadata": {},
   "outputs": [],
   "source": [
    "lst = [3,6,False,-12,40,\"\", \"Abhishek\", None,10,23,\"\",False,10, None,100]"
   ]
  },
  {
   "cell_type": "code",
   "execution_count": 52,
   "id": "d58e9dc5",
   "metadata": {},
   "outputs": [
    {
     "data": {
      "text/plain": [
       "[3, 6, False, -12, 40, '', 'Abhishek', None, 10, 23, '', False, 10, None, 100]"
      ]
     },
     "execution_count": 52,
     "metadata": {},
     "output_type": "execute_result"
    }
   ],
   "source": [
    "lst"
   ]
  },
  {
   "cell_type": "code",
   "execution_count": 53,
   "id": "70450adf",
   "metadata": {},
   "outputs": [
    {
     "data": {
      "text/plain": [
       "[3, 6, -12, 40, 'Abhishek', 10, 23, 10, 100]"
      ]
     },
     "execution_count": 53,
     "metadata": {},
     "output_type": "execute_result"
    }
   ],
   "source": [
    "list(filter(None, lst))"
   ]
  },
  {
   "cell_type": "code",
   "execution_count": 58,
   "id": "9540af7a",
   "metadata": {},
   "outputs": [],
   "source": [
    "lstOfNumber = [10,40,506,210,300,33,55,78,90,56,10,20,300,45,67,89,0,56,78,9]"
   ]
  },
  {
   "cell_type": "code",
   "execution_count": 59,
   "id": "a16db536",
   "metadata": {},
   "outputs": [
    {
     "name": "stdout",
     "output_type": "stream",
     "text": [
      "[10, 40, 506, 210, 300, 33, 55, 78, 90, 56, 10, 20, 300, 45, 67, 89, 0, 56, 78, 9]\n"
     ]
    }
   ],
   "source": [
    "print(lstOfNumber)"
   ]
  },
  {
   "cell_type": "code",
   "execution_count": null,
   "id": "262a234f",
   "metadata": {},
   "outputs": [],
   "source": [
    "# 50 - 90"
   ]
  },
  {
   "cell_type": "code",
   "execution_count": 60,
   "id": "93ec4c85",
   "metadata": {},
   "outputs": [
    {
     "data": {
      "text/plain": [
       "[55, 78, 90, 56, 67, 89, 56, 78]"
      ]
     },
     "execution_count": 60,
     "metadata": {},
     "output_type": "execute_result"
    }
   ],
   "source": [
    "list(filter(lambda x: x>=50 and x<=90, lstOfNumber))"
   ]
  },
  {
   "attachments": {
    "image.png": {
     "image/png": "[encoded data removed]"
    }
   },
   "cell_type": "markdown",
   "id": "b3053a03",
   "metadata": {},
   "source": [
    "### Python Reduce Function\n",
    "\n",
    "Reduce function is not the part of core Python, reduce function reside in functools python package.\n",
    "\n",
    "### Syntax of Reduce function\n",
    "1. It takes a function\n",
    "2. Iterable\n",
    "\n",
    "Example: ![image.png](attachment:image.png)"
   ]
  },
  {
   "cell_type": "code",
   "execution_count": 61,
   "id": "fd040060",
   "metadata": {},
   "outputs": [],
   "source": [
    "from functools import reduce"
   ]
  },
  {
   "cell_type": "markdown",
   "id": "7e2fc11e",
   "metadata": {},
   "source": [
    "### reduce?\n",
    "\n",
    "reduce function take 2 argument at a time and the result of first 2 argument it will map to the next argument of your iterable."
   ]
  },
  {
   "cell_type": "code",
   "execution_count": 63,
   "id": "f8d6b4b5",
   "metadata": {},
   "outputs": [],
   "source": [
    "lst = [47,11,42,13]\n"
   ]
  },
  {
   "cell_type": "code",
   "execution_count": 72,
   "id": "67d5d640",
   "metadata": {},
   "outputs": [
    {
     "data": {
      "text/plain": [
       "113"
      ]
     },
     "execution_count": 72,
     "metadata": {},
     "output_type": "execute_result"
    }
   ],
   "source": [
    "reduce(lambda a,b : a + b, lst)"
   ]
  },
  {
   "cell_type": "code",
   "execution_count": 65,
   "id": "c95545a1",
   "metadata": {},
   "outputs": [],
   "source": [
    "name = list('ABHISHEAK')"
   ]
  },
  {
   "cell_type": "code",
   "execution_count": 66,
   "id": "46f7b7e4",
   "metadata": {},
   "outputs": [
    {
     "data": {
      "text/plain": [
       "['A', 'B', 'H', 'I', 'S', 'H', 'E', 'A', 'K']"
      ]
     },
     "execution_count": 66,
     "metadata": {},
     "output_type": "execute_result"
    }
   ],
   "source": [
    "name"
   ]
  },
  {
   "cell_type": "code",
   "execution_count": 69,
   "id": "98f8b870",
   "metadata": {},
   "outputs": [
    {
     "data": {
      "text/plain": [
       "'A_B_H_I_S_H_E_A_K'"
      ]
     },
     "execution_count": 69,
     "metadata": {},
     "output_type": "execute_result"
    }
   ],
   "source": [
    "reduce(lambda a,b : a + \"_\" + b, name)"
   ]
  },
  {
   "cell_type": "markdown",
   "id": "c9b11cf8",
   "metadata": {},
   "source": [
    "reduce function is working like as a for loop of Python programming"
   ]
  },
  {
   "cell_type": "code",
   "execution_count": 73,
   "id": "d8346726",
   "metadata": {},
   "outputs": [],
   "source": [
    "lstOfNumber = [10,40,506,210,300,33,55,78,90,56,10,20,300,45,67,89,0,56,78,9]"
   ]
  },
  {
   "cell_type": "code",
   "execution_count": 74,
   "id": "baeb233e",
   "metadata": {},
   "outputs": [
    {
     "data": {
      "text/plain": [
       "[20, 20, 40, 0, 18]"
      ]
     },
     "execution_count": 74,
     "metadata": {},
     "output_type": "execute_result"
    }
   ],
   "source": [
    "list(map(lambda x : x + x, filter(lambda x : x <= 30, lstOfNumber)))"
   ]
  },
  {
   "cell_type": "code",
   "execution_count": 78,
   "id": "0c1a4fdd",
   "metadata": {},
   "outputs": [
    {
     "data": {
      "text/plain": [
       "[10, 10, 20, 0, 9]"
      ]
     },
     "execution_count": 78,
     "metadata": {},
     "output_type": "execute_result"
    }
   ],
   "source": [
    "# for num in filter(lambda x : x <= 30, lstOfNumber):\n",
    "#     print(num)\n",
    "list(filter(lambda x : x <= 30, lstOfNumber))"
   ]
  },
  {
   "cell_type": "code",
   "execution_count": 79,
   "id": "43bdb2dc",
   "metadata": {},
   "outputs": [
    {
     "data": {
      "text/plain": [
       "80"
      ]
     },
     "execution_count": 79,
     "metadata": {},
     "output_type": "execute_result"
    }
   ],
   "source": [
    "reduce(lambda x, y: x + y, map(lambda x : x + x, filter(lambda x : x >= 10 and x <=30,\n",
    "                                                        lstOfNumber)))"
   ]
  },
  {
   "cell_type": "code",
   "execution_count": 82,
   "id": "5fcce7ba",
   "metadata": {},
   "outputs": [],
   "source": [
    "reduce?"
   ]
  },
  {
   "cell_type": "code",
   "execution_count": 83,
   "id": "bf8b41f8",
   "metadata": {},
   "outputs": [],
   "source": [
    "result = list(filter(lambda x : x >= 10 and x <=30,lstOfNumber))"
   ]
  },
  {
   "cell_type": "code",
   "execution_count": 84,
   "id": "03df68e6",
   "metadata": {},
   "outputs": [
    {
     "data": {
      "text/plain": [
       "[10, 10, 20]"
      ]
     },
     "execution_count": 84,
     "metadata": {},
     "output_type": "execute_result"
    }
   ],
   "source": [
    "result"
   ]
  },
  {
   "cell_type": "code",
   "execution_count": 85,
   "id": "ef376676",
   "metadata": {},
   "outputs": [
    {
     "data": {
      "text/plain": [
       "[20, 20, 40]"
      ]
     },
     "execution_count": 85,
     "metadata": {},
     "output_type": "execute_result"
    }
   ],
   "source": [
    "list(map(lambda x : x + x, result))"
   ]
  },
  {
   "cell_type": "code",
   "execution_count": 86,
   "id": "e07671ce",
   "metadata": {},
   "outputs": [
    {
     "data": {
      "text/plain": [
       "80"
      ]
     },
     "execution_count": 86,
     "metadata": {},
     "output_type": "execute_result"
    }
   ],
   "source": [
    "reduce(lambda x, y: x + y,[20,20,40])"
   ]
  },
  {
   "cell_type": "code",
   "execution_count": 87,
   "id": "0f1e54d5",
   "metadata": {},
   "outputs": [
    {
     "data": {
      "text/plain": [
       "16000"
      ]
     },
     "execution_count": 87,
     "metadata": {},
     "output_type": "execute_result"
    }
   ],
   "source": [
    "reduce(lambda x, y: x * y,[20,20,40])"
   ]
  },
  {
   "cell_type": "code",
   "execution_count": 88,
   "id": "60277334",
   "metadata": {},
   "outputs": [],
   "source": [
    "name = [\"abhishek\",\"ajeet\",'ram',\"shyam\",\"RadheyShayam\"]"
   ]
  },
  {
   "cell_type": "code",
   "execution_count": 89,
   "id": "830ccda0",
   "metadata": {},
   "outputs": [
    {
     "data": {
      "text/plain": [
       "[8, 5, 3, 5, 12]"
      ]
     },
     "execution_count": 89,
     "metadata": {},
     "output_type": "execute_result"
    }
   ],
   "source": [
    "list(map(len,name))"
   ]
  },
  {
   "cell_type": "code",
   "execution_count": null,
   "id": "f7af8285",
   "metadata": {},
   "outputs": [],
   "source": []
  }
 ],
 "metadata": {
  "kernelspec": {
   "display_name": "Python 3 (ipykernel)",
   "language": "python",
   "name": "python3"
  },
  "language_info": {
   "codemirror_mode": {
    "name": "ipython",
    "version": 3
   },
   "file_extension": ".py",
   "mimetype": "text/x-python",
   "name": "python",
   "nbconvert_exporter": "python",
   "pygments_lexer": "ipython3",
   "version": "3.11.2"
  }
 },
 "nbformat": 4,
 "nbformat_minor": 5
}
