{
 "cells": [
  {
   "cell_type": "markdown",
   "id": "80a45a4b",
   "metadata": {},
   "source": [
    "### Conditional Statement\n",
    "\n",
    "* if\n",
    "* if else\n",
    "* elif\n",
    "* nested if elif and else"
   ]
  },
  {
   "cell_type": "code",
   "execution_count": 4,
   "id": "30e591c5",
   "metadata": {},
   "outputs": [
    {
     "name": "stdout",
     "output_type": "stream",
     "text": [
      "Enter your age: 17\n",
      "NA!!!\n"
     ]
    }
   ],
   "source": [
    "age = int(input(\"Enter your age: \"))\n",
    "if age >= 18:\n",
    "    print(\"Eligible for Vote\")\n",
    "else:\n",
    "    print(\"NA!!!\")"
   ]
  },
  {
   "cell_type": "code",
   "execution_count": 7,
   "id": "6c7b3347",
   "metadata": {},
   "outputs": [
    {
     "name": "stdout",
     "output_type": "stream",
     "text": [
      "Enter a number: -10\n",
      "Negative\n"
     ]
    }
   ],
   "source": [
    "number = int(input(\"Enter a number: \"))\n",
    "if number > 0:\n",
    "    print(\"Positive\")\n",
    "elif number == 0:\n",
    "    print(\"Zero\")\n",
    "else:\n",
    "    print(\"Negative\")"
   ]
  },
  {
   "cell_type": "code",
   "execution_count": 10,
   "id": "af9a42f5",
   "metadata": {},
   "outputs": [
    {
     "name": "stdout",
     "output_type": "stream",
     "text": [
      "Enter a number: 0\n",
      "Zero\n"
     ]
    }
   ],
   "source": [
    "number = int(input(\"Enter a number: \")) # 0\n",
    "if number >= 0:\n",
    "    if number == 0:\n",
    "        print(\"Zero\")\n",
    "    else:\n",
    "        print(\"Positive\")\n",
    "else:\n",
    "    print(\"Negative\")"
   ]
  },
  {
   "cell_type": "code",
   "execution_count": 11,
   "id": "d8db6333",
   "metadata": {},
   "outputs": [],
   "source": [
    "lstOfNumbers = [10,-20,0,2,5,7,-3,-5,-34,45,23,60,0,0,45,6,88,99,90,0]"
   ]
  },
  {
   "cell_type": "code",
   "execution_count": 12,
   "id": "7bcaff0a",
   "metadata": {},
   "outputs": [],
   "source": [
    "positive_num = []; negative_num = []; zero = []"
   ]
  },
  {
   "cell_type": "code",
   "execution_count": 14,
   "id": "2e164f8e",
   "metadata": {},
   "outputs": [],
   "source": [
    "for num in lstOfNumbers:\n",
    "    if num > 0:\n",
    "        positive_num.append(num)\n",
    "    elif num == 0:\n",
    "        zero.append(num)\n",
    "    else:\n",
    "        negative_num.append(num)"
   ]
  },
  {
   "cell_type": "code",
   "execution_count": 15,
   "id": "8daf3b6a",
   "metadata": {},
   "outputs": [
    {
     "data": {
      "text/plain": [
       "[10, 2, 5, 7, 45, 23, 60, 45, 6, 88, 99, 90]"
      ]
     },
     "execution_count": 15,
     "metadata": {},
     "output_type": "execute_result"
    }
   ],
   "source": [
    "positive_num"
   ]
  },
  {
   "cell_type": "code",
   "execution_count": 16,
   "id": "a958cc03",
   "metadata": {},
   "outputs": [
    {
     "data": {
      "text/plain": [
       "[0, 0, 0, 0]"
      ]
     },
     "execution_count": 16,
     "metadata": {},
     "output_type": "execute_result"
    }
   ],
   "source": [
    "zero"
   ]
  },
  {
   "cell_type": "code",
   "execution_count": 17,
   "id": "eb9ee0b0",
   "metadata": {},
   "outputs": [
    {
     "data": {
      "text/plain": [
       "[-20, -3, -5, -34]"
      ]
     },
     "execution_count": 17,
     "metadata": {},
     "output_type": "execute_result"
    }
   ],
   "source": [
    "negative_num"
   ]
  },
  {
   "cell_type": "code",
   "execution_count": 18,
   "id": "ddfcbb04",
   "metadata": {},
   "outputs": [
    {
     "name": "stdout",
     "output_type": "stream",
     "text": [
      "[10, 2, 5, 7, 45, 23, 60, 45, 6, 88, 99, 90] [-20, -3, -5, -34] [0, 0, 0, 0]\n"
     ]
    }
   ],
   "source": [
    "print(positive_num, negative_num, zero)"
   ]
  },
  {
   "cell_type": "code",
   "execution_count": 19,
   "id": "61a326ff",
   "metadata": {},
   "outputs": [],
   "source": [
    "import numpy as np"
   ]
  },
  {
   "cell_type": "code",
   "execution_count": 23,
   "id": "d10951ea",
   "metadata": {},
   "outputs": [],
   "source": [
    "mobile_number = list(np.random.randint(low = 8888888888, high = 9999999999, \n",
    "                                       size = 50, dtype = 'int64'))"
   ]
  },
  {
   "cell_type": "code",
   "execution_count": 24,
   "id": "2415d2e3",
   "metadata": {},
   "outputs": [
    {
     "name": "stdout",
     "output_type": "stream",
     "text": [
      "[9609409727, 9889269509, 9255723155, 8967594273, 9190440591, 9129783090, 9442832905, 9926707369, 9114352502, 9182770763, 9827383256, 9517633466, 9908936421, 9234428837, 9581190424, 9688953191, 9507380334, 8921923682, 9778713460, 9106755272, 9352767039, 9507213566, 9182185931, 8903397051, 9546830471, 9683984026, 9181374330, 8945877486, 9035736301, 9621843323, 9727838233, 9769995926, 9322741997, 9449411498, 9554088239, 9614001352, 9374038760, 9147425749, 9982348049, 9123608762, 9699029462, 8937498297, 9459473268, 9246672774, 9866348642, 9856362504, 9475789876, 8914531203, 8921267376, 9186262663]\n"
     ]
    }
   ],
   "source": [
    "print(mobile_number)"
   ]
  },
  {
   "cell_type": "code",
   "execution_count": 25,
   "id": "b777dc27",
   "metadata": {},
   "outputs": [],
   "source": [
    "lst_Mobile_Number = [9609409727, \"9889269509\", 9255723155, 8967594273, 9190440591, \n",
    "                     9129783090, 9442832905, 9926707369, 9114352502, 9182770763,\n",
    "                     9827383256, 9817633466, 990896421, 9234428837, 9581190424,\n",
    "                     9688953191, 9507380334, 8921923682, 9778713460, 9106755272,\n",
    "                     \"9952767O39\", 9507213566, 9182185931, 9903397051, 9546830471,\n",
    "                     9683984026, 9181374330, \"99458I7486\", 9035736301, 9621843323,\n",
    "                     9727838233, 9769995926, 9322741997, 9449411498, 995408239,\n",
    "                     9614001352, 9374038760, 9147425749, 9982348049, 9123608762,\n",
    "                     9699029462, 983749897, \"9859473268\", 9246672774, 9866348642]"
   ]
  },
  {
   "cell_type": "markdown",
   "id": "a43174c8",
   "metadata": {},
   "source": [
    "### Goal\n",
    "* Find the valid mobile number:\n",
    "    * Valid if all are numbers (in Mobile number)\n",
    "    * Valid if the length of mobile number should be 10\n",
    "    * Valid if number starts from either 99 or 98\n",
    "    "
   ]
  },
  {
   "cell_type": "code",
   "execution_count": 26,
   "id": "374aee43",
   "metadata": {},
   "outputs": [
    {
     "name": "stdout",
     "output_type": "stream",
     "text": [
      "[9609409727, '9889269509', 9255723155, 8967594273, 9190440591, 9129783090, 9442832905, 9926707369, 9114352502, 9182770763, 9827383256, 9817633466, 990896421, 9234428837, 9581190424, 9688953191, 9507380334, 8921923682, 9778713460, 9106755272, '9952767O39', 9507213566, 9182185931, 9903397051, 9546830471, 9683984026, 9181374330, '99458I7486', 9035736301, 9621843323, 9727838233, 9769995926, 9322741997, 9449411498, 995408239, 9614001352, 9374038760, 9147425749, 9982348049, 9123608762, 9699029462, 983749897, '9859473268', 9246672774, 9866348642]\n"
     ]
    }
   ],
   "source": [
    "print(lst_Mobile_Number)"
   ]
  },
  {
   "cell_type": "code",
   "execution_count": 28,
   "id": "c610ebb6",
   "metadata": {},
   "outputs": [
    {
     "data": {
      "text/plain": [
       "9"
      ]
     },
     "execution_count": 28,
     "metadata": {},
     "output_type": "execute_result"
    }
   ],
   "source": [
    "len(\"228393298\")"
   ]
  },
  {
   "cell_type": "code",
   "execution_count": 37,
   "id": "539882b7",
   "metadata": {},
   "outputs": [
    {
     "name": "stdout",
     "output_type": "stream",
     "text": [
      "9889269509 9926707369 9827383256 9817633466 9903397051 9982348049 9859473268 9866348642 "
     ]
    }
   ],
   "source": [
    "for m in lst_Mobile_Number:\n",
    "    if len(str(m)) == 10 and str(m).isnumeric():\n",
    "        if str(m)[:2] == \"99\" or str(m)[:2] == \"98\":\n",
    "            print(m, end = \" \")"
   ]
  },
  {
   "cell_type": "code",
   "execution_count": 45,
   "id": "1b30a4c1",
   "metadata": {},
   "outputs": [],
   "source": [
    "m = \"997678U896\" # isnumeric function from string only of Python"
   ]
  },
  {
   "cell_type": "code",
   "execution_count": 46,
   "id": "bbdeda10",
   "metadata": {},
   "outputs": [
    {
     "data": {
      "text/plain": [
       "False"
      ]
     },
     "execution_count": 46,
     "metadata": {},
     "output_type": "execute_result"
    }
   ],
   "source": [
    "m.isnumeric()"
   ]
  },
  {
   "cell_type": "code",
   "execution_count": 36,
   "id": "de592759",
   "metadata": {},
   "outputs": [
    {
     "data": {
      "text/plain": [
       "True"
      ]
     },
     "execution_count": 36,
     "metadata": {},
     "output_type": "execute_result"
    }
   ],
   "source": [
    "m.isnumeric()"
   ]
  },
  {
   "cell_type": "code",
   "execution_count": 41,
   "id": "c0195665",
   "metadata": {},
   "outputs": [
    {
     "name": "stdout",
     "output_type": "stream",
     "text": [
      "96\n"
     ]
    }
   ],
   "source": [
    "for m in lst_Mobile_Number:\n",
    "    print(str(m)[:2])\n",
    "    break"
   ]
  },
  {
   "cell_type": "code",
   "execution_count": 42,
   "id": "281b3880",
   "metadata": {},
   "outputs": [
    {
     "data": {
      "text/plain": [
       "'96'"
      ]
     },
     "execution_count": 42,
     "metadata": {},
     "output_type": "execute_result"
    }
   ],
   "source": [
    "str(m)[:2]"
   ]
  },
  {
   "cell_type": "code",
   "execution_count": 47,
   "id": "0926da70",
   "metadata": {},
   "outputs": [
    {
     "name": "stdout",
     "output_type": "stream",
     "text": [
      "9889269509 9926707369 9827383256 9817633466 9903397051 9982348049 9859473268 9866348642 "
     ]
    }
   ],
   "source": [
    "for m in lst_Mobile_Number:\n",
    "    if (len(str(m)) == 10 and str(m).isnumeric()) and (str(m)[:2] == \"99\" or str(m)[:2] == \"98\"):\n",
    "            print(m, end = \" \")"
   ]
  },
  {
   "cell_type": "code",
   "execution_count": 49,
   "id": "85f747e7",
   "metadata": {},
   "outputs": [
    {
     "ename": "AttributeError",
     "evalue": "'int' object has no attribute 'isnumeric'",
     "output_type": "error",
     "traceback": [
      "\u001b[1;31m---------------------------------------------------------------------------\u001b[0m",
      "\u001b[1;31mAttributeError\u001b[0m                            Traceback (most recent call last)",
      "Cell \u001b[1;32mIn[49], line 2\u001b[0m\n\u001b[0;32m      1\u001b[0m a \u001b[38;5;241m=\u001b[39m \u001b[38;5;241m10\u001b[39m\n\u001b[1;32m----> 2\u001b[0m \u001b[43ma\u001b[49m\u001b[38;5;241;43m.\u001b[39;49m\u001b[43misnumeric\u001b[49m()\n",
      "\u001b[1;31mAttributeError\u001b[0m: 'int' object has no attribute 'isnumeric'"
     ]
    }
   ],
   "source": []
  },
  {
   "cell_type": "code",
   "execution_count": 50,
   "id": "bd12688c",
   "metadata": {},
   "outputs": [
    {
     "name": "stdout",
     "output_type": "stream",
     "text": [
      "9889269509 9926707369 9827383256 9817633466 9903397051 9982348049 9859473268 9866348642 "
     ]
    }
   ],
   "source": [
    "for m in lst_Mobile_Number:\n",
    "    m1 = str(m)\n",
    "    if len(m1) == 10 and m1.isnumeric():\n",
    "        if m1[:2] == \"99\" or m1[:2] == \"98\":\n",
    "            print(m1, end = \" \")"
   ]
  },
  {
   "cell_type": "code",
   "execution_count": null,
   "id": "21c4cebf",
   "metadata": {},
   "outputs": [],
   "source": [
    "for m in lst_Mobile_Number:\n",
    "    if (len(str(m)) == 10 and str(m).isnumeric()) and (str(m)[:2] == \"99\" or str(m)[:2] == \"98\"):\n",
    "            print(m, end = \" \")"
   ]
  },
  {
   "cell_type": "code",
   "execution_count": 51,
   "id": "78c1bbf9",
   "metadata": {},
   "outputs": [
    {
     "data": {
      "text/plain": [
       "['9889269509',\n",
       " 9926707369,\n",
       " 9827383256,\n",
       " 9817633466,\n",
       " 9903397051,\n",
       " 9982348049,\n",
       " '9859473268',\n",
       " 9866348642]"
      ]
     },
     "execution_count": 51,
     "metadata": {},
     "output_type": "execute_result"
    }
   ],
   "source": [
    "[m for m in lst_Mobile_Number if (len(str(m)) == 10 and str(m).isnumeric()) and (str(m)[:2] == \"99\" or str(m)[:2] == \"98\")]"
   ]
  },
  {
   "cell_type": "markdown",
   "id": "08522204",
   "metadata": {},
   "source": [
    "### Note:\n",
    "\n",
    "Cell number 53 and 58, both answers having same execution but approach is different from each other."
   ]
  },
  {
   "cell_type": "code",
   "execution_count": 53,
   "id": "fabd03e5",
   "metadata": {},
   "outputs": [
    {
     "name": "stdout",
     "output_type": "stream",
     "text": [
      "Score 95: Grade A\n",
      "Score 84: Grade B\n",
      "Score 67: Grade C\n",
      "Score 59: Grade D\n",
      "Score 40: Grade D\n",
      "Score 75: Grade B\n",
      "Score 76: Grade B\n",
      "Score 88: Grade B\n",
      "Score 80: Grade B\n"
     ]
    }
   ],
   "source": [
    "scores = [95,84,67,59,40,75,76,88,80]\n",
    "for score in scores:\n",
    "    if score >= 90:\n",
    "        print(f\"Score {score}: Grade A\")\n",
    "    else:\n",
    "        if score >= 75:\n",
    "            print(f\"Score {score}: Grade B\")\n",
    "        else:\n",
    "            if score >= 60:\n",
    "                print(f\"Score {score}: Grade C\")\n",
    "            else:\n",
    "                print(f\"Score {score}: Grade D\")"
   ]
  },
  {
   "cell_type": "code",
   "execution_count": 54,
   "id": "ca4d0a0b",
   "metadata": {},
   "outputs": [
    {
     "data": {
      "text/plain": [
       "[95, 84, 67, 59, 40, 75, 76, 88, 80]"
      ]
     },
     "execution_count": 54,
     "metadata": {},
     "output_type": "execute_result"
    }
   ],
   "source": [
    "scores"
   ]
  },
  {
   "cell_type": "code",
   "execution_count": 58,
   "id": "5022314d",
   "metadata": {},
   "outputs": [
    {
     "name": "stdout",
     "output_type": "stream",
     "text": [
      "Grade A\n",
      "Grade B\n",
      "Grade C\n",
      "Grade D\n",
      "Grade D\n",
      "Grade B\n",
      "Grade B\n",
      "Grade B\n",
      "Grade B\n"
     ]
    }
   ],
   "source": [
    "for num in scores:\n",
    "    if num >= 90:\n",
    "        print(\"Grade A\")\n",
    "    elif num >= 75 and num < 90:\n",
    "        print(\"Grade B\")\n",
    "    elif num >= 60 and num < 75:\n",
    "        print(\"Grade C\")\n",
    "    else:\n",
    "        print(\"Grade D\")"
   ]
  },
  {
   "cell_type": "code",
   "execution_count": 60,
   "id": "2347d518",
   "metadata": {},
   "outputs": [],
   "source": [
    "basket = [\n",
    "    {\"item\" : 'apple', 'category' : 'fruit', \"price\" : 1},\n",
    "    {\"item\" : 'milk', 'category' : 'dairy', \"price\" : 2},\n",
    "    {\"item\" : \"bread\", \"category\" : \"bakery\", \"price\" : 3},\n",
    "    {\"item\" : \"cheese\", \"category\" : 'dairy', \"price\" : 5}\n",
    "]"
   ]
  },
  {
   "cell_type": "code",
   "execution_count": 61,
   "id": "26b8310b",
   "metadata": {},
   "outputs": [
    {
     "data": {
      "text/plain": [
       "[{'item': 'apple', 'category': 'fruit', 'price': 1},\n",
       " {'item': 'milk', 'category': 'dairy', 'price': 2},\n",
       " {'item': 'bread', 'category': 'bakery', 'price': 3},\n",
       " {'item': 'cheese', 'category': 'dairy', 'price': 5}]"
      ]
     },
     "execution_count": 61,
     "metadata": {},
     "output_type": "execute_result"
    }
   ],
   "source": [
    "basket"
   ]
  },
  {
   "cell_type": "code",
   "execution_count": 67,
   "id": "db95c3d4",
   "metadata": {},
   "outputs": [
    {
     "data": {
      "text/plain": [
       "'fruit'"
      ]
     },
     "execution_count": 67,
     "metadata": {},
     "output_type": "execute_result"
    }
   ],
   "source": [
    "basket[0]['category']"
   ]
  },
  {
   "cell_type": "code",
   "execution_count": 68,
   "id": "cf7e982d",
   "metadata": {},
   "outputs": [
    {
     "name": "stdout",
     "output_type": "stream",
     "text": [
      "apple is a fruit.\n",
      "milk is a dairy product and is affordable.\n",
      "bread belongs to other categories.\n",
      "cheese is a dairy product and is expensive\n"
     ]
    }
   ],
   "source": [
    "for item in basket:\n",
    "    if item['category'] == 'dairy':\n",
    "        if item['price'] > 3:\n",
    "            print(f\"{item['item']} is a dairy product and is expensive\")\n",
    "        else:\n",
    "            print(f\"{item['item']} is a dairy product and is affordable.\")\n",
    "    elif item['category'] == 'fruit':\n",
    "        print(f\"{item['item']} is a fruit.\")\n",
    "    else:\n",
    "        print(f\"{item['item']} belongs to other categories.\")"
   ]
  },
  {
   "cell_type": "code",
   "execution_count": 69,
   "id": "5c7eec08",
   "metadata": {},
   "outputs": [],
   "source": [
    "a = 10; b = 20"
   ]
  },
  {
   "cell_type": "code",
   "execution_count": 70,
   "id": "795b1acd",
   "metadata": {},
   "outputs": [
    {
     "name": "stdout",
     "output_type": "stream",
     "text": [
      "The value of a is : 10 The value of b is : 20\n"
     ]
    }
   ],
   "source": [
    "print(\"The value of a is :\", a, \"The value of b is :\", b)"
   ]
  },
  {
   "cell_type": "code",
   "execution_count": 71,
   "id": "94828791",
   "metadata": {},
   "outputs": [
    {
     "name": "stdout",
     "output_type": "stream",
     "text": [
      "The value of a and b is :  10 20\n"
     ]
    }
   ],
   "source": [
    "print(\"The value of a and b is : \", a, b)"
   ]
  },
  {
   "cell_type": "code",
   "execution_count": 73,
   "id": "dc4f5573",
   "metadata": {},
   "outputs": [
    {
     "name": "stdout",
     "output_type": "stream",
     "text": [
      "10\n",
      "20\n"
     ]
    }
   ],
   "source": [
    "print(a)\n",
    "print(b)"
   ]
  },
  {
   "cell_type": "code",
   "execution_count": 74,
   "id": "0dcf2960",
   "metadata": {},
   "outputs": [
    {
     "name": "stdout",
     "output_type": "stream",
     "text": [
      "The value of a is {} and b is {}\n"
     ]
    }
   ],
   "source": [
    "print(\"The value of a is {} and b is {}\")"
   ]
  },
  {
   "cell_type": "markdown",
   "id": "53eab66b",
   "metadata": {},
   "source": [
    "### F-String and Format String"
   ]
  },
  {
   "cell_type": "code",
   "execution_count": 76,
   "id": "05d57c43",
   "metadata": {},
   "outputs": [
    {
     "name": "stdout",
     "output_type": "stream",
     "text": [
      "The value of a is 10 and b is 20\n"
     ]
    }
   ],
   "source": [
    "print(f\"The value of a is {a} and b is {b}\")"
   ]
  },
  {
   "cell_type": "code",
   "execution_count": 77,
   "id": "453821dc",
   "metadata": {},
   "outputs": [
    {
     "data": {
      "text/plain": [
       "'dairy'"
      ]
     },
     "execution_count": 77,
     "metadata": {},
     "output_type": "execute_result"
    }
   ],
   "source": [
    "item['category']"
   ]
  },
  {
   "cell_type": "code",
   "execution_count": 80,
   "id": "516b4e7e",
   "metadata": {},
   "outputs": [
    {
     "name": "stdout",
     "output_type": "stream",
     "text": [
      "My category was dairy\n"
     ]
    }
   ],
   "source": [
    "print(f\"My category was {item['category']}\")"
   ]
  },
  {
   "cell_type": "code",
   "execution_count": 83,
   "id": "a7e453f1",
   "metadata": {},
   "outputs": [
    {
     "name": "stdout",
     "output_type": "stream",
     "text": [
      "The value of a is 10 and b is 20\n"
     ]
    }
   ],
   "source": [
    "print(\"The value of a is {0} and b is {1}\".format(a,b))"
   ]
  },
  {
   "cell_type": "code",
   "execution_count": 84,
   "id": "5881f287",
   "metadata": {},
   "outputs": [
    {
     "name": "stdout",
     "output_type": "stream",
     "text": [
      "The value of a is 20 and b is 10\n"
     ]
    }
   ],
   "source": [
    "print(\"The value of a is {1} and b is {0}\".format(a,b))"
   ]
  },
  {
   "cell_type": "markdown",
   "id": "052a8a8e",
   "metadata": {},
   "source": [
    "### Can you generate Prime number using For Loop between based on user's choice. user can choose lower number and higher number, in between lower and higher generate prime number"
   ]
  },
  {
   "cell_type": "markdown",
   "id": "76c24316",
   "metadata": {},
   "source": [
    "A prime can be divided completely by 1 or itself."
   ]
  },
  {
   "cell_type": "code",
   "execution_count": 90,
   "id": "ca0ada75",
   "metadata": {},
   "outputs": [
    {
     "name": "stdout",
     "output_type": "stream",
     "text": [
      "Enter a lower number: 10\n",
      "Enter a upper number: 15\n",
      "My Number:  10\n",
      "My Number:  11\n",
      "Prime Number:  11\n",
      "My Number:  12\n",
      "My Number:  13\n",
      "Prime Number:  13\n",
      "My Number:  14\n",
      "My Number:  15\n"
     ]
    }
   ],
   "source": [
    "lower = int(input(\"Enter a lower number: \"))\n",
    "upper = int(input(\"Enter a upper number: \"))\n",
    "is_Divisible = True # flag variable\n",
    "\n",
    "for num in range(lower, upper+1):\n",
    "    print(\"My Number: \" ,num)\n",
    "    for i in range(2, num):\n",
    "        if num % i == 0:\n",
    "            break\n",
    "    else:\n",
    "        print(\"Prime Number: \", num)"
   ]
  },
  {
   "cell_type": "code",
   "execution_count": 91,
   "id": "6d9642dc",
   "metadata": {},
   "outputs": [
    {
     "name": "stdout",
     "output_type": "stream",
     "text": [
      "2\n",
      "3\n",
      "4\n",
      "5\n",
      "6\n",
      "7\n",
      "8\n",
      "9\n",
      "10\n"
     ]
    }
   ],
   "source": [
    "for i in range(2,11):\n",
    "    print(i)"
   ]
  },
  {
   "cell_type": "code",
   "execution_count": 92,
   "id": "289e4427",
   "metadata": {},
   "outputs": [
    {
     "data": {
      "text/plain": [
       "10"
      ]
     },
     "execution_count": 92,
     "metadata": {},
     "output_type": "execute_result"
    }
   ],
   "source": [
    "i"
   ]
  },
  {
   "cell_type": "code",
   "execution_count": 93,
   "id": "a92e9702",
   "metadata": {},
   "outputs": [
    {
     "data": {
      "text/plain": [
       "15"
      ]
     },
     "execution_count": 93,
     "metadata": {},
     "output_type": "execute_result"
    }
   ],
   "source": [
    "num"
   ]
  },
  {
   "cell_type": "code",
   "execution_count": 94,
   "id": "c9e0646b",
   "metadata": {},
   "outputs": [
    {
     "name": "stdout",
     "output_type": "stream",
     "text": [
      "K\n",
      "a\n",
      "r\n",
      "a\n",
      "n\n"
     ]
    }
   ],
   "source": [
    "for char in list(\"Karan\"):\n",
    "    print(char)"
   ]
  },
  {
   "cell_type": "code",
   "execution_count": 95,
   "id": "2965d480",
   "metadata": {},
   "outputs": [
    {
     "data": {
      "text/plain": [
       "'n'"
      ]
     },
     "execution_count": 95,
     "metadata": {},
     "output_type": "execute_result"
    }
   ],
   "source": [
    "char"
   ]
  },
  {
   "cell_type": "code",
   "execution_count": 99,
   "id": "0384f1b9",
   "metadata": {},
   "outputs": [
    {
     "name": "stdout",
     "output_type": "stream",
     "text": [
      "Enter a lower number: 10\n",
      "Enter a upper number: 19\n",
      "2 5 2 3 4 6 2 7 3 5 2 4 8 2 3 6 9 "
     ]
    }
   ],
   "source": [
    "lower = int(input(\"Enter a lower number: \"))\n",
    "upper = int(input(\"Enter a upper number: \"))\n",
    "\n",
    "for num in range(lower, upper+1):\n",
    "    for i in range(2, num):\n",
    "        if num % i == 0:\n",
    "            print(i, end = \" \")\n",
    "    else:\n",
    "        print(num)"
   ]
  },
  {
   "cell_type": "code",
   "execution_count": null,
   "id": "4d5cffd6",
   "metadata": {},
   "outputs": [],
   "source": [
    "for num in range(10, 19):\n",
    "    for i in range(2, num):\n",
    "        if num % i == 0:\n",
    "            print(i, end = \" \")\n",
    "        else:\n",
    "            print(num)\n",
    "    else:\n",
    "        print(num)"
   ]
  },
  {
   "cell_type": "code",
   "execution_count": 100,
   "id": "a9e8d39b",
   "metadata": {},
   "outputs": [
    {
     "name": "stdout",
     "output_type": "stream",
     "text": [
      "10\n",
      "11\n",
      "34\n",
      "56\n",
      "7\n",
      "8\n",
      "No number left in the list.\n"
     ]
    }
   ],
   "source": [
    "num = [10,11,34,56,7,8]\n",
    "for i in num:\n",
    "    print(i)\n",
    "else:\n",
    "    print(\"No number left in the list.\")"
   ]
  },
  {
   "cell_type": "code",
   "execution_count": 101,
   "id": "d3625bfd",
   "metadata": {},
   "outputs": [
    {
     "name": "stdout",
     "output_type": "stream",
     "text": [
      "1\n",
      "2\n",
      "3\n",
      "4\n",
      "5\n",
      "6\n",
      "7\n",
      "8\n",
      "9\n",
      "10\n",
      "Loop terminated\n"
     ]
    }
   ],
   "source": [
    "i = 1\n",
    "while i <= 10:\n",
    "    print(i)\n",
    "    i = i + 1\n",
    "else:\n",
    "    print(\"Loop terminated\")"
   ]
  },
  {
   "cell_type": "markdown",
   "id": "42411f69",
   "metadata": {},
   "source": [
    "### Python programming\n",
    "\n",
    "Else : can be utlized with if and with loop concept"
   ]
  },
  {
   "cell_type": "code",
   "execution_count": 104,
   "id": "6acd53a6",
   "metadata": {},
   "outputs": [
    {
     "name": "stdout",
     "output_type": "stream",
     "text": [
      "Please enter a number: 31\n",
      "31 is not a prime number.\n"
     ]
    }
   ],
   "source": [
    "# check prime number or not, if the number is not a prime number then generate its factors\n",
    "\n",
    "num = int(input(\"Please enter a number: \"))\n",
    "isDivisible = False\n",
    "i = 2\n",
    "while i < num:\n",
    "    if num % i == 0:\n",
    "        isDivisible = True\n",
    "        print(f\"{num} is divisible by {i}.\")\n",
    "    i = i + 1\n",
    "if isDivisible:\n",
    "    print(f\"{num} is not a prime number.\")\n",
    "else:\n",
    "    print(f\"{num} is a prime number.\")"
   ]
  },
  {
   "cell_type": "code",
   "execution_count": 113,
   "id": "60bbdf30",
   "metadata": {},
   "outputs": [
    {
     "name": "stdout",
     "output_type": "stream",
     "text": [
      "   November 2024\n",
      "Mo Tu We Th Fr Sa Su\n",
      "             1  2  3\n",
      " 4  5  6  7  8  9 10\n",
      "11 12 13 14 15 16 17\n",
      "18 19 20 21 22 23 24\n",
      "25 26 27 28 29 30\n",
      "\n"
     ]
    }
   ],
   "source": [
    "import calendar\n",
    "print(calendar.month(2024,11))\n",
    "\n",
    "isDivisble = False\n",
    "\n",
    "# 1st of Nov: 5KM, <= 20 Minutes : isDivisble = True"
   ]
  },
  {
   "cell_type": "code",
   "execution_count": 111,
   "id": "fd22230b",
   "metadata": {},
   "outputs": [
    {
     "name": "stdout",
     "output_type": "stream",
     "text": [
      "Please enter a number: 10\n",
      "10 is divisible by 2.\n",
      "10 is divisible by 5.\n",
      "10 is not a prime number.\n"
     ]
    }
   ],
   "source": [
    "# check prime number or not, if the number is not a prime number then generate its factors\n",
    "\n",
    "num = int(input(\"Please enter a number: \"))\n",
    "isDivisible = \"Fail\"\n",
    "i = 2\n",
    "while i < num:\n",
    "    if num % i == 0:\n",
    "        isDivisible = \"Pass\"\n",
    "        print(f\"{num} is divisible by {i}.\")\n",
    "    i = i + 1\n",
    "if isDivisible == \"Pass\":\n",
    "    print(f\"{num} is not a prime number.\")\n",
    "else:\n",
    "    print(f\"{num} is a prime number.\")"
   ]
  },
  {
   "cell_type": "code",
   "execution_count": 110,
   "id": "914901fe",
   "metadata": {},
   "outputs": [
    {
     "data": {
      "text/plain": [
       "'Fail'"
      ]
     },
     "execution_count": 110,
     "metadata": {},
     "output_type": "execute_result"
    }
   ],
   "source": [
    "isDivisible"
   ]
  },
  {
   "cell_type": "code",
   "execution_count": 112,
   "id": "7b50dbf8",
   "metadata": {},
   "outputs": [
    {
     "data": {
      "text/plain": [
       "'Pass'"
      ]
     },
     "execution_count": 112,
     "metadata": {},
     "output_type": "execute_result"
    }
   ],
   "source": [
    "isDivisible"
   ]
  },
  {
   "cell_type": "markdown",
   "id": "fd9dc284",
   "metadata": {},
   "source": [
    "### Range Function and few example of While Loop\n",
    "### In Class Exercise\n",
    "### List Comprehension"
   ]
  },
  {
   "cell_type": "markdown",
   "id": "8dfddcd9",
   "metadata": {},
   "source": [
    "### Python Range Function\n",
    "\n",
    "* Starts Position\n",
    "* Ends Position (always exclusive)\n",
    "* Step Size"
   ]
  },
  {
   "cell_type": "code",
   "execution_count": 114,
   "id": "82a3fdda",
   "metadata": {},
   "outputs": [
    {
     "data": {
      "text/plain": [
       "range(0, 5)"
      ]
     },
     "execution_count": 114,
     "metadata": {},
     "output_type": "execute_result"
    }
   ],
   "source": [
    "range(5)"
   ]
  },
  {
   "cell_type": "code",
   "execution_count": 115,
   "id": "dc6b3fa2",
   "metadata": {},
   "outputs": [
    {
     "data": {
      "text/plain": [
       "[0, 1, 2, 3, 4]"
      ]
     },
     "execution_count": 115,
     "metadata": {},
     "output_type": "execute_result"
    }
   ],
   "source": [
    "list(range(5))"
   ]
  },
  {
   "cell_type": "code",
   "execution_count": 116,
   "id": "b2f22aca",
   "metadata": {},
   "outputs": [
    {
     "data": {
      "text/plain": [
       "[2, 3, 4, 5, 6, 7, 8, 9]"
      ]
     },
     "execution_count": 116,
     "metadata": {},
     "output_type": "execute_result"
    }
   ],
   "source": [
    "list(range(2,10))"
   ]
  },
  {
   "cell_type": "code",
   "execution_count": 117,
   "id": "dadd4103",
   "metadata": {},
   "outputs": [
    {
     "data": {
      "text/plain": [
       "[2, 3, 4, 5, 6, 7, 8, 9]"
      ]
     },
     "execution_count": 117,
     "metadata": {},
     "output_type": "execute_result"
    }
   ],
   "source": [
    "list(range(2,10,1))"
   ]
  },
  {
   "cell_type": "code",
   "execution_count": 118,
   "id": "3a4dacbe",
   "metadata": {},
   "outputs": [
    {
     "data": {
      "text/plain": [
       "[2, 5, 8, 11, 14, 17]"
      ]
     },
     "execution_count": 118,
     "metadata": {},
     "output_type": "execute_result"
    }
   ],
   "source": [
    "list(range(2,20,3))"
   ]
  },
  {
   "cell_type": "code",
   "execution_count": 120,
   "id": "7352c071",
   "metadata": {},
   "outputs": [
    {
     "data": {
      "text/plain": [
       "[20, 19, 18, 17, 16, 15, 14, 13, 12, 11, 10, 9, 8, 7, 6, 5, 4, 3, 2, 1]"
      ]
     },
     "execution_count": 120,
     "metadata": {},
     "output_type": "execute_result"
    }
   ],
   "source": [
    "list(range(20,0,-1))"
   ]
  },
  {
   "cell_type": "markdown",
   "id": "4bb18621",
   "metadata": {},
   "source": [
    "### While Loop\n",
    "\n",
    "This is the loop first checks the condition then print the statment"
   ]
  },
  {
   "cell_type": "code",
   "execution_count": 121,
   "id": "7fff4956",
   "metadata": {},
   "outputs": [],
   "source": [
    "lst = [1,4,6,1,2,2]"
   ]
  },
  {
   "cell_type": "code",
   "execution_count": 122,
   "id": "388a9ca5",
   "metadata": {},
   "outputs": [],
   "source": [
    "i = 0; product = 1\n",
    "while i < len(lst):\n",
    "    product = product * lst[i]\n",
    "    i =  i + 1"
   ]
  },
  {
   "cell_type": "code",
   "execution_count": 123,
   "id": "56616b99",
   "metadata": {},
   "outputs": [
    {
     "data": {
      "text/plain": [
       "96"
      ]
     },
     "execution_count": 123,
     "metadata": {},
     "output_type": "execute_result"
    }
   ],
   "source": [
    "product"
   ]
  },
  {
   "cell_type": "code",
   "execution_count": 125,
   "id": "184a9774",
   "metadata": {},
   "outputs": [],
   "source": [
    "lstOfNumber = [10,20,44,55,67,89,76,34,45,13,37,79,56,78,34,55,77,89]"
   ]
  },
  {
   "cell_type": "code",
   "execution_count": 131,
   "id": "4166c7ac",
   "metadata": {},
   "outputs": [],
   "source": [
    "odd = []; even = []\n",
    "i = 0\n",
    "while i < len(lstOfNumber):\n",
    "    if lstOfNumber[i] % 2 == 0:\n",
    "        even.append(lstOfNumber[i])\n",
    "    else:\n",
    "        odd.append(lstOfNumber[i])\n",
    "    i = i + 1"
   ]
  },
  {
   "cell_type": "code",
   "execution_count": 132,
   "id": "172c6e1b",
   "metadata": {},
   "outputs": [
    {
     "data": {
      "text/plain": [
       "[10, 20, 44, 76, 34, 56, 78, 34]"
      ]
     },
     "execution_count": 132,
     "metadata": {},
     "output_type": "execute_result"
    }
   ],
   "source": [
    "even"
   ]
  },
  {
   "cell_type": "code",
   "execution_count": 133,
   "id": "6b029b4e",
   "metadata": {},
   "outputs": [
    {
     "data": {
      "text/plain": [
       "[55, 67, 89, 45, 13, 37, 79, 55, 77, 89]"
      ]
     },
     "execution_count": 133,
     "metadata": {},
     "output_type": "execute_result"
    }
   ],
   "source": [
    "odd"
   ]
  },
  {
   "cell_type": "code",
   "execution_count": 136,
   "id": "abfabab2",
   "metadata": {},
   "outputs": [
    {
     "name": "stdout",
     "output_type": "stream",
     "text": [
      "89 77 55 34 78 56 79 37 13 45 34 76 89 67 55 44 20 10 "
     ]
    }
   ],
   "source": [
    "lst = [10,20,44,55,67,89,76,34,45,13,37,79,56,78,34,55,77,89]\n",
    "i = len(lst) - 1\n",
    "while i >= 0:\n",
    "    print(lst[i], end = \" \")\n",
    "    i = i - 1"
   ]
  },
  {
   "cell_type": "code",
   "execution_count": 148,
   "id": "352a839a",
   "metadata": {},
   "outputs": [
    {
     "name": "stdout",
     "output_type": "stream",
     "text": [
      "Please enter a number: 284\n",
      "284 is not a prime number.\n"
     ]
    }
   ],
   "source": [
    "num = int(input(\"Please enter a number: \"))\n",
    "amicable1 = []\n",
    "isDivisible = \"Fail\"\n",
    "i = 1\n",
    "while i < num:\n",
    "    if num % i == 0:\n",
    "        isDivisible = \"Pass\"\n",
    "        amicable1.append(i)\n",
    "        \n",
    "    i = i + 1\n",
    "if isDivisible == \"Pass\":\n",
    "    print(f\"{num} is not a prime number.\")\n",
    "else:\n",
    "    print(f\"{num} is a prime number.\")"
   ]
  },
  {
   "cell_type": "code",
   "execution_count": 146,
   "id": "02ae1d29",
   "metadata": {},
   "outputs": [
    {
     "name": "stdout",
     "output_type": "stream",
     "text": [
      "[1, 2, 4, 5, 10, 11, 20, 22, 44, 55, 110]\n"
     ]
    }
   ],
   "source": [
    "print(amicable)"
   ]
  },
  {
   "cell_type": "code",
   "execution_count": 147,
   "id": "f5a71a38",
   "metadata": {},
   "outputs": [
    {
     "data": {
      "text/plain": [
       "284"
      ]
     },
     "execution_count": 147,
     "metadata": {},
     "output_type": "execute_result"
    }
   ],
   "source": [
    "sum(amicable)"
   ]
  },
  {
   "cell_type": "code",
   "execution_count": 149,
   "id": "d77a7c06",
   "metadata": {},
   "outputs": [
    {
     "name": "stdout",
     "output_type": "stream",
     "text": [
      "[1, 2, 4, 71, 142]\n"
     ]
    }
   ],
   "source": [
    "print(amicable1)"
   ]
  },
  {
   "cell_type": "code",
   "execution_count": 150,
   "id": "6506e388",
   "metadata": {},
   "outputs": [
    {
     "data": {
      "text/plain": [
       "220"
      ]
     },
     "execution_count": 150,
     "metadata": {},
     "output_type": "execute_result"
    }
   ],
   "source": [
    "sum(amicable1)"
   ]
  },
  {
   "cell_type": "code",
   "execution_count": 151,
   "id": "e28b3752",
   "metadata": {},
   "outputs": [
    {
     "data": {
      "text/plain": [
       "284"
      ]
     },
     "execution_count": 151,
     "metadata": {},
     "output_type": "execute_result"
    }
   ],
   "source": [
    "sum(amicable)"
   ]
  },
  {
   "cell_type": "code",
   "execution_count": 156,
   "id": "0ba6acc4",
   "metadata": {},
   "outputs": [
    {
     "name": "stdout",
     "output_type": "stream",
     "text": [
      "Enter the first number: 220\n",
      "Enter the second number: 284\n",
      "1\n",
      "2\n",
      "4\n",
      "5\n",
      "10\n",
      "11\n",
      "20\n",
      "22\n",
      "44\n",
      "55\n",
      "110\n",
      "1\n",
      "2\n",
      "4\n",
      "71\n",
      "142\n",
      "the numbers 220 and 284 are amicable.\n",
      "284 220\n"
     ]
    }
   ],
   "source": [
    "num1 = int(input(\"Enter the first number: \"))\n",
    "num2 = int(input(\"Enter the second number: \"))\n",
    "sum_factor_1 = 0\n",
    "sum_factor_2 = 0\n",
    "\n",
    "for i in range(1, num1):\n",
    "    if num1 % i == 0:\n",
    "        sum_factor_1 = sum_factor_1 + i\n",
    "        print(i)\n",
    "        \n",
    "for j in range(1, num2):\n",
    "    if num2 % j == 0:\n",
    "        sum_factor_2 = sum_factor_2 + j\n",
    "        print(j)\n",
    "        \n",
    "if (sum_factor_1 == num2 and sum_factor_2 == num1):\n",
    "    print(f\"the numbers {num1} and {num2} are amicable.\")\n",
    "else:\n",
    "    print(f\"the numbers {num1} and {num2} are not amicable.\")\n",
    "    \n",
    "print(sum_factor_1, sum_factor_2)"
   ]
  },
  {
   "cell_type": "code",
   "execution_count": null,
   "id": "ee1606bc",
   "metadata": {},
   "outputs": [],
   "source": []
  }
 ],
 "metadata": {
  "kernelspec": {
   "display_name": "Python 3 (ipykernel)",
   "language": "python",
   "name": "python3"
  },
  "language_info": {
   "codemirror_mode": {
    "name": "ipython",
    "version": 3
   },
   "file_extension": ".py",
   "mimetype": "text/x-python",
   "name": "python",
   "nbconvert_exporter": "python",
   "pygments_lexer": "ipython3",
   "version": "3.11.2"
  }
 },
 "nbformat": 4,
 "nbformat_minor": 5
}
