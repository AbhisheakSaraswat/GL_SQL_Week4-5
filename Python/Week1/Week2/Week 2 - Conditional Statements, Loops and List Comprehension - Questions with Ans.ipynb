{
 "cells": [
  {
   "cell_type": "markdown",
   "metadata": {
    "id": "dF23ZVi-Cqwk"
   },
   "source": [
    "<table align=\"center\" width=100%>\n",
    "    <tr>\n",
    "        <td width=\"20%\">\n",
    "            <img src=\"in_class.png\">\n",
    "        </td>\n",
    "        <td>\n",
    "            <div align=\"center\">\n",
    "                <font color=\"#21618C\" size=8px>\n",
    "                    <b> Inclass-Lab<br>(Week 2)\n",
    "                    </b>\n",
    "                </font>\n",
    "            </div>\n",
    "        </td>\n",
    "        <td width=\"25%\">\n",
    "            <img src=\"NEW_GL_Logo.png\">\n",
    "        </td>\n",
    "    </tr>\n",
    "</table>"
   ]
  },
  {
   "cell_type": "markdown",
   "metadata": {
    "id": "qDpa-LJ8Cqwp"
   },
   "source": [
    "##  Table of Content\n",
    "\n",
    "1. **[Conditional Statements](#cond)**\n",
    "2. **[Loops](#loop)**\n",
    "3. **[List Comprehensions](#comp)**"
   ]
  },
  {
   "cell_type": "markdown",
   "metadata": {
    "id": "yQNuTJXuCqwp"
   },
   "source": [
    "### Let's begin with some hands-on practice exercises"
   ]
  },
  {
   "cell_type": "markdown",
   "metadata": {},
   "source": [
    "<a id=\"cond\"> </a>\n",
    "## 1. Conditional Statements"
   ]
  },
  {
   "cell_type": "markdown",
   "metadata": {},
   "source": [
    "<table align=\"left\">\n",
    "    <tr>\n",
    "        <td width=\"6%\">\n",
    "            <img src=\"question_icon.png\">\n",
    "        </td>\n",
    "        <td>\n",
    "            <div align=\"left\", style=\"font-size:120%\">\n",
    "                <font color=\"#21618C\">\n",
    "                    <b>1. Write a code to print the maximum of two numbers (use if-else)</b>\n",
    "                </font>\n",
    "            </div>\n",
    "        </td>\n",
    "    </tr>\n",
    "</table>"
   ]
  },
  {
   "cell_type": "code",
   "execution_count": 2,
   "metadata": {},
   "outputs": [
    {
     "name": "stdout",
     "output_type": "stream",
     "text": [
      "Num2 is the maximum number. 150\n"
     ]
    }
   ],
   "source": [
    "# type your code here\n",
    "num1 = 100; num2 = 150\n",
    "\n",
    "if num1 > num2:\n",
    "    print(f\"Num1 is the maximum number. {num1}\")\n",
    "elif num1 == num2:\n",
    "    print(\"Both number are same\")\n",
    "else:\n",
    "    print(f\"Num2 is the maximum number. {num2}\")"
   ]
  },
  {
   "cell_type": "markdown",
   "metadata": {},
   "source": [
    "<table align=\"left\">\n",
    "    <tr>\n",
    "        <td width=\"6%\">\n",
    "            <img src=\"question_icon.png\">\n",
    "        </td>\n",
    "        <td>\n",
    "            <div align=\"left\", style=\"font-size:120%\">\n",
    "                <font color=\"#21618C\">\n",
    "                    <b>2. Write a program to check whether a number is positive, negative or zero (use if-elif) </b>\n",
    "                </font>\n",
    "            </div>\n",
    "        </td>\n",
    "    </tr>\n",
    "</table>"
   ]
  },
  {
   "cell_type": "code",
   "execution_count": null,
   "metadata": {},
   "outputs": [],
   "source": [
    "# type your code here\n"
   ]
  },
  {
   "cell_type": "markdown",
   "metadata": {},
   "source": [
    "<a id= \"loop\"> </a>\n",
    "## 2. Loops"
   ]
  },
  {
   "cell_type": "markdown",
   "metadata": {},
   "source": [
    "<table align=\"left\">\n",
    "    <tr>\n",
    "        <td width=\"6%\">\n",
    "            <img src=\"question_icon.png\">\n",
    "        </td>\n",
    "        <td>\n",
    "            <div align=\"left\", style=\"font-size:120%\">\n",
    "                <font color=\"#21618C\">\n",
    "                    <b>3. Write a program for generating a fibonacci series starting with 0 and 1 for the next 10 values using a while loop. </b>\n",
    "                </font>\n",
    "            </div>\n",
    "        </td>\n",
    "    </tr>\n",
    "</table>"
   ]
  },
  {
   "cell_type": "code",
   "execution_count": 7,
   "metadata": {},
   "outputs": [
    {
     "name": "stdout",
     "output_type": "stream",
     "text": [
      "[0, 1, 1, 2, 3, 5, 8, 13, 21, 34, 55, 89]\n"
     ]
    }
   ],
   "source": [
    "# type your code here\n",
    "# [0,1,1,2,3,5,8,13,21,34,55,89]\n",
    "\n",
    "a = 0; b = 1\n",
    "fibo = [a,b]\n",
    "i = 1\n",
    "while i < 11:\n",
    "    c = a + b\n",
    "    a = b\n",
    "    b = c\n",
    "    i = i + 1\n",
    "    fibo.append(b)\n",
    "    \n",
    "print(fibo)"
   ]
  },
  {
   "cell_type": "code",
   "execution_count": 10,
   "metadata": {},
   "outputs": [
    {
     "name": "stdout",
     "output_type": "stream",
     "text": [
      "[0, 1, 1, 2, 3, 5, 8, 13, 21, 34, 55, 89]\n"
     ]
    }
   ],
   "source": [
    "# type your code here\n",
    "# [0,1,1,2,3,5,8,13,21,34,55,89]\n",
    "\n",
    "a = 0; b = 1\n",
    "fibo = [a,b]\n",
    "i = 1\n",
    "while i <= 10:\n",
    "    c = a + b\n",
    "    a = b\n",
    "    b = c\n",
    "    i = i + 1\n",
    "    fibo.append(b)\n",
    "    \n",
    "print(fibo)"
   ]
  },
  {
   "cell_type": "markdown",
   "metadata": {},
   "source": [
    "### Rishab"
   ]
  },
  {
   "cell_type": "code",
   "execution_count": 13,
   "metadata": {},
   "outputs": [],
   "source": [
    "a = 0 ; b = 1\n",
    "fibo = [a,b]\n",
    "i =1\n",
    "while i <11:\n",
    "    c = a+b\n",
    "    a = b\n",
    "    b = c\n",
    "    i = i+1 \n",
    "fibo.append(b)"
   ]
  },
  {
   "cell_type": "code",
   "execution_count": 14,
   "metadata": {},
   "outputs": [
    {
     "data": {
      "text/plain": [
       "[0, 1, 89]"
      ]
     },
     "execution_count": 14,
     "metadata": {},
     "output_type": "execute_result"
    }
   ],
   "source": [
    "fibo"
   ]
  },
  {
   "cell_type": "code",
   "execution_count": 17,
   "metadata": {},
   "outputs": [
    {
     "name": "stdout",
     "output_type": "stream",
     "text": [
      "[0, 1, 1, 2, 3, 5, 8, 13, 21, 34, 55, 89]\n"
     ]
    }
   ],
   "source": [
    "a = 0 ; b = 1\n",
    "fibo = [a,b]\n",
    "i =1\n",
    "while i <11:\n",
    "    c = a+b\n",
    "    a = b\n",
    "    b = c\n",
    "    i = i+1 \n",
    "    fibo.append(b)\n",
    "print(fibo)"
   ]
  },
  {
   "cell_type": "markdown",
   "metadata": {},
   "source": [
    "<table align=\"left\">\n",
    "    <tr>\n",
    "        <td width=\"6%\">\n",
    "            <img src=\"question_icon.png\">\n",
    "        </td>\n",
    "        <td>\n",
    "            <div align=\"left\", style=\"font-size:120%\">\n",
    "                <font color=\"#21618C\">\n",
    "                    <b>4. Write a code to find factorial of a number (take the input from user). </b>\n",
    "                </font>\n",
    "            </div>\n",
    "        </td>\n",
    "    </tr>\n",
    "</table>"
   ]
  },
  {
   "cell_type": "code",
   "execution_count": 12,
   "metadata": {},
   "outputs": [
    {
     "name": "stdout",
     "output_type": "stream",
     "text": [
      "Enter a number: 5\n",
      "The factorial of 5 is 120\n"
     ]
    }
   ],
   "source": [
    "# type your code here\n",
    "num = int(input(\"Enter a number: \"))\n",
    "fact = 1\n",
    "if num < 0:\n",
    "    print(\"Sorry, factorial does not exist for negative number.\")\n",
    "elif num == 0:\n",
    "    print(\"The factorial of 0 is 1.\")\n",
    "else:\n",
    "    for i in range(1, num + 1):\n",
    "        fact = fact * i\n",
    "    print(f\"The factorial of {num} is {fact}\")"
   ]
  },
  {
   "cell_type": "markdown",
   "metadata": {},
   "source": [
    "<table align=\"left\">\n",
    "    <tr>\n",
    "        <td width=\"6%\">\n",
    "            <img src=\"question_icon.png\">\n",
    "        </td>\n",
    "        <td>\n",
    "            <div align=\"left\", style=\"font-size:120%\">\n",
    "                <font color=\"#21618C\">\n",
    "                    <b>5. Write a program to check whether a number is prime or not (take the input from user).</b>\n",
    "                </font>\n",
    "            </div>\n",
    "        </td>\n",
    "    </tr>\n",
    "</table>"
   ]
  },
  {
   "cell_type": "markdown",
   "metadata": {},
   "source": [
    "# type your code here\n",
    "# already solve\n",
    "# Strongly watch this:\n",
    "\n",
    "# develop a game using python programming based on while loop and nested structure\n",
    "https://youtu.be/VauAiVixICU?si=N9t7rTNZMKppsd0a\n"
   ]
  },
  {
   "cell_type": "markdown",
   "metadata": {},
   "source": [
    "<table align=\"left\">\n",
    "    <tr>\n",
    "        <td width=\"6%\">\n",
    "            <img src=\"question_icon.png\">\n",
    "        </td>\n",
    "        <td>\n",
    "            <div align=\"left\", style=\"font-size:120%\">\n",
    "                <font color=\"#21618C\">\n",
    "                    <b>6. Write a program to check whether two numbers are amicable or not (take the input from user).</b>\n",
    "                </font>\n",
    "            </div>\n",
    "        </td>\n",
    "    </tr>\n",
    "</table>"
   ]
  },
  {
   "cell_type": "code",
   "execution_count": 18,
   "metadata": {},
   "outputs": [
    {
     "name": "stdout",
     "output_type": "stream",
     "text": [
      "Enter the first number: 220\n",
      "Enter the second number: 284\n",
      "1\n",
      "2\n",
      "4\n",
      "5\n",
      "10\n",
      "11\n",
      "20\n",
      "22\n",
      "44\n",
      "55\n",
      "110\n",
      "1\n",
      "2\n",
      "4\n",
      "71\n",
      "142\n",
      "the numbers 220 and 284 are amicable.\n",
      "284 220\n"
     ]
    }
   ],
   "source": [
    "# type your code here\n",
    "num1 = int(input(\"Enter the first number: \"))\n",
    "num2 = int(input(\"Enter the second number: \"))\n",
    "sum_factor_1 = 0\n",
    "sum_factor_2 = 0\n",
    "\n",
    "for i in range(1, num1):\n",
    "    if num1 % i == 0:\n",
    "        sum_factor_1 = sum_factor_1 + i\n",
    "        print(i)\n",
    "        \n",
    "for j in range(1, num2):\n",
    "    if num2 % j == 0:\n",
    "        sum_factor_2 = sum_factor_2 + j\n",
    "        print(j)\n",
    "        \n",
    "if (sum_factor_1 == num2 and sum_factor_2 == num1):\n",
    "    print(f\"the numbers {num1} and {num2} are amicable.\")\n",
    "else:\n",
    "    print(f\"the numbers {num1} and {num2} are not amicable.\")\n",
    "    \n",
    "print(sum_factor_1, sum_factor_2)"
   ]
  },
  {
   "cell_type": "markdown",
   "metadata": {},
   "source": [
    "<a id= \"lc\"> </a>\n",
    "## 2. List Comprehension"
   ]
  },
  {
   "cell_type": "markdown",
   "metadata": {},
   "source": [
    "<table align=\"left\">\n",
    "    <tr>\n",
    "        <td width=\"6%\">\n",
    "            <img src=\"question_icon.png\">\n",
    "        </td>\n",
    "        <td>\n",
    "            <div align=\"left\", style=\"font-size:120%\">\n",
    "                <font color=\"#21618C\">\n",
    "                    <b>7. Use list comprehension to find the used vowels in a given sentence and/or word (take the input from user). </b>\n",
    "                </font>\n",
    "            </div>\n",
    "        </td>\n",
    "    </tr>\n",
    "</table>"
   ]
  },
  {
   "cell_type": "code",
   "execution_count": 19,
   "metadata": {},
   "outputs": [
    {
     "name": "stdout",
     "output_type": "stream",
     "text": [
      "Enter a word or phrase: We are learning Python programming.\n",
      "e\n",
      "a\n",
      "e\n",
      "e\n",
      "a\n",
      "i\n",
      "o\n",
      "o\n",
      "a\n",
      "i\n"
     ]
    }
   ],
   "source": [
    "s = input(\"Enter a word or phrase: \")\n",
    "for vowels in s:\n",
    "    if vowels.lower() in [\"a\",'e','i','o','u']:\n",
    "        print(vowels)"
   ]
  },
  {
   "cell_type": "code",
   "execution_count": 24,
   "metadata": {},
   "outputs": [
    {
     "name": "stdout",
     "output_type": "stream",
     "text": [
      "Enter a word or phrase: great learning\n"
     ]
    },
    {
     "data": {
      "text/plain": [
       "['e', 'a', 'e', 'a', 'i']"
      ]
     },
     "execution_count": 24,
     "metadata": {},
     "output_type": "execute_result"
    }
   ],
   "source": [
    "s = input(\"Enter a word or phrase: \")\n",
    "[vowels for vowels in s if vowels.lower() in [\"a\",'e','i','o','u'] ]"
   ]
  },
  {
   "cell_type": "markdown",
   "metadata": {},
   "source": [
    "<table align=\"left\">\n",
    "    <tr>\n",
    "        <td width=\"6%\">\n",
    "            <img src=\"question_icon.png\">\n",
    "        </td>\n",
    "        <td>\n",
    "            <div align=\"left\", style=\"font-size:120%\">\n",
    "                <font color=\"#21618C\">\n",
    "                    <b>8. Create a dictionary and access it values using a condition on its key. The data is given below. Let the condidtion on the key is that it should be a even number.</b>\n",
    "                </font>\n",
    "            </div>\n",
    "       </td>\n",
    "    </tr>\n",
    "</table>\n"
   ]
  },
  {
   "cell_type": "markdown",
   "metadata": {},
   "source": [
    "<table>\n",
    "<tr>\n",
    "    <th>Key</th>\n",
    "    <td>1</td>\n",
    "    <td>2</td>\n",
    "    <td>3</td>\n",
    "    <td>4</td>\n",
    "    <td>5</td>\n",
    "</tr>\n",
    "<tr>\n",
    "    <th>Name</th>\n",
    "    <td>Aman</td>\n",
    "    <td>Mohit</td>\n",
    "    <td>Gauri</td>\n",
    "    <td>Imran</td>\n",
    "    <td>Roma</td\n",
    "     </tr>\n",
    "<tr>\n",
    "    <th>Marks</th>\n",
    "    <td>24</td>\n",
    "    <td>25</td>\n",
    "    <td>26</td>\n",
    "    <td>24</td>\n",
    "    <td>27</td>\n",
    "   </tr>\n",
    "</table>"
   ]
  },
  {
   "cell_type": "code",
   "execution_count": 27,
   "metadata": {},
   "outputs": [
    {
     "data": {
      "text/plain": [
       "{1: ['Aman', 24],\n",
       " 2: ['Mohit', 25],\n",
       " 3: ['Gauri', 26],\n",
       " 4: ['Imran', 24],\n",
       " 5: ['Roma', 27]}"
      ]
     },
     "execution_count": 27,
     "metadata": {},
     "output_type": "execute_result"
    }
   ],
   "source": [
    "# type your code here\n",
    "data = {1:['Aman',24], 2 : ['Mohit',25], 3:[\"Gauri\",26],4 :[\"Imran\",24],5:['Roma',27]}\n",
    "data"
   ]
  },
  {
   "cell_type": "code",
   "execution_count": 31,
   "metadata": {},
   "outputs": [
    {
     "name": "stdout",
     "output_type": "stream",
     "text": [
      "{2: ['Mohit', 25]}\n",
      "{4: ['Imran', 24]}\n"
     ]
    }
   ],
   "source": [
    "for key, values in data.items():\n",
    "    if key % 2 == 0:\n",
    "        print({key:values})"
   ]
  },
  {
   "cell_type": "code",
   "execution_count": 33,
   "metadata": {},
   "outputs": [
    {
     "data": {
      "text/plain": [
       "{2: ['Mohit', 25], 4: ['Imran', 24]}"
      ]
     },
     "execution_count": 33,
     "metadata": {},
     "output_type": "execute_result"
    }
   ],
   "source": [
    "{key:values for key, values in data.items() if key % 2 == 0}"
   ]
  },
  {
   "cell_type": "markdown",
   "metadata": {},
   "source": [
    "<table align=\"left\">\n",
    "    <tr>\n",
    "        <td width=\"6%\">\n",
    "            <img src=\"question_icon.png\">\n",
    "        </td>\n",
    "        <td>\n",
    "            <div align=\"left\", style=\"font-size:120%\">\n",
    "                <font color=\"#21618C\">\n",
    "                    <b>9. Use list comprehension to print table of 11 to 20 as shown below.</b>\n",
    "                </font>\n",
    "            </div>\n",
    "        </td>\n",
    "    </tr>\n",
    "</table>"
   ]
  },
  {
   "cell_type": "markdown",
   "metadata": {},
   "source": [
    "<table>\n",
    "<tr>\n",
    "    <td>11</td><td>22</td><td>33</td><td>44</td><td>55</td><td>66</td><td>77</td><td>88</td><td>99</td><td>110</td>\n",
    "</tr>\n",
    "    \n",
    "<tr>\n",
    "    <td>12</td><td>24</td><td>36</td><td>48</td><td>60</td><td>72</td><td>84</td><td>96</td><td>108</td><td>120</td>\n",
    "</tr>\n",
    "\n",
    "<tr>\n",
    "    <td>13</td><td>36</td><td>39</td><td>52</td><td>65</td><td>78</td><td>91</td><td>104</td><td>117</td><td>130</td>\n",
    "</tr>\n",
    "\n",
    "<tr>\n",
    "     <td>14</td><td>28</td><td>42</td><td>56</td><td>70</td> <td>84</td><td>98</td><td>112</td><td>126</td><td>140</td>\n",
    "</tr>\n",
    "\n",
    "<tr>\n",
    "     <td>15</td><td>30</td><td>45</td><td>60</td><td>75</td><td>90</td><td>105</td><td>120</td><td>135</td><td>150</td>\n",
    "</tr>\n",
    "\n",
    "<tr>\n",
    "     <td>16</td><td>32</td><td>48</td><td>64</td><td>80</td><td>96</td><td>112</td><td>128</td><td>144</td><td>160</td>\n",
    "</tr>\n",
    "\n",
    "<tr>\n",
    "     <td>17</td><td>34</td><td>51</td><td>68</td><td>85</td><td>102</td><td>119</td><td>136</td><td>153</td><td>170</td>\n",
    "</tr>\n",
    "\n",
    "<tr>\n",
    "     <td>18</td><td>36</td><td>54</td><td>72</td><td>90</td> <td>108</td><td>126</td><td>144</td><td>162</td><td>180</td>\n",
    "</tr>\n",
    "\n",
    "<tr>\n",
    " <td>19</td><td>38</td><td>57</td><td>76</td><td>95</td><td>114</td><td>133</td><td>152</td><td>171</td><td>190</td>\n",
    "</tr>\n",
    "\n",
    "<tr>\n",
    "     <td>20</td><td>40</td><td>60</td><td>80</td><td>100</td><td>120</td><td>140</td><td>160</td><td>180</td><td>200</td>\n",
    "<tr>    \n",
    "    \n",
    "</table>"
   ]
  },
  {
   "cell_type": "code",
   "execution_count": 37,
   "metadata": {},
   "outputs": [
    {
     "name": "stdout",
     "output_type": "stream",
     "text": [
      "[11, 22, 33, 44, 55, 66, 77, 88, 99, 110]\n",
      "[12, 24, 36, 48, 60, 72, 84, 96, 108, 120]\n",
      "[13, 26, 39, 52, 65, 78, 91, 104, 117, 130]\n",
      "[14, 28, 42, 56, 70, 84, 98, 112, 126, 140]\n",
      "[15, 30, 45, 60, 75, 90, 105, 120, 135, 150]\n",
      "[16, 32, 48, 64, 80, 96, 112, 128, 144, 160]\n",
      "[17, 34, 51, 68, 85, 102, 119, 136, 153, 170]\n",
      "[18, 36, 54, 72, 90, 108, 126, 144, 162, 180]\n",
      "[19, 38, 57, 76, 95, 114, 133, 152, 171, 190]\n",
      "[20, 40, 60, 80, 100, 120, 140, 160, 180, 200]\n"
     ]
    }
   ],
   "source": [
    "# type your code here\n",
    "for i in range(11,21):\n",
    "    print([i * j for j in range(1,11)])\n"
   ]
  },
  {
   "cell_type": "code",
   "execution_count": 38,
   "metadata": {},
   "outputs": [
    {
     "data": {
      "text/plain": [
       "[[11, 22, 33, 44, 55, 66, 77, 88, 99, 110],\n",
       " [12, 24, 36, 48, 60, 72, 84, 96, 108, 120],\n",
       " [13, 26, 39, 52, 65, 78, 91, 104, 117, 130],\n",
       " [14, 28, 42, 56, 70, 84, 98, 112, 126, 140],\n",
       " [15, 30, 45, 60, 75, 90, 105, 120, 135, 150],\n",
       " [16, 32, 48, 64, 80, 96, 112, 128, 144, 160],\n",
       " [17, 34, 51, 68, 85, 102, 119, 136, 153, 170],\n",
       " [18, 36, 54, 72, 90, 108, 126, 144, 162, 180],\n",
       " [19, 38, 57, 76, 95, 114, 133, 152, 171, 190],\n",
       " [20, 40, 60, 80, 100, 120, 140, 160, 180, 200]]"
      ]
     },
     "execution_count": 38,
     "metadata": {},
     "output_type": "execute_result"
    }
   ],
   "source": [
    "[[i * j for j in range(1,11)] for i in range(11,21) ]"
   ]
  },
  {
   "cell_type": "code",
   "execution_count": 41,
   "metadata": {},
   "outputs": [
    {
     "name": "stdout",
     "output_type": "stream",
     "text": [
      "append\n",
      "clear\n",
      "copy\n",
      "count\n",
      "extend\n",
      "index\n",
      "insert\n",
      "pop\n",
      "remove\n",
      "reverse\n",
      "sort\n"
     ]
    }
   ],
   "source": [
    "for func in dir(list):\n",
    "    if \"__\" not in func:\n",
    "        print(func)"
   ]
  },
  {
   "cell_type": "code",
   "execution_count": 43,
   "metadata": {},
   "outputs": [
    {
     "name": "stdout",
     "output_type": "stream",
     "text": [
      "['append', 'clear', 'copy', 'count', 'extend', 'index', 'insert', 'pop', 'remove', 'reverse', 'sort']\n"
     ]
    }
   ],
   "source": [
    "print([func for func in dir(list) if \"__\" not in func])"
   ]
  },
  {
   "cell_type": "code",
   "execution_count": 44,
   "metadata": {},
   "outputs": [
    {
     "name": "stdout",
     "output_type": "stream",
     "text": [
      "['add', 'clear', 'copy', 'difference', 'difference_update', 'discard', 'intersection', 'intersection_update', 'isdisjoint', 'issubset', 'issuperset', 'pop', 'remove', 'symmetric_difference', 'symmetric_difference_update', 'union', 'update']\n",
      "\n",
      "['count', 'index']\n",
      "\n",
      "['clear', 'copy', 'fromkeys', 'get', 'items', 'keys', 'pop', 'popitem', 'setdefault', 'update', 'values']\n"
     ]
    }
   ],
   "source": [
    "print([func for func in dir(set) if \"__\" not in func])\n",
    "print()\n",
    "print([func for func in dir(tuple) if \"__\" not in func])\n",
    "print()\n",
    "print([func for func in dir(dict) if \"__\" not in func])"
   ]
  },
  {
   "cell_type": "markdown",
   "metadata": {},
   "source": [
    "### List comprehension:\n",
    "\n",
    "https://www.youtube.com/watch?v=NCkoq5DIRHc&list=PLWuFHho1zKhWb-f-SJAMUCK--f8PJlG46&index=27"
   ]
  },
  {
   "cell_type": "code",
   "execution_count": 45,
   "metadata": {},
   "outputs": [
    {
     "data": {
      "text/plain": [
       "[[1, 4, 7], [2, 5, 8], [3, 6, 9]]"
      ]
     },
     "execution_count": 45,
     "metadata": {},
     "output_type": "execute_result"
    }
   ],
   "source": [
    "l=[[1 ,2, 3], [4, 5, 6], [7, 8, 9]]\n",
    "[[row[i] for row in l] for i in range(3)]\n",
    "    "
   ]
  },
  {
   "cell_type": "code",
   "execution_count": 48,
   "metadata": {},
   "outputs": [
    {
     "name": "stdout",
     "output_type": "stream",
     "text": [
      "[1, 4, 7]\n",
      "[2, 5, 8]\n",
      "[3, 6, 9]\n"
     ]
    }
   ],
   "source": [
    "for i in range(3):\n",
    "    print([row[i] for row in l])\n"
   ]
  },
  {
   "cell_type": "code",
   "execution_count": 49,
   "metadata": {},
   "outputs": [
    {
     "data": {
      "text/plain": [
       "[[1, 4, 7], [2, 5, 8], [3, 6, 9]]"
      ]
     },
     "execution_count": 49,
     "metadata": {},
     "output_type": "execute_result"
    }
   ],
   "source": [
    "[[row[i] for row in l] for i in range(3)]"
   ]
  },
  {
   "cell_type": "code",
   "execution_count": 50,
   "metadata": {},
   "outputs": [
    {
     "data": {
      "text/plain": [
       "[0, 2, 4, 6, 8, 10, 12, 14, 16, 18]"
      ]
     },
     "execution_count": 50,
     "metadata": {},
     "output_type": "execute_result"
    }
   ],
   "source": [
    "[i for i in range(20) if i % 2 == 0]"
   ]
  },
  {
   "cell_type": "code",
   "execution_count": 51,
   "metadata": {},
   "outputs": [
    {
     "data": {
      "text/plain": [
       "[1, 3, 5, 7, 9, 11, 13, 15, 17, 19]"
      ]
     },
     "execution_count": 51,
     "metadata": {},
     "output_type": "execute_result"
    }
   ],
   "source": [
    "[i for i in range(20) if i % 2 != 0]"
   ]
  },
  {
   "cell_type": "code",
   "execution_count": null,
   "metadata": {},
   "outputs": [],
   "source": [
    "[m for m in mobile if (str(m).isnumeric() and len(str(m) == 10)) \n",
    "                         and (str(m)[:2] == \"98\" or str(m)[:2] == \"99\")]"
   ]
  },
  {
   "cell_type": "code",
   "execution_count": 52,
   "metadata": {},
   "outputs": [
    {
     "data": {
      "text/plain": [
       "['3PrintYourLoop_Varible 1applyYourLoop 2ApplyYourcondition_logicalOperator']"
      ]
     },
     "execution_count": 52,
     "metadata": {},
     "output_type": "execute_result"
    }
   ],
   "source": [
    "[\"3PrintYourLoop_Varible 1applyYourLoop 2ApplyYourcondition_logicalOperator\"]"
   ]
  },
  {
   "cell_type": "code",
   "execution_count": null,
   "metadata": {},
   "outputs": [],
   "source": []
  }
 ],
 "metadata": {
  "colab": {
   "name": "ITP-Day 2_IC Solution.ipynb",
   "provenance": []
  },
  "kernelspec": {
   "display_name": "Python 3 (ipykernel)",
   "language": "python",
   "name": "python3"
  },
  "language_info": {
   "codemirror_mode": {
    "name": "ipython",
    "version": 3
   },
   "file_extension": ".py",
   "mimetype": "text/x-python",
   "name": "python",
   "nbconvert_exporter": "python",
   "pygments_lexer": "ipython3",
   "version": "3.11.2"
  }
 },
 "nbformat": 4,
 "nbformat_minor": 1
}
