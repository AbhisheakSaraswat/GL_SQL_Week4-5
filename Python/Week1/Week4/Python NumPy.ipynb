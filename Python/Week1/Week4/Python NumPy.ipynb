{
 "cells": [
  {
   "cell_type": "markdown",
   "id": "391dd1a4",
   "metadata": {},
   "source": [
    "### What is Numpy\n",
    "\n",
    "Numpy stands for numerical python, it is basically used for number computation and scientific calc etc. We can use the numpy with pandas and with other python package as well.\n",
    "\n",
    "Note: Fundamental package for array computing in Python\n",
    "\n",
    "Array: Array is the collection of similar data type, where as in the list we can store any kind of data such as : int, float, str, bool etc\n",
    "\n",
    "$Q$. is it possible to store number and string in the array collection?   \n",
    "$A$. No"
   ]
  },
  {
   "cell_type": "code",
   "execution_count": 1,
   "id": "fe75b094",
   "metadata": {},
   "outputs": [],
   "source": [
    "import numpy as np"
   ]
  },
  {
   "cell_type": "code",
   "execution_count": 3,
   "id": "6e79693e",
   "metadata": {},
   "outputs": [],
   "source": [
    "lstOfNumber = [10,20,30,40,50,100]"
   ]
  },
  {
   "cell_type": "code",
   "execution_count": 4,
   "id": "17c92a7c",
   "metadata": {},
   "outputs": [
    {
     "data": {
      "text/plain": [
       "[10, 20, 30, 40, 50, 100]"
      ]
     },
     "execution_count": 4,
     "metadata": {},
     "output_type": "execute_result"
    }
   ],
   "source": [
    "lstOfNumber"
   ]
  },
  {
   "cell_type": "code",
   "execution_count": 5,
   "id": "7f9aca2f",
   "metadata": {},
   "outputs": [],
   "source": [
    "arr = np.array(lstOfNumber)"
   ]
  },
  {
   "cell_type": "code",
   "execution_count": 6,
   "id": "6a96b057",
   "metadata": {},
   "outputs": [
    {
     "data": {
      "text/plain": [
       "numpy.ndarray"
      ]
     },
     "execution_count": 6,
     "metadata": {},
     "output_type": "execute_result"
    }
   ],
   "source": [
    "type(arr)"
   ]
  },
  {
   "cell_type": "code",
   "execution_count": 7,
   "id": "fb318d57",
   "metadata": {},
   "outputs": [
    {
     "data": {
      "text/plain": [
       "array([ 10,  20,  30,  40,  50, 100])"
      ]
     },
     "execution_count": 7,
     "metadata": {},
     "output_type": "execute_result"
    }
   ],
   "source": [
    "arr"
   ]
  },
  {
   "cell_type": "code",
   "execution_count": 8,
   "id": "626f05a3",
   "metadata": {},
   "outputs": [
    {
     "name": "stdout",
     "output_type": "stream",
     "text": [
      "[ 10  20  30  40  50 100]\n"
     ]
    }
   ],
   "source": [
    "print(arr)"
   ]
  },
  {
   "cell_type": "code",
   "execution_count": 10,
   "id": "ecd0b771",
   "metadata": {},
   "outputs": [
    {
     "data": {
      "text/plain": [
       "array([ 10,  14,   0,  56, 100,   1])"
      ]
     },
     "execution_count": 10,
     "metadata": {},
     "output_type": "execute_result"
    }
   ],
   "source": [
    "np.array([10,14,False,56,100,True])"
   ]
  },
  {
   "cell_type": "code",
   "execution_count": 11,
   "id": "7f8d1cc5",
   "metadata": {},
   "outputs": [
    {
     "data": {
      "text/plain": [
       "array(['10', 'A', '14', 'False', '56', '100', 'True'], dtype='<U11')"
      ]
     },
     "execution_count": 11,
     "metadata": {},
     "output_type": "execute_result"
    }
   ],
   "source": [
    "np.array([10,\"A\",14,False,56,100,True])"
   ]
  },
  {
   "cell_type": "code",
   "execution_count": 12,
   "id": "eb71210a",
   "metadata": {},
   "outputs": [
    {
     "data": {
      "text/plain": [
       "array([10.  , 12.  , 45.89])"
      ]
     },
     "execution_count": 12,
     "metadata": {},
     "output_type": "execute_result"
    }
   ],
   "source": [
    "np.array([10,12,45.89])"
   ]
  },
  {
   "cell_type": "code",
   "execution_count": 13,
   "id": "45e28136",
   "metadata": {},
   "outputs": [
    {
     "data": {
      "text/plain": [
       "[10, 20, 30, 40, 50, 100]"
      ]
     },
     "execution_count": 13,
     "metadata": {},
     "output_type": "execute_result"
    }
   ],
   "source": [
    "lstOfNumber"
   ]
  },
  {
   "cell_type": "code",
   "execution_count": 14,
   "id": "58b93228",
   "metadata": {},
   "outputs": [
    {
     "data": {
      "text/plain": [
       "[15, 25, 35, 45, 55, 105]"
      ]
     },
     "execution_count": 14,
     "metadata": {},
     "output_type": "execute_result"
    }
   ],
   "source": [
    "[i + 5 for i in lstOfNumber]"
   ]
  },
  {
   "cell_type": "code",
   "execution_count": 15,
   "id": "2eabe8aa",
   "metadata": {},
   "outputs": [
    {
     "data": {
      "text/plain": [
       "array([ 10,  20,  30,  40,  50, 100])"
      ]
     },
     "execution_count": 15,
     "metadata": {},
     "output_type": "execute_result"
    }
   ],
   "source": [
    "arr"
   ]
  },
  {
   "cell_type": "code",
   "execution_count": 16,
   "id": "8485823f",
   "metadata": {},
   "outputs": [
    {
     "data": {
      "text/plain": [
       "array([ 15,  25,  35,  45,  55, 105])"
      ]
     },
     "execution_count": 16,
     "metadata": {},
     "output_type": "execute_result"
    }
   ],
   "source": [
    "arr + 5"
   ]
  },
  {
   "cell_type": "code",
   "execution_count": 17,
   "id": "f5bbd8c1",
   "metadata": {},
   "outputs": [
    {
     "data": {
      "text/plain": [
       "array([ 5, 15, 25, 35, 45, 95])"
      ]
     },
     "execution_count": 17,
     "metadata": {},
     "output_type": "execute_result"
    }
   ],
   "source": [
    "arr - 5"
   ]
  },
  {
   "cell_type": "code",
   "execution_count": 18,
   "id": "f4ef161b",
   "metadata": {},
   "outputs": [
    {
     "data": {
      "text/plain": [
       "array([ 20,  40,  60,  80, 100, 200])"
      ]
     },
     "execution_count": 18,
     "metadata": {},
     "output_type": "execute_result"
    }
   ],
   "source": [
    "arr * 2"
   ]
  },
  {
   "cell_type": "code",
   "execution_count": 19,
   "id": "4ee72628",
   "metadata": {},
   "outputs": [
    {
     "data": {
      "text/plain": [
       "array([  100,   400,   900,  1600,  2500, 10000])"
      ]
     },
     "execution_count": 19,
     "metadata": {},
     "output_type": "execute_result"
    }
   ],
   "source": [
    "arr ** 2"
   ]
  },
  {
   "cell_type": "markdown",
   "id": "954b2070",
   "metadata": {},
   "source": [
    "### Python numPy aRange Function"
   ]
  },
  {
   "cell_type": "code",
   "execution_count": 20,
   "id": "e49539a1",
   "metadata": {},
   "outputs": [],
   "source": [
    "arr = np.arange(10)"
   ]
  },
  {
   "cell_type": "code",
   "execution_count": 21,
   "id": "a7540c78",
   "metadata": {},
   "outputs": [
    {
     "data": {
      "text/plain": [
       "array([0, 1, 2, 3, 4, 5, 6, 7, 8, 9])"
      ]
     },
     "execution_count": 21,
     "metadata": {},
     "output_type": "execute_result"
    }
   ],
   "source": [
    "arr"
   ]
  },
  {
   "cell_type": "code",
   "execution_count": 22,
   "id": "baf6369f",
   "metadata": {},
   "outputs": [
    {
     "data": {
      "text/plain": [
       "[0, 1, 2, 3, 4, 5, 6, 7, 8, 9]"
      ]
     },
     "execution_count": 22,
     "metadata": {},
     "output_type": "execute_result"
    }
   ],
   "source": [
    "list(range(10))"
   ]
  },
  {
   "cell_type": "code",
   "execution_count": 23,
   "id": "faed46a5",
   "metadata": {},
   "outputs": [],
   "source": [
    "arr = np.arange(10,100,2)"
   ]
  },
  {
   "cell_type": "code",
   "execution_count": 24,
   "id": "c8b5e40c",
   "metadata": {},
   "outputs": [
    {
     "data": {
      "text/plain": [
       "array([10, 12, 14, 16, 18, 20, 22, 24, 26, 28, 30, 32, 34, 36, 38, 40, 42,\n",
       "       44, 46, 48, 50, 52, 54, 56, 58, 60, 62, 64, 66, 68, 70, 72, 74, 76,\n",
       "       78, 80, 82, 84, 86, 88, 90, 92, 94, 96, 98])"
      ]
     },
     "execution_count": 24,
     "metadata": {},
     "output_type": "execute_result"
    }
   ],
   "source": [
    "arr"
   ]
  },
  {
   "cell_type": "code",
   "execution_count": 25,
   "id": "2db25592",
   "metadata": {},
   "outputs": [],
   "source": [
    "arr = np.arange(100,-5,-10)"
   ]
  },
  {
   "cell_type": "code",
   "execution_count": 26,
   "id": "6b8e0758",
   "metadata": {},
   "outputs": [
    {
     "data": {
      "text/plain": [
       "array([100,  90,  80,  70,  60,  50,  40,  30,  20,  10,   0])"
      ]
     },
     "execution_count": 26,
     "metadata": {},
     "output_type": "execute_result"
    }
   ],
   "source": [
    "arr"
   ]
  },
  {
   "cell_type": "code",
   "execution_count": 27,
   "id": "8afcdebc",
   "metadata": {},
   "outputs": [],
   "source": [
    "lst = list(range(5,10000000))"
   ]
  },
  {
   "cell_type": "code",
   "execution_count": 28,
   "id": "96e5691a",
   "metadata": {},
   "outputs": [
    {
     "data": {
      "text/plain": [
       "9999995"
      ]
     },
     "execution_count": 28,
     "metadata": {},
     "output_type": "execute_result"
    }
   ],
   "source": [
    "len(lst)"
   ]
  },
  {
   "cell_type": "code",
   "execution_count": 30,
   "id": "46141257",
   "metadata": {},
   "outputs": [
    {
     "name": "stdout",
     "output_type": "stream",
     "text": [
      "CPU times: total: 36.3 s\n",
      "Wall time: 41.4 s\n"
     ]
    }
   ],
   "source": [
    "%%time\n",
    "for _ in range(20):\n",
    "    test = [x ** 2 for x in lst]"
   ]
  },
  {
   "cell_type": "code",
   "execution_count": 31,
   "id": "f4e4d549",
   "metadata": {},
   "outputs": [
    {
     "name": "stdout",
     "output_type": "stream",
     "text": [
      "CPU times: total: 1.34 s\n",
      "Wall time: 1.39 s\n"
     ]
    }
   ],
   "source": [
    "%%time\n",
    "array_lst = np.array(lst)\n",
    "for _ in range(20):\n",
    "    test = array_lst ** 2"
   ]
  },
  {
   "cell_type": "markdown",
   "id": "a81bf030",
   "metadata": {},
   "source": [
    "### Random Number using Python Numpy"
   ]
  },
  {
   "cell_type": "code",
   "execution_count": 32,
   "id": "3046bd64",
   "metadata": {},
   "outputs": [],
   "source": [
    "import random"
   ]
  },
  {
   "cell_type": "code",
   "execution_count": 36,
   "id": "8093f14c",
   "metadata": {},
   "outputs": [
    {
     "data": {
      "text/plain": [
       "31"
      ]
     },
     "execution_count": 36,
     "metadata": {},
     "output_type": "execute_result"
    }
   ],
   "source": [
    "random.randint(10,100)"
   ]
  },
  {
   "cell_type": "code",
   "execution_count": 54,
   "id": "f2c2eba0",
   "metadata": {},
   "outputs": [],
   "source": [
    "arr = np.random.randint(low = 10, high = 100, size = 100, dtype=int)"
   ]
  },
  {
   "cell_type": "code",
   "execution_count": 55,
   "id": "8bf98009",
   "metadata": {},
   "outputs": [
    {
     "data": {
      "text/plain": [
       "array([42, 11, 13, 46, 13, 72, 33, 60, 98, 45, 25, 12, 64, 35, 66, 33, 44,\n",
       "       81, 29, 94, 76, 88, 97, 76, 96, 97, 52, 36, 98, 44, 89, 78, 69, 67,\n",
       "       53, 16, 27, 41, 17, 66, 97, 38, 78, 12, 87, 68, 66, 65, 12, 31, 68,\n",
       "       34, 17, 98, 57, 76, 89, 60, 71, 19, 97, 54, 12, 29, 69, 95, 28, 49,\n",
       "       49, 32, 98, 11, 93, 25, 72, 83, 53, 72, 94, 58, 79, 52, 46, 11, 81,\n",
       "       77, 60, 27, 91, 93, 34, 39, 83, 88, 19, 60, 60, 20, 92, 16])"
      ]
     },
     "execution_count": 55,
     "metadata": {},
     "output_type": "execute_result"
    }
   ],
   "source": [
    "arr"
   ]
  },
  {
   "cell_type": "code",
   "execution_count": 42,
   "id": "98ed9108",
   "metadata": {},
   "outputs": [],
   "source": [
    "arr1 = np.random.randint(low = 10, high = 100, size = 50)"
   ]
  },
  {
   "cell_type": "code",
   "execution_count": 43,
   "id": "87652d88",
   "metadata": {},
   "outputs": [
    {
     "data": {
      "text/plain": [
       "array([56, 71, 77, 19, 91, 20, 33, 20, 96, 22, 82, 51, 67, 80, 67, 37, 72,\n",
       "       12, 13, 63, 82, 71, 11, 94, 22, 85, 21, 96, 79, 23, 75, 31, 61, 66,\n",
       "       23, 21, 50, 32, 37, 85, 59, 74, 34, 36, 81, 68, 63, 28, 51, 19])"
      ]
     },
     "execution_count": 43,
     "metadata": {},
     "output_type": "execute_result"
    }
   ],
   "source": [
    "arr1"
   ]
  },
  {
   "cell_type": "code",
   "execution_count": 53,
   "id": "e56d56a3",
   "metadata": {},
   "outputs": [
    {
     "data": {
      "text/plain": [
       "0.7233173598237962"
      ]
     },
     "execution_count": 53,
     "metadata": {},
     "output_type": "execute_result"
    }
   ],
   "source": [
    "np.random.rand()"
   ]
  },
  {
   "cell_type": "code",
   "execution_count": 60,
   "id": "1a031001",
   "metadata": {},
   "outputs": [
    {
     "data": {
      "text/plain": [
       "array([56., 71., 77., 19., 91., 20., 33., 20., 96., 22., 82., 51., 67.,\n",
       "       80., 67., 37., 72., 12., 13., 63., 82., 71., 11., 94., 22., 85.,\n",
       "       21., 96., 79., 23., 75., 31., 61., 66., 23., 21., 50., 32., 37.,\n",
       "       85., 59., 74., 34., 36., 81., 68., 63., 28., 51., 19.])"
      ]
     },
     "execution_count": 60,
     "metadata": {},
     "output_type": "execute_result"
    }
   ],
   "source": [
    "np.array(arr1, dtype = 'float')"
   ]
  },
  {
   "cell_type": "code",
   "execution_count": 61,
   "id": "5328a04d",
   "metadata": {},
   "outputs": [],
   "source": [
    "arr1 = np.array([23,45,67,23,56,78,90,78])\n",
    "arr2 = np.array([11,45,98,56,45,24,89,49,23])"
   ]
  },
  {
   "cell_type": "code",
   "execution_count": 62,
   "id": "3f56143e",
   "metadata": {},
   "outputs": [
    {
     "data": {
      "text/plain": [
       "array([23, 45, 56])"
      ]
     },
     "execution_count": 62,
     "metadata": {},
     "output_type": "execute_result"
    }
   ],
   "source": [
    "np.intersect1d(arr1,arr2)"
   ]
  },
  {
   "cell_type": "code",
   "execution_count": 63,
   "id": "5225950f",
   "metadata": {},
   "outputs": [
    {
     "data": {
      "text/plain": [
       "array([67, 78, 90])"
      ]
     },
     "execution_count": 63,
     "metadata": {},
     "output_type": "execute_result"
    }
   ],
   "source": [
    "np.setdiff1d(arr1,arr2)"
   ]
  },
  {
   "cell_type": "code",
   "execution_count": 64,
   "id": "9b0b66e2",
   "metadata": {},
   "outputs": [
    {
     "data": {
      "text/plain": [
       "array([11, 24, 49, 89, 98])"
      ]
     },
     "execution_count": 64,
     "metadata": {},
     "output_type": "execute_result"
    }
   ],
   "source": [
    "np.setdiff1d(arr2,arr1)"
   ]
  },
  {
   "cell_type": "code",
   "execution_count": 65,
   "id": "be888510",
   "metadata": {},
   "outputs": [],
   "source": [
    "# addition of arrays"
   ]
  },
  {
   "cell_type": "code",
   "execution_count": 66,
   "id": "1d150d2d",
   "metadata": {},
   "outputs": [
    {
     "ename": "ValueError",
     "evalue": "operands could not be broadcast together with shapes (8,) (9,) ",
     "output_type": "error",
     "traceback": [
      "\u001b[1;31m---------------------------------------------------------------------------\u001b[0m",
      "\u001b[1;31mValueError\u001b[0m                                Traceback (most recent call last)",
      "Cell \u001b[1;32mIn[66], line 1\u001b[0m\n\u001b[1;32m----> 1\u001b[0m \u001b[43marr1\u001b[49m\u001b[43m \u001b[49m\u001b[38;5;241;43m+\u001b[39;49m\u001b[43m \u001b[49m\u001b[43marr2\u001b[49m\n",
      "\u001b[1;31mValueError\u001b[0m: operands could not be broadcast together with shapes (8,) (9,) "
     ]
    }
   ],
   "source": [
    "arr1 + arr2"
   ]
  },
  {
   "cell_type": "code",
   "execution_count": 69,
   "id": "519fd6c1",
   "metadata": {},
   "outputs": [
    {
     "name": "stdout",
     "output_type": "stream",
     "text": [
      "Array-1:  8 Array-2:  9\n"
     ]
    }
   ],
   "source": [
    "print(\"Array-1: \",len(arr1),\"Array-2: \", len(arr2))"
   ]
  },
  {
   "cell_type": "code",
   "execution_count": 70,
   "id": "b95423c5",
   "metadata": {},
   "outputs": [],
   "source": [
    "# how to add an item into the array"
   ]
  },
  {
   "cell_type": "code",
   "execution_count": 72,
   "id": "86e06ff3",
   "metadata": {},
   "outputs": [],
   "source": [
    "arr1 = np.append(arr1,10)"
   ]
  },
  {
   "cell_type": "code",
   "execution_count": 73,
   "id": "276e4965",
   "metadata": {},
   "outputs": [
    {
     "data": {
      "text/plain": [
       "9"
      ]
     },
     "execution_count": 73,
     "metadata": {},
     "output_type": "execute_result"
    }
   ],
   "source": [
    "len(arr1)"
   ]
  },
  {
   "cell_type": "code",
   "execution_count": 74,
   "id": "4121df29",
   "metadata": {},
   "outputs": [
    {
     "data": {
      "text/plain": [
       "array([23, 45, 67, 23, 56, 78, 90, 78, 10])"
      ]
     },
     "execution_count": 74,
     "metadata": {},
     "output_type": "execute_result"
    }
   ],
   "source": [
    "arr1"
   ]
  },
  {
   "cell_type": "code",
   "execution_count": 75,
   "id": "fb868e7f",
   "metadata": {},
   "outputs": [],
   "source": [
    "# can you add 99 on the first index"
   ]
  },
  {
   "cell_type": "code",
   "execution_count": 77,
   "id": "550f9966",
   "metadata": {},
   "outputs": [],
   "source": [
    "arr1 = np.insert(arr1,1,99)"
   ]
  },
  {
   "cell_type": "code",
   "execution_count": 78,
   "id": "2d8f27bf",
   "metadata": {},
   "outputs": [
    {
     "data": {
      "text/plain": [
       "array([23, 99, 45, 67, 23, 56, 78, 90, 78, 10])"
      ]
     },
     "execution_count": 78,
     "metadata": {},
     "output_type": "execute_result"
    }
   ],
   "source": [
    "arr1"
   ]
  },
  {
   "cell_type": "code",
   "execution_count": 79,
   "id": "104ab66e",
   "metadata": {},
   "outputs": [
    {
     "data": {
      "text/plain": [
       "10"
      ]
     },
     "execution_count": 79,
     "metadata": {},
     "output_type": "execute_result"
    }
   ],
   "source": [
    "len(arr1)"
   ]
  },
  {
   "cell_type": "code",
   "execution_count": 80,
   "id": "422e218c",
   "metadata": {},
   "outputs": [
    {
     "data": {
      "text/plain": [
       "9"
      ]
     },
     "execution_count": 80,
     "metadata": {},
     "output_type": "execute_result"
    }
   ],
   "source": [
    "len(arr2)"
   ]
  },
  {
   "cell_type": "code",
   "execution_count": 81,
   "id": "718d44ab",
   "metadata": {},
   "outputs": [],
   "source": [
    "arr2 = np.append(arr2,45)"
   ]
  },
  {
   "cell_type": "code",
   "execution_count": 82,
   "id": "08ae48f9",
   "metadata": {},
   "outputs": [
    {
     "name": "stdout",
     "output_type": "stream",
     "text": [
      "Array-1:  10 Array-2:  10\n"
     ]
    }
   ],
   "source": [
    "print(\"Array-1: \",len(arr1),\"Array-2: \", len(arr2))"
   ]
  },
  {
   "cell_type": "code",
   "execution_count": 83,
   "id": "325a474f",
   "metadata": {},
   "outputs": [
    {
     "data": {
      "text/plain": [
       "array([23, 99, 45, 67, 23, 56, 78, 90, 78, 10])"
      ]
     },
     "execution_count": 83,
     "metadata": {},
     "output_type": "execute_result"
    }
   ],
   "source": [
    "arr1"
   ]
  },
  {
   "cell_type": "code",
   "execution_count": 84,
   "id": "83fb6b2a",
   "metadata": {},
   "outputs": [
    {
     "data": {
      "text/plain": [
       "array([11, 45, 98, 56, 45, 24, 89, 49, 23, 45])"
      ]
     },
     "execution_count": 84,
     "metadata": {},
     "output_type": "execute_result"
    }
   ],
   "source": [
    "arr2"
   ]
  },
  {
   "cell_type": "markdown",
   "id": "71a528b1",
   "metadata": {},
   "source": [
    "### How to delete a specific item from the array"
   ]
  },
  {
   "cell_type": "code",
   "execution_count": 85,
   "id": "4eabcbb0",
   "metadata": {},
   "outputs": [],
   "source": [
    "arr1 = np.delete(arr1,3)"
   ]
  },
  {
   "cell_type": "code",
   "execution_count": 86,
   "id": "b9606afe",
   "metadata": {},
   "outputs": [
    {
     "data": {
      "text/plain": [
       "array([23, 99, 45, 23, 56, 78, 90, 78, 10])"
      ]
     },
     "execution_count": 86,
     "metadata": {},
     "output_type": "execute_result"
    }
   ],
   "source": [
    "arr1"
   ]
  },
  {
   "cell_type": "code",
   "execution_count": 87,
   "id": "2ad1ae73",
   "metadata": {},
   "outputs": [],
   "source": [
    "arr2 = np.delete(arr2,-3)"
   ]
  },
  {
   "cell_type": "code",
   "execution_count": 88,
   "id": "073676df",
   "metadata": {},
   "outputs": [
    {
     "data": {
      "text/plain": [
       "array([11, 45, 98, 56, 45, 24, 89, 23, 45])"
      ]
     },
     "execution_count": 88,
     "metadata": {},
     "output_type": "execute_result"
    }
   ],
   "source": [
    "arr2"
   ]
  },
  {
   "cell_type": "code",
   "execution_count": 91,
   "id": "dd5befa7",
   "metadata": {},
   "outputs": [
    {
     "data": {
      "text/plain": [
       "array([  11,   45,   98,   56,   45,   24,   89,   23,   45, 1000])"
      ]
     },
     "execution_count": 91,
     "metadata": {},
     "output_type": "execute_result"
    }
   ],
   "source": [
    "np.append(arr2,1000)"
   ]
  },
  {
   "cell_type": "code",
   "execution_count": 92,
   "id": "fc30591b",
   "metadata": {},
   "outputs": [
    {
     "data": {
      "text/plain": [
       "array([11, 45, 98, 56, 45, 24, 89, 23, 45])"
      ]
     },
     "execution_count": 92,
     "metadata": {},
     "output_type": "execute_result"
    }
   ],
   "source": [
    "arr2"
   ]
  },
  {
   "cell_type": "markdown",
   "id": "5b3cfd0b",
   "metadata": {},
   "source": [
    "### Key Note:\n",
    "\n",
    "NumPy arrays are immutable in size, operations like append, insert or delete\n",
    "create a new array and do no modify the original array."
   ]
  },
  {
   "cell_type": "code",
   "execution_count": 94,
   "id": "66188ee9",
   "metadata": {},
   "outputs": [
    {
     "name": "stdout",
     "output_type": "stream",
     "text": [
      "[23 99 45 23 56 78 90 78 10]\n",
      "[11 45 98 56 45 24 89 23 45]\n"
     ]
    }
   ],
   "source": [
    "print(arr1)\n",
    "print(arr2)"
   ]
  },
  {
   "cell_type": "code",
   "execution_count": 93,
   "id": "33ef2527",
   "metadata": {},
   "outputs": [
    {
     "data": {
      "text/plain": [
       "array([ 34, 144, 143,  79, 101, 102, 179, 101,  55])"
      ]
     },
     "execution_count": 93,
     "metadata": {},
     "output_type": "execute_result"
    }
   ],
   "source": [
    "arr1 + arr2"
   ]
  },
  {
   "cell_type": "code",
   "execution_count": 95,
   "id": "4ed71245",
   "metadata": {},
   "outputs": [
    {
     "data": {
      "text/plain": [
       "array([ 12,  54, -53, -33,  11,  54,   1,  55, -35])"
      ]
     },
     "execution_count": 95,
     "metadata": {},
     "output_type": "execute_result"
    }
   ],
   "source": [
    "arr1 - arr2"
   ]
  },
  {
   "cell_type": "code",
   "execution_count": 96,
   "id": "765361bf",
   "metadata": {},
   "outputs": [
    {
     "data": {
      "text/plain": [
       "array([ 1,  9, 45, 23, 11,  6,  1,  9, 10])"
      ]
     },
     "execution_count": 96,
     "metadata": {},
     "output_type": "execute_result"
    }
   ],
   "source": [
    "arr1 % arr2"
   ]
  },
  {
   "cell_type": "code",
   "execution_count": 97,
   "id": "764b7991",
   "metadata": {},
   "outputs": [
    {
     "data": {
      "text/plain": [
       "array([ 253, 4455, 4410, 1288, 2520, 1872, 8010, 1794,  450])"
      ]
     },
     "execution_count": 97,
     "metadata": {},
     "output_type": "execute_result"
    }
   ],
   "source": [
    "arr1 * arr2"
   ]
  },
  {
   "cell_type": "code",
   "execution_count": 99,
   "id": "e75ba333",
   "metadata": {},
   "outputs": [],
   "source": [
    "gl = np.array([1,3,4,5])"
   ]
  },
  {
   "cell_type": "code",
   "execution_count": 100,
   "id": "7b1de6ee",
   "metadata": {},
   "outputs": [
    {
     "data": {
      "text/plain": [
       "array([1, 3, 4, 5])"
      ]
     },
     "execution_count": 100,
     "metadata": {},
     "output_type": "execute_result"
    }
   ],
   "source": [
    "gl"
   ]
  },
  {
   "cell_type": "code",
   "execution_count": 101,
   "id": "3d1e9186",
   "metadata": {},
   "outputs": [
    {
     "data": {
      "text/plain": [
       "array([  1,   3,   4,   5, 100])"
      ]
     },
     "execution_count": 101,
     "metadata": {},
     "output_type": "execute_result"
    }
   ],
   "source": [
    "np.append(gl,100)"
   ]
  },
  {
   "cell_type": "code",
   "execution_count": 102,
   "id": "82915da2",
   "metadata": {},
   "outputs": [
    {
     "data": {
      "text/plain": [
       "array([1, 3, 4, 5])"
      ]
     },
     "execution_count": 102,
     "metadata": {},
     "output_type": "execute_result"
    }
   ],
   "source": [
    "gl"
   ]
  },
  {
   "cell_type": "code",
   "execution_count": 103,
   "id": "b79a19ab",
   "metadata": {},
   "outputs": [],
   "source": [
    "gl = np.append(gl,100)"
   ]
  },
  {
   "cell_type": "code",
   "execution_count": 104,
   "id": "2e876f7a",
   "metadata": {},
   "outputs": [
    {
     "data": {
      "text/plain": [
       "array([  1,   3,   4,   5, 100])"
      ]
     },
     "execution_count": 104,
     "metadata": {},
     "output_type": "execute_result"
    }
   ],
   "source": [
    "gl"
   ]
  },
  {
   "cell_type": "markdown",
   "id": "3d3c8a79",
   "metadata": {},
   "source": [
    "### Zeros"
   ]
  },
  {
   "cell_type": "code",
   "execution_count": 105,
   "id": "669338dc",
   "metadata": {},
   "outputs": [],
   "source": [
    "arr = np.zeros([3,2]) # 3 rows and 2 columns"
   ]
  },
  {
   "cell_type": "code",
   "execution_count": 106,
   "id": "7007856b",
   "metadata": {},
   "outputs": [
    {
     "data": {
      "text/plain": [
       "array([[0., 0.],\n",
       "       [0., 0.],\n",
       "       [0., 0.]])"
      ]
     },
     "execution_count": 106,
     "metadata": {},
     "output_type": "execute_result"
    }
   ],
   "source": [
    "arr"
   ]
  },
  {
   "cell_type": "code",
   "execution_count": 107,
   "id": "df3525ac",
   "metadata": {},
   "outputs": [
    {
     "data": {
      "text/plain": [
       "array([[0., 0., 0.],\n",
       "       [0., 0., 0.],\n",
       "       [0., 0., 0.]])"
      ]
     },
     "execution_count": 107,
     "metadata": {},
     "output_type": "execute_result"
    }
   ],
   "source": [
    "np.zeros([3,3])"
   ]
  },
  {
   "cell_type": "code",
   "execution_count": 108,
   "id": "8fa1ec7e",
   "metadata": {},
   "outputs": [
    {
     "data": {
      "text/plain": [
       "array([1., 1., 1., 1., 1.])"
      ]
     },
     "execution_count": 108,
     "metadata": {},
     "output_type": "execute_result"
    }
   ],
   "source": [
    "np.ones([5])"
   ]
  },
  {
   "cell_type": "code",
   "execution_count": 109,
   "id": "0947d1f1",
   "metadata": {},
   "outputs": [
    {
     "data": {
      "text/plain": [
       "array([[1., 1.],\n",
       "       [1., 1.],\n",
       "       [1., 1.]])"
      ]
     },
     "execution_count": 109,
     "metadata": {},
     "output_type": "execute_result"
    }
   ],
   "source": [
    "np.ones([3,2])"
   ]
  },
  {
   "cell_type": "code",
   "execution_count": 110,
   "id": "70154cb0",
   "metadata": {},
   "outputs": [
    {
     "data": {
      "text/plain": [
       "array([[1., 1., 1., 1., 1.],\n",
       "       [1., 1., 1., 1., 1.],\n",
       "       [1., 1., 1., 1., 1.],\n",
       "       [1., 1., 1., 1., 1.]])"
      ]
     },
     "execution_count": 110,
     "metadata": {},
     "output_type": "execute_result"
    }
   ],
   "source": [
    "np.ones([4,5])"
   ]
  },
  {
   "cell_type": "markdown",
   "id": "63c48ebd",
   "metadata": {},
   "source": [
    "### Generate Random Array "
   ]
  },
  {
   "cell_type": "code",
   "execution_count": 111,
   "id": "6d9c622c",
   "metadata": {},
   "outputs": [],
   "source": [
    "from numpy import ones"
   ]
  },
  {
   "cell_type": "code",
   "execution_count": 112,
   "id": "105fc66b",
   "metadata": {},
   "outputs": [],
   "source": [
    "from numpy import array"
   ]
  },
  {
   "cell_type": "code",
   "execution_count": 113,
   "id": "b3024004",
   "metadata": {},
   "outputs": [
    {
     "data": {
      "text/plain": [
       "array([10, 22, 33])"
      ]
     },
     "execution_count": 113,
     "metadata": {},
     "output_type": "execute_result"
    }
   ],
   "source": [
    "array([10,22,33])"
   ]
  },
  {
   "cell_type": "code",
   "execution_count": 114,
   "id": "34d632d8",
   "metadata": {},
   "outputs": [],
   "source": [
    "arr = np.random.random((3,2))"
   ]
  },
  {
   "cell_type": "code",
   "execution_count": 115,
   "id": "98c6f51c",
   "metadata": {},
   "outputs": [
    {
     "data": {
      "text/plain": [
       "array([[0.79244363, 0.00387531],\n",
       "       [0.82930515, 0.31221934],\n",
       "       [0.89223731, 0.53728243]])"
      ]
     },
     "execution_count": 115,
     "metadata": {},
     "output_type": "execute_result"
    }
   ],
   "source": [
    "arr"
   ]
  },
  {
   "cell_type": "code",
   "execution_count": 116,
   "id": "abebb470",
   "metadata": {},
   "outputs": [
    {
     "data": {
      "text/plain": [
       "array([[ 0.05956581, -0.25721207],\n",
       "       [ 0.62469998, -0.19424854],\n",
       "       [-0.40849209,  0.77359981],\n",
       "       [ 1.2654957 ,  0.02145312]])"
      ]
     },
     "execution_count": 116,
     "metadata": {},
     "output_type": "execute_result"
    }
   ],
   "source": [
    "np.random.randn(4,2)"
   ]
  },
  {
   "cell_type": "code",
   "execution_count": 128,
   "id": "7d894f13",
   "metadata": {},
   "outputs": [],
   "source": [
    "arr = np.array([[11,22,33],[44,55,66],[13,45,78]])"
   ]
  },
  {
   "cell_type": "code",
   "execution_count": 306,
   "id": "9949d07b",
   "metadata": {},
   "outputs": [
    {
     "data": {
      "text/plain": [
       "array([[[[[[[[[[[[[[[[[[[[1, 2, 3, 4]]]]]]]]]]]]]]]]]]]])"
      ]
     },
     "execution_count": 306,
     "metadata": {},
     "output_type": "execute_result"
    }
   ],
   "source": [
    "np.array([1,2,3,4], ndmin= 20)"
   ]
  },
  {
   "cell_type": "code",
   "execution_count": 129,
   "id": "81d44004",
   "metadata": {},
   "outputs": [
    {
     "data": {
      "text/plain": [
       "array([[11, 22, 33],\n",
       "       [44, 55, 66],\n",
       "       [13, 45, 78]])"
      ]
     },
     "execution_count": 129,
     "metadata": {},
     "output_type": "execute_result"
    }
   ],
   "source": [
    "arr"
   ]
  },
  {
   "cell_type": "code",
   "execution_count": 130,
   "id": "bc785311",
   "metadata": {},
   "outputs": [],
   "source": [
    "# number of axis or number of dimension"
   ]
  },
  {
   "cell_type": "code",
   "execution_count": 131,
   "id": "dc3e1633",
   "metadata": {},
   "outputs": [
    {
     "data": {
      "text/plain": [
       "2"
      ]
     },
     "execution_count": 131,
     "metadata": {},
     "output_type": "execute_result"
    }
   ],
   "source": [
    "arr.ndim"
   ]
  },
  {
   "cell_type": "code",
   "execution_count": 132,
   "id": "9bc50ef5",
   "metadata": {},
   "outputs": [
    {
     "data": {
      "text/plain": [
       "4"
      ]
     },
     "execution_count": 132,
     "metadata": {},
     "output_type": "execute_result"
    }
   ],
   "source": [
    "arr.itemsize # each element occupied 4 bytes"
   ]
  },
  {
   "cell_type": "code",
   "execution_count": 133,
   "id": "1f61b194",
   "metadata": {},
   "outputs": [
    {
     "data": {
      "text/plain": [
       "dtype('int32')"
      ]
     },
     "execution_count": 133,
     "metadata": {},
     "output_type": "execute_result"
    }
   ],
   "source": [
    "arr.dtype"
   ]
  },
  {
   "cell_type": "code",
   "execution_count": 134,
   "id": "bac7d7b9",
   "metadata": {},
   "outputs": [
    {
     "data": {
      "text/plain": [
       "9"
      ]
     },
     "execution_count": 134,
     "metadata": {},
     "output_type": "execute_result"
    }
   ],
   "source": [
    "arr.size"
   ]
  },
  {
   "cell_type": "code",
   "execution_count": 135,
   "id": "919482b3",
   "metadata": {},
   "outputs": [
    {
     "data": {
      "text/plain": [
       "(3, 3)"
      ]
     },
     "execution_count": 135,
     "metadata": {},
     "output_type": "execute_result"
    }
   ],
   "source": [
    "arr.shape"
   ]
  },
  {
   "cell_type": "code",
   "execution_count": 171,
   "id": "1cc25c3c",
   "metadata": {},
   "outputs": [],
   "source": [
    "arr = np.array([[11,22,33],[44,55,66],[13,45,78]], dtype = 'int32')"
   ]
  },
  {
   "cell_type": "code",
   "execution_count": 172,
   "id": "8906fbdd",
   "metadata": {},
   "outputs": [
    {
     "data": {
      "text/plain": [
       "array([[11, 22, 33],\n",
       "       [44, 55, 66],\n",
       "       [13, 45, 78]])"
      ]
     },
     "execution_count": 172,
     "metadata": {},
     "output_type": "execute_result"
    }
   ],
   "source": [
    "arr"
   ]
  },
  {
   "cell_type": "code",
   "execution_count": 173,
   "id": "2bc43c3a",
   "metadata": {},
   "outputs": [
    {
     "data": {
      "text/plain": [
       "dtype('int32')"
      ]
     },
     "execution_count": 173,
     "metadata": {},
     "output_type": "execute_result"
    }
   ],
   "source": [
    "arr.dtype"
   ]
  },
  {
   "cell_type": "code",
   "execution_count": 174,
   "id": "1cff3eea",
   "metadata": {},
   "outputs": [
    {
     "data": {
      "text/plain": [
       "9"
      ]
     },
     "execution_count": 174,
     "metadata": {},
     "output_type": "execute_result"
    }
   ],
   "source": [
    "arr.size"
   ]
  },
  {
   "cell_type": "code",
   "execution_count": 175,
   "id": "b5903a19",
   "metadata": {},
   "outputs": [
    {
     "data": {
      "text/plain": [
       "4"
      ]
     },
     "execution_count": 175,
     "metadata": {},
     "output_type": "execute_result"
    }
   ],
   "source": [
    "arr.itemsize"
   ]
  },
  {
   "cell_type": "markdown",
   "id": "39b31251",
   "metadata": {},
   "source": [
    "### Reshape Function"
   ]
  },
  {
   "cell_type": "code",
   "execution_count": 184,
   "id": "6a70e0a5",
   "metadata": {},
   "outputs": [],
   "source": [
    "arr = np.arange(32).reshape(2,4,4)"
   ]
  },
  {
   "cell_type": "code",
   "execution_count": 185,
   "id": "c9936ac0",
   "metadata": {},
   "outputs": [
    {
     "data": {
      "text/plain": [
       "array([[[ 0,  1,  2,  3],\n",
       "        [ 4,  5,  6,  7],\n",
       "        [ 8,  9, 10, 11],\n",
       "        [12, 13, 14, 15]],\n",
       "\n",
       "       [[16, 17, 18, 19],\n",
       "        [20, 21, 22, 23],\n",
       "        [24, 25, 26, 27],\n",
       "        [28, 29, 30, 31]]])"
      ]
     },
     "execution_count": 185,
     "metadata": {},
     "output_type": "execute_result"
    }
   ],
   "source": [
    "arr"
   ]
  },
  {
   "cell_type": "code",
   "execution_count": 198,
   "id": "53dc35c9",
   "metadata": {},
   "outputs": [],
   "source": [
    "arr = np.arange(128).reshape(4,2,16)"
   ]
  },
  {
   "cell_type": "code",
   "execution_count": 199,
   "id": "9956c0c9",
   "metadata": {},
   "outputs": [
    {
     "data": {
      "text/plain": [
       "array([[[  0,   1,   2,   3,   4,   5,   6,   7,   8,   9,  10,  11,\n",
       "          12,  13,  14,  15],\n",
       "        [ 16,  17,  18,  19,  20,  21,  22,  23,  24,  25,  26,  27,\n",
       "          28,  29,  30,  31]],\n",
       "\n",
       "       [[ 32,  33,  34,  35,  36,  37,  38,  39,  40,  41,  42,  43,\n",
       "          44,  45,  46,  47],\n",
       "        [ 48,  49,  50,  51,  52,  53,  54,  55,  56,  57,  58,  59,\n",
       "          60,  61,  62,  63]],\n",
       "\n",
       "       [[ 64,  65,  66,  67,  68,  69,  70,  71,  72,  73,  74,  75,\n",
       "          76,  77,  78,  79],\n",
       "        [ 80,  81,  82,  83,  84,  85,  86,  87,  88,  89,  90,  91,\n",
       "          92,  93,  94,  95]],\n",
       "\n",
       "       [[ 96,  97,  98,  99, 100, 101, 102, 103, 104, 105, 106, 107,\n",
       "         108, 109, 110, 111],\n",
       "        [112, 113, 114, 115, 116, 117, 118, 119, 120, 121, 122, 123,\n",
       "         124, 125, 126, 127]]])"
      ]
     },
     "execution_count": 199,
     "metadata": {},
     "output_type": "execute_result"
    }
   ],
   "source": [
    "arr"
   ]
  },
  {
   "cell_type": "markdown",
   "id": "b8d2f9a0",
   "metadata": {},
   "source": [
    "### Indexing Array"
   ]
  },
  {
   "cell_type": "code",
   "execution_count": 200,
   "id": "fac5df47",
   "metadata": {},
   "outputs": [],
   "source": [
    "arr = np.random.randint(10,50,10)"
   ]
  },
  {
   "cell_type": "code",
   "execution_count": 201,
   "id": "509c77f9",
   "metadata": {},
   "outputs": [
    {
     "data": {
      "text/plain": [
       "array([12, 35, 16, 26, 34, 10, 30, 12, 18, 20])"
      ]
     },
     "execution_count": 201,
     "metadata": {},
     "output_type": "execute_result"
    }
   ],
   "source": [
    "arr"
   ]
  },
  {
   "cell_type": "code",
   "execution_count": 202,
   "id": "e3e6b413",
   "metadata": {},
   "outputs": [
    {
     "data": {
      "text/plain": [
       "12"
      ]
     },
     "execution_count": 202,
     "metadata": {},
     "output_type": "execute_result"
    }
   ],
   "source": [
    "arr[0]"
   ]
  },
  {
   "cell_type": "code",
   "execution_count": 203,
   "id": "bda0986c",
   "metadata": {},
   "outputs": [
    {
     "data": {
      "text/plain": [
       "18"
      ]
     },
     "execution_count": 203,
     "metadata": {},
     "output_type": "execute_result"
    }
   ],
   "source": [
    "arr[-2]"
   ]
  },
  {
   "cell_type": "code",
   "execution_count": 213,
   "id": "ba7ca567",
   "metadata": {},
   "outputs": [],
   "source": [
    "arr = np.random.randint(1,100,32).reshape(4,8)"
   ]
  },
  {
   "cell_type": "code",
   "execution_count": 214,
   "id": "8bbf1a33",
   "metadata": {},
   "outputs": [
    {
     "data": {
      "text/plain": [
       "array([[54, 18, 55, 92, 81, 25,  6, 90],\n",
       "       [94, 63, 85, 17, 43, 48, 89, 24],\n",
       "       [32, 87, 20, 88, 24, 32,  8, 58],\n",
       "       [11, 92,  6, 62, 60, 85,  9, 90]])"
      ]
     },
     "execution_count": 214,
     "metadata": {},
     "output_type": "execute_result"
    }
   ],
   "source": [
    "arr"
   ]
  },
  {
   "cell_type": "code",
   "execution_count": 215,
   "id": "27a2dda3",
   "metadata": {},
   "outputs": [
    {
     "data": {
      "text/plain": [
       "array([54, 18, 55, 92, 81, 25,  6, 90])"
      ]
     },
     "execution_count": 215,
     "metadata": {},
     "output_type": "execute_result"
    }
   ],
   "source": [
    "arr[0]"
   ]
  },
  {
   "cell_type": "code",
   "execution_count": 216,
   "id": "26a6610d",
   "metadata": {},
   "outputs": [
    {
     "data": {
      "text/plain": [
       "array([11, 92,  6, 62, 60, 85,  9, 90])"
      ]
     },
     "execution_count": 216,
     "metadata": {},
     "output_type": "execute_result"
    }
   ],
   "source": [
    "arr[-1]"
   ]
  },
  {
   "cell_type": "code",
   "execution_count": 217,
   "id": "cff4f147",
   "metadata": {},
   "outputs": [
    {
     "data": {
      "text/plain": [
       "array([90,  6, 25, 81, 92, 55, 18, 54])"
      ]
     },
     "execution_count": 217,
     "metadata": {},
     "output_type": "execute_result"
    }
   ],
   "source": [
    "arr[0][::-1]"
   ]
  },
  {
   "cell_type": "code",
   "execution_count": 220,
   "id": "a86deadf",
   "metadata": {},
   "outputs": [
    {
     "data": {
      "text/plain": [
       "array([24, 89, 48, 43, 17, 85, 63, 94])"
      ]
     },
     "execution_count": 220,
     "metadata": {},
     "output_type": "execute_result"
    }
   ],
   "source": [
    "arr[:2][-1][::-1]"
   ]
  },
  {
   "cell_type": "code",
   "execution_count": 221,
   "id": "858f5c9c",
   "metadata": {},
   "outputs": [
    {
     "data": {
      "text/plain": [
       "array([[54, 18, 55, 92, 81, 25,  6, 90],\n",
       "       [94, 63, 85, 17, 43, 48, 89, 24],\n",
       "       [32, 87, 20, 88, 24, 32,  8, 58],\n",
       "       [11, 92,  6, 62, 60, 85,  9, 90]])"
      ]
     },
     "execution_count": 221,
     "metadata": {},
     "output_type": "execute_result"
    }
   ],
   "source": [
    "arr"
   ]
  },
  {
   "cell_type": "code",
   "execution_count": 222,
   "id": "9433af0e",
   "metadata": {},
   "outputs": [
    {
     "data": {
      "text/plain": [
       "array([54, 18, 55, 92, 81, 25,  6, 90])"
      ]
     },
     "execution_count": 222,
     "metadata": {},
     "output_type": "execute_result"
    }
   ],
   "source": [
    "arr[0]"
   ]
  },
  {
   "cell_type": "code",
   "execution_count": 223,
   "id": "e5343836",
   "metadata": {},
   "outputs": [
    {
     "data": {
      "text/plain": [
       "array([94, 63, 85, 17, 43, 48, 89, 24])"
      ]
     },
     "execution_count": 223,
     "metadata": {},
     "output_type": "execute_result"
    }
   ],
   "source": [
    "arr[1]"
   ]
  },
  {
   "cell_type": "code",
   "execution_count": 225,
   "id": "1b25ff07",
   "metadata": {},
   "outputs": [
    {
     "data": {
      "text/plain": [
       "array([85,  9, 90])"
      ]
     },
     "execution_count": 225,
     "metadata": {},
     "output_type": "execute_result"
    }
   ],
   "source": [
    "arr[-1][-3:]"
   ]
  },
  {
   "cell_type": "code",
   "execution_count": 227,
   "id": "eabe1ee7",
   "metadata": {},
   "outputs": [],
   "source": [
    "arr1 = np.array([[2,4],[4,6]])\n",
    "arr2 = np.array([[2,6],[3,8]])"
   ]
  },
  {
   "cell_type": "code",
   "execution_count": 228,
   "id": "f5cb087d",
   "metadata": {},
   "outputs": [
    {
     "data": {
      "text/plain": [
       "array([[2, 4],\n",
       "       [4, 6]])"
      ]
     },
     "execution_count": 228,
     "metadata": {},
     "output_type": "execute_result"
    }
   ],
   "source": [
    "arr1"
   ]
  },
  {
   "cell_type": "code",
   "execution_count": 229,
   "id": "7b9acd80",
   "metadata": {},
   "outputs": [
    {
     "data": {
      "text/plain": [
       "array([[2, 6],\n",
       "       [3, 8]])"
      ]
     },
     "execution_count": 229,
     "metadata": {},
     "output_type": "execute_result"
    }
   ],
   "source": [
    "arr2"
   ]
  },
  {
   "cell_type": "code",
   "execution_count": 230,
   "id": "8ef26cac",
   "metadata": {},
   "outputs": [
    {
     "data": {
      "text/plain": [
       "array([[ 4, 10],\n",
       "       [ 7, 14]])"
      ]
     },
     "execution_count": 230,
     "metadata": {},
     "output_type": "execute_result"
    }
   ],
   "source": [
    "arr1 + arr2"
   ]
  },
  {
   "cell_type": "code",
   "execution_count": 231,
   "id": "60114ba1",
   "metadata": {},
   "outputs": [
    {
     "data": {
      "text/plain": [
       "array([[2, 4],\n",
       "       [4, 6]])"
      ]
     },
     "execution_count": 231,
     "metadata": {},
     "output_type": "execute_result"
    }
   ],
   "source": [
    "arr1"
   ]
  },
  {
   "cell_type": "code",
   "execution_count": 232,
   "id": "53dd8089",
   "metadata": {},
   "outputs": [
    {
     "data": {
      "text/plain": [
       "array([[2, 6],\n",
       "       [3, 8]])"
      ]
     },
     "execution_count": 232,
     "metadata": {},
     "output_type": "execute_result"
    }
   ],
   "source": [
    "arr2"
   ]
  },
  {
   "cell_type": "code",
   "execution_count": 233,
   "id": "8cd1d203",
   "metadata": {},
   "outputs": [
    {
     "data": {
      "text/plain": [
       "array([[16, 44],\n",
       "       [26, 72]])"
      ]
     },
     "execution_count": 233,
     "metadata": {},
     "output_type": "execute_result"
    }
   ],
   "source": [
    "arr1 @ arr2"
   ]
  },
  {
   "cell_type": "code",
   "execution_count": 234,
   "id": "68b04edb",
   "metadata": {},
   "outputs": [],
   "source": [
    "a1 = np.array([[4,2],[3,5]])\n",
    "a2 = np.array([[3,7],[4,2]])"
   ]
  },
  {
   "cell_type": "code",
   "execution_count": 235,
   "id": "d7a3528f",
   "metadata": {},
   "outputs": [
    {
     "data": {
      "text/plain": [
       "array([[20, 32],\n",
       "       [29, 31]])"
      ]
     },
     "execution_count": 235,
     "metadata": {},
     "output_type": "execute_result"
    }
   ],
   "source": [
    "a1 @ a2"
   ]
  },
  {
   "cell_type": "code",
   "execution_count": 236,
   "id": "86e8db72",
   "metadata": {},
   "outputs": [
    {
     "data": {
      "text/plain": [
       "array([[20, 32],\n",
       "       [29, 31]])"
      ]
     },
     "execution_count": 236,
     "metadata": {},
     "output_type": "execute_result"
    }
   ],
   "source": [
    "np.dot(a1,a2)"
   ]
  },
  {
   "cell_type": "code",
   "execution_count": 238,
   "id": "b71c7efa",
   "metadata": {},
   "outputs": [
    {
     "data": {
      "text/plain": [
       "array([[20, 32],\n",
       "       [29, 31]])"
      ]
     },
     "execution_count": 238,
     "metadata": {},
     "output_type": "execute_result"
    }
   ],
   "source": [
    "np.matmul(a1,a2)"
   ]
  },
  {
   "cell_type": "code",
   "execution_count": 239,
   "id": "77c4a38e",
   "metadata": {},
   "outputs": [],
   "source": [
    "number = np.random.randint(1,100,20)"
   ]
  },
  {
   "cell_type": "code",
   "execution_count": 241,
   "id": "ef5c1e09",
   "metadata": {},
   "outputs": [
    {
     "data": {
      "text/plain": [
       "array([64, 50, 16, 33, 72, 15, 26, 52,  5, 39, 45, 35, 35, 93, 85, 46, 65,\n",
       "       70, 54, 85])"
      ]
     },
     "execution_count": 241,
     "metadata": {},
     "output_type": "execute_result"
    }
   ],
   "source": [
    "number"
   ]
  },
  {
   "cell_type": "code",
   "execution_count": 242,
   "id": "7ad2b9eb",
   "metadata": {},
   "outputs": [
    {
     "data": {
      "text/plain": [
       "985"
      ]
     },
     "execution_count": 242,
     "metadata": {},
     "output_type": "execute_result"
    }
   ],
   "source": [
    "sum(number)"
   ]
  },
  {
   "cell_type": "code",
   "execution_count": 243,
   "id": "9de48929",
   "metadata": {},
   "outputs": [
    {
     "data": {
      "text/plain": [
       "985"
      ]
     },
     "execution_count": 243,
     "metadata": {},
     "output_type": "execute_result"
    }
   ],
   "source": [
    "number.sum()"
   ]
  },
  {
   "cell_type": "code",
   "execution_count": 244,
   "id": "a8508c33",
   "metadata": {},
   "outputs": [
    {
     "data": {
      "text/plain": [
       "5"
      ]
     },
     "execution_count": 244,
     "metadata": {},
     "output_type": "execute_result"
    }
   ],
   "source": [
    "number.min()"
   ]
  },
  {
   "cell_type": "code",
   "execution_count": 245,
   "id": "3d6b4404",
   "metadata": {},
   "outputs": [
    {
     "data": {
      "text/plain": [
       "93"
      ]
     },
     "execution_count": 245,
     "metadata": {},
     "output_type": "execute_result"
    }
   ],
   "source": [
    "number.max()"
   ]
  },
  {
   "cell_type": "code",
   "execution_count": 246,
   "id": "ea9d874d",
   "metadata": {},
   "outputs": [
    {
     "data": {
      "text/plain": [
       "23.9747262758097"
      ]
     },
     "execution_count": 246,
     "metadata": {},
     "output_type": "execute_result"
    }
   ],
   "source": [
    "number.std()"
   ]
  },
  {
   "cell_type": "code",
   "execution_count": 247,
   "id": "6ae25e27",
   "metadata": {},
   "outputs": [
    {
     "data": {
      "text/plain": [
       "49.25"
      ]
     },
     "execution_count": 247,
     "metadata": {},
     "output_type": "execute_result"
    }
   ],
   "source": [
    "number.mean()"
   ]
  },
  {
   "cell_type": "code",
   "execution_count": 249,
   "id": "22d0e61c",
   "metadata": {},
   "outputs": [
    {
     "data": {
      "text/plain": [
       "array([4096, 2500,  256, 1089, 5184,  225,  676, 2704,   25, 1521, 2025,\n",
       "       1225, 1225, 8649, 7225, 2116, 4225, 4900, 2916, 7225], dtype=int32)"
      ]
     },
     "execution_count": 249,
     "metadata": {},
     "output_type": "execute_result"
    }
   ],
   "source": [
    "np.power(number,2)"
   ]
  },
  {
   "cell_type": "code",
   "execution_count": 250,
   "id": "846cc00a",
   "metadata": {},
   "outputs": [],
   "source": [
    "arr = np.random.randint(1,10,(2,3))"
   ]
  },
  {
   "cell_type": "code",
   "execution_count": 251,
   "id": "43441b66",
   "metadata": {},
   "outputs": [
    {
     "data": {
      "text/plain": [
       "array([[1, 5, 9],\n",
       "       [3, 2, 5]])"
      ]
     },
     "execution_count": 251,
     "metadata": {},
     "output_type": "execute_result"
    }
   ],
   "source": [
    "arr"
   ]
  },
  {
   "cell_type": "code",
   "execution_count": 252,
   "id": "27cfb40c",
   "metadata": {},
   "outputs": [
    {
     "data": {
      "text/plain": [
       "array([ 4,  7, 14])"
      ]
     },
     "execution_count": 252,
     "metadata": {},
     "output_type": "execute_result"
    }
   ],
   "source": [
    "arr.sum(axis = 0)"
   ]
  },
  {
   "cell_type": "code",
   "execution_count": 253,
   "id": "75360b79",
   "metadata": {},
   "outputs": [
    {
     "data": {
      "text/plain": [
       "array([15, 10])"
      ]
     },
     "execution_count": 253,
     "metadata": {},
     "output_type": "execute_result"
    }
   ],
   "source": [
    "arr.sum(axis=1)"
   ]
  },
  {
   "cell_type": "code",
   "execution_count": 254,
   "id": "cf3d733d",
   "metadata": {},
   "outputs": [
    {
     "data": {
      "text/plain": [
       "array([1, 2, 5])"
      ]
     },
     "execution_count": 254,
     "metadata": {},
     "output_type": "execute_result"
    }
   ],
   "source": [
    "arr.min(axis = 0)"
   ]
  },
  {
   "cell_type": "code",
   "execution_count": 255,
   "id": "62212e46",
   "metadata": {},
   "outputs": [
    {
     "data": {
      "text/plain": [
       "array([1, 2])"
      ]
     },
     "execution_count": 255,
     "metadata": {},
     "output_type": "execute_result"
    }
   ],
   "source": [
    "arr.min(axis = 1)"
   ]
  },
  {
   "cell_type": "code",
   "execution_count": 256,
   "id": "04aca28e",
   "metadata": {},
   "outputs": [],
   "source": []
  },
  {
   "cell_type": "markdown",
   "id": "2edd0802",
   "metadata": {},
   "source": [
    "### Concatenation of an array"
   ]
  },
  {
   "cell_type": "code",
   "execution_count": 257,
   "id": "b440db0c",
   "metadata": {},
   "outputs": [],
   "source": [
    "arr1 = np.array([5,7,9])\n",
    "arr2 = np.array([3,4,7])"
   ]
  },
  {
   "cell_type": "code",
   "execution_count": 258,
   "id": "4e150afd",
   "metadata": {},
   "outputs": [
    {
     "data": {
      "text/plain": [
       "array([ 8, 11, 16])"
      ]
     },
     "execution_count": 258,
     "metadata": {},
     "output_type": "execute_result"
    }
   ],
   "source": [
    "arr1 + arr2"
   ]
  },
  {
   "cell_type": "code",
   "execution_count": 259,
   "id": "bda8fa93",
   "metadata": {},
   "outputs": [
    {
     "data": {
      "text/plain": [
       "array([5, 7, 9, 3, 4, 7])"
      ]
     },
     "execution_count": 259,
     "metadata": {},
     "output_type": "execute_result"
    }
   ],
   "source": [
    "np.concatenate([arr1,arr2])"
   ]
  },
  {
   "cell_type": "code",
   "execution_count": 263,
   "id": "8a9bf2f4",
   "metadata": {},
   "outputs": [
    {
     "data": {
      "text/plain": [
       "array([5, 7, 9, 3, 4, 7])"
      ]
     },
     "execution_count": 263,
     "metadata": {},
     "output_type": "execute_result"
    }
   ],
   "source": [
    "np.concatenate([arr1,arr2], axis=None)"
   ]
  },
  {
   "cell_type": "code",
   "execution_count": 264,
   "id": "62a8c935",
   "metadata": {},
   "outputs": [],
   "source": [
    "arr1 = np.array([[5,7,9],[3,4,7]])\n",
    "arr2 = np.array([[2,4,6],[2,5,8]])"
   ]
  },
  {
   "cell_type": "code",
   "execution_count": 266,
   "id": "2c3b674c",
   "metadata": {},
   "outputs": [
    {
     "data": {
      "text/plain": [
       "array([[5, 7, 9],\n",
       "       [3, 4, 7],\n",
       "       [2, 4, 6],\n",
       "       [2, 5, 8]])"
      ]
     },
     "execution_count": 266,
     "metadata": {},
     "output_type": "execute_result"
    }
   ],
   "source": [
    "np.concatenate([arr1,arr2],axis=0)"
   ]
  },
  {
   "cell_type": "code",
   "execution_count": 267,
   "id": "3923f904",
   "metadata": {},
   "outputs": [
    {
     "data": {
      "text/plain": [
       "array([5, 7, 9, 3, 4, 7, 2, 4, 6, 2, 5, 8])"
      ]
     },
     "execution_count": 267,
     "metadata": {},
     "output_type": "execute_result"
    }
   ],
   "source": [
    "# flatten array\n",
    "np.concatenate([arr1,arr2],axis=None) # by default axis = 0, axis = None (flatten array)\n",
    "# axis = 1"
   ]
  },
  {
   "cell_type": "code",
   "execution_count": 269,
   "id": "78594d29",
   "metadata": {},
   "outputs": [
    {
     "data": {
      "text/plain": [
       "array([[5, 7, 9],\n",
       "       [3, 4, 7]])"
      ]
     },
     "execution_count": 269,
     "metadata": {},
     "output_type": "execute_result"
    }
   ],
   "source": [
    "arr1"
   ]
  },
  {
   "cell_type": "code",
   "execution_count": 270,
   "id": "477a3cfd",
   "metadata": {},
   "outputs": [
    {
     "data": {
      "text/plain": [
       "array([[2, 4, 6],\n",
       "       [2, 5, 8]])"
      ]
     },
     "execution_count": 270,
     "metadata": {},
     "output_type": "execute_result"
    }
   ],
   "source": [
    "arr2"
   ]
  },
  {
   "cell_type": "code",
   "execution_count": 268,
   "id": "82da4e3c",
   "metadata": {},
   "outputs": [
    {
     "data": {
      "text/plain": [
       "array([[5, 7, 9, 2, 4, 6],\n",
       "       [3, 4, 7, 2, 5, 8]])"
      ]
     },
     "execution_count": 268,
     "metadata": {},
     "output_type": "execute_result"
    }
   ],
   "source": [
    "np.concatenate([arr1,arr2],axis=1)"
   ]
  },
  {
   "cell_type": "markdown",
   "id": "3f91bbcb",
   "metadata": {},
   "source": [
    "### Solution of NumPy\n",
    "\n",
    "Perform these matrices by your own and analyze the result."
   ]
  },
  {
   "cell_type": "code",
   "execution_count": 271,
   "id": "2316868b",
   "metadata": {},
   "outputs": [],
   "source": [
    "arr1 = np.array([[1,2,3],[4,5,6]])\n",
    "arr2 = np.array([[2,5,9],[3,4,5]])"
   ]
  },
  {
   "cell_type": "code",
   "execution_count": 272,
   "id": "9db8cebc",
   "metadata": {},
   "outputs": [
    {
     "data": {
      "text/plain": [
       "array([[1, 2, 3],\n",
       "       [4, 5, 6]])"
      ]
     },
     "execution_count": 272,
     "metadata": {},
     "output_type": "execute_result"
    }
   ],
   "source": [
    "arr1"
   ]
  },
  {
   "cell_type": "code",
   "execution_count": 273,
   "id": "d7c3e59a",
   "metadata": {},
   "outputs": [
    {
     "data": {
      "text/plain": [
       "array([[2, 5, 9],\n",
       "       [3, 4, 5]])"
      ]
     },
     "execution_count": 273,
     "metadata": {},
     "output_type": "execute_result"
    }
   ],
   "source": [
    "arr2"
   ]
  },
  {
   "cell_type": "code",
   "execution_count": 279,
   "id": "17aae173",
   "metadata": {},
   "outputs": [
    {
     "data": {
      "text/plain": [
       "array([[[1, 2, 3],\n",
       "        [2, 5, 9]],\n",
       "\n",
       "       [[4, 5, 6],\n",
       "        [3, 4, 5]]])"
      ]
     },
     "execution_count": 279,
     "metadata": {},
     "output_type": "execute_result"
    }
   ],
   "source": [
    "np.stack((arr1,arr2), axis = 1)"
   ]
  },
  {
   "cell_type": "code",
   "execution_count": 277,
   "id": "1fd319b1",
   "metadata": {},
   "outputs": [
    {
     "data": {
      "text/plain": [
       "array([[1, 2, 3, 2, 5, 9],\n",
       "       [4, 5, 6, 3, 4, 5]])"
      ]
     },
     "execution_count": 277,
     "metadata": {},
     "output_type": "execute_result"
    }
   ],
   "source": [
    "np.hstack((arr1,arr2))"
   ]
  },
  {
   "cell_type": "code",
   "execution_count": 280,
   "id": "539f01c4",
   "metadata": {},
   "outputs": [
    {
     "data": {
      "text/plain": [
       "array([[1, 2, 3],\n",
       "       [4, 5, 6],\n",
       "       [2, 5, 9],\n",
       "       [3, 4, 5]])"
      ]
     },
     "execution_count": 280,
     "metadata": {},
     "output_type": "execute_result"
    }
   ],
   "source": [
    "np.vstack((arr1,arr2))"
   ]
  },
  {
   "cell_type": "code",
   "execution_count": 281,
   "id": "c5302b1c",
   "metadata": {},
   "outputs": [],
   "source": [
    "np.dstack?"
   ]
  },
  {
   "cell_type": "code",
   "execution_count": 282,
   "id": "26617e06",
   "metadata": {},
   "outputs": [],
   "source": [
    "a = np.array((1,2,3))\n",
    "b = np.array((2,3,4))"
   ]
  },
  {
   "cell_type": "code",
   "execution_count": 283,
   "id": "c0a1dba3",
   "metadata": {},
   "outputs": [
    {
     "data": {
      "text/plain": [
       "array([[[1, 2],\n",
       "        [2, 3],\n",
       "        [3, 4]]])"
      ]
     },
     "execution_count": 283,
     "metadata": {},
     "output_type": "execute_result"
    }
   ],
   "source": [
    "np.dstack((a,b))"
   ]
  },
  {
   "cell_type": "code",
   "execution_count": 284,
   "id": "b76eeec5",
   "metadata": {},
   "outputs": [],
   "source": [
    "a = np.array((1,2,3,4))\n",
    "b = np.array((2,3,4,4))"
   ]
  },
  {
   "cell_type": "code",
   "execution_count": 285,
   "id": "9eddfc22",
   "metadata": {},
   "outputs": [
    {
     "data": {
      "text/plain": [
       "array([[[1, 2],\n",
       "        [2, 3],\n",
       "        [3, 4],\n",
       "        [4, 4]]])"
      ]
     },
     "execution_count": 285,
     "metadata": {},
     "output_type": "execute_result"
    }
   ],
   "source": [
    "np.dstack((a,b))"
   ]
  },
  {
   "cell_type": "code",
   "execution_count": 286,
   "id": "2a4f4084",
   "metadata": {},
   "outputs": [],
   "source": [
    "a = np.array((1,2,3,4,6))\n",
    "b = np.array((2,3,4,4,9))"
   ]
  },
  {
   "cell_type": "code",
   "execution_count": 287,
   "id": "8a44b20c",
   "metadata": {},
   "outputs": [
    {
     "data": {
      "text/plain": [
       "array([[[1, 2],\n",
       "        [2, 3],\n",
       "        [3, 4],\n",
       "        [4, 4],\n",
       "        [6, 9]]])"
      ]
     },
     "execution_count": 287,
     "metadata": {},
     "output_type": "execute_result"
    }
   ],
   "source": [
    "np.dstack((a,b))"
   ]
  },
  {
   "cell_type": "code",
   "execution_count": 288,
   "id": "fe372c35",
   "metadata": {},
   "outputs": [],
   "source": [
    "# split function"
   ]
  },
  {
   "cell_type": "code",
   "execution_count": 292,
   "id": "ba4b0f61",
   "metadata": {},
   "outputs": [],
   "source": [
    "arr = np.random.randint(1,20,10)"
   ]
  },
  {
   "cell_type": "code",
   "execution_count": 293,
   "id": "9181b2bb",
   "metadata": {},
   "outputs": [
    {
     "data": {
      "text/plain": [
       "array([ 7,  7, 13, 18,  1, 18,  9, 19, 12, 18])"
      ]
     },
     "execution_count": 293,
     "metadata": {},
     "output_type": "execute_result"
    }
   ],
   "source": [
    "arr"
   ]
  },
  {
   "cell_type": "code",
   "execution_count": 294,
   "id": "47d22077",
   "metadata": {},
   "outputs": [
    {
     "data": {
      "text/plain": [
       "[array([ 7,  7, 13, 18,  1]), array([18,  9, 19, 12, 18])]"
      ]
     },
     "execution_count": 294,
     "metadata": {},
     "output_type": "execute_result"
    }
   ],
   "source": [
    "np.split(arr,2)"
   ]
  },
  {
   "cell_type": "code",
   "execution_count": 296,
   "id": "a3a96447",
   "metadata": {},
   "outputs": [
    {
     "data": {
      "text/plain": [
       "[array([ 7,  7, 13]), array([18]), array([ 1, 18,  9, 19, 12, 18])]"
      ]
     },
     "execution_count": 296,
     "metadata": {},
     "output_type": "execute_result"
    }
   ],
   "source": [
    "np.split(arr,[3,4])"
   ]
  },
  {
   "cell_type": "code",
   "execution_count": 297,
   "id": "a2110a52",
   "metadata": {},
   "outputs": [
    {
     "data": {
      "text/plain": [
       "array([ 7,  7, 13, 18,  1, 18,  9, 19, 12, 18])"
      ]
     },
     "execution_count": 297,
     "metadata": {},
     "output_type": "execute_result"
    }
   ],
   "source": [
    "arr"
   ]
  },
  {
   "cell_type": "code",
   "execution_count": 298,
   "id": "28fac854",
   "metadata": {},
   "outputs": [
    {
     "data": {
      "text/plain": [
       "[array([ 7,  7, 13, 18]), array([ 1, 18,  9]), array([19, 12, 18])]"
      ]
     },
     "execution_count": 298,
     "metadata": {},
     "output_type": "execute_result"
    }
   ],
   "source": [
    "np.split(arr,[4,7])"
   ]
  },
  {
   "cell_type": "code",
   "execution_count": 299,
   "id": "be999c78",
   "metadata": {},
   "outputs": [
    {
     "data": {
      "text/plain": [
       "[array([ 7,  7, 13, 18]), array([ 1, 18,  9]), array([19, 12, 18])]"
      ]
     },
     "execution_count": 299,
     "metadata": {},
     "output_type": "execute_result"
    }
   ],
   "source": [
    "np.array_split(arr,3)"
   ]
  },
  {
   "cell_type": "code",
   "execution_count": null,
   "id": "f9408097",
   "metadata": {},
   "outputs": [],
   "source": []
  }
 ],
 "metadata": {
  "kernelspec": {
   "display_name": "Python 3 (ipykernel)",
   "language": "python",
   "name": "python3"
  },
  "language_info": {
   "codemirror_mode": {
    "name": "ipython",
    "version": 3
   },
   "file_extension": ".py",
   "mimetype": "text/x-python",
   "name": "python",
   "nbconvert_exporter": "python",
   "pygments_lexer": "ipython3",
   "version": "3.11.2"
  }
 },
 "nbformat": 4,
 "nbformat_minor": 5
}
