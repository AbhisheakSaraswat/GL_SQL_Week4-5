{
 "cells": [
  {
   "cell_type": "markdown",
   "metadata": {
    "id": "IFRKAPjMMu_H"
   },
   "source": [
    "<table align=\"left\" width=100%>\n",
    "    <tr>\n",
    "        <td width=\"20%\">\n",
    "            <img src=\"GL-2.png\">\n",
    "        </td>\n",
    "        <td>\n",
    "            <div align=\"center\">\n",
    "                <font color=\"#21618C\" size=8px>\n",
    "                  <b> Faculty Notebook <br> (Week- 1) </b>\n",
    "                </font>\n",
    "            </div>\n",
    "        </td>\n",
    "    </tr>\n",
    "</table>"
   ]
  },
  {
   "cell_type": "markdown",
   "metadata": {
    "collapsed": true,
    "id": "qbukc_D7Mu_N"
   },
   "source": [
    "## Table of Content\n",
    "\n",
    "1. **[Python Operators](#oper)**\n",
    "    - 1.1 - [Arithmetic Operator](#arith)\n",
    "    - 1.2 - [Comparison Operator](#comp)\n",
    "    - 1.3 - [Assignment Operator](#assign)\n",
    "    - 1.4 - [Logical Operator](#logic)\n",
    "    - 1.5 - [Membership Operator](#member)\n",
    "    - 1.6 - [Bitwise Operator](#bitwise)\n",
    "2. **[Python Flow Control](#pfc)**\n",
    "    - 2.1 - [if - statement](#condition)\n",
    "    - 2.2 - [while- loop](#while)\n",
    "    - 2.3 - [for- loop](#for)\n",
    "3. **[Pseudocode](#pseudo)**\n",
    "4. **[Introduction to List](#list)**\n",
    "5. **[Introduction to Tuple](#tuple)**\n",
    "6. **[Introduction to Dictionary](#dictionary)**\n",
    "7. **[Introduction to Sets](#sets)**"
   ]
  },
  {
   "cell_type": "markdown",
   "metadata": {},
   "source": [
    "<a id=\"oper\"> </a>\n",
    "## Python Operators\n",
    "\n",
    "\n",
    "<table align=\"left\">\n",
    "    <tr>\n",
    "        <td width=\"15%\">\n",
    "            <img src=\"note.png\">\n",
    "        </td>\n",
    "        <td>\n",
    "            <div align=\"left\", style=\"font-size:120%\">\n",
    "                <font color=\"#21618C\">\n",
    "                    <b>\n",
    "                        <br>Operators are special symbols in Python that carry out arithmetic or logical computation. The value that the operator operates on is called the operand.<br>\n",
    "                        <br>Python Operator falls into following categories:\n",
    "                        <br>1. Arithmetic Operator\n",
    "                        <br>2. Comparison Operator\n",
    "                        <br>3. Assignment Operator\n",
    "                        <br>4. Logical Operator\n",
    "                        <br>5. Membership Operator\n",
    "                        <br>6. Bitwise Operator\n",
    "                    </b>\n",
    "                </font>\n",
    "            </div>\n",
    "        </td>\n",
    "    </tr>\n",
    "</table>"
   ]
  },
  {
   "cell_type": "markdown",
   "metadata": {},
   "source": [
    "<a id=\"arith\"> </a>\n",
    "### Arithmetic Operator\n",
    "Arithmetic operators are used to perform mathematical operations like addition, subtraction, multiplication etc."
   ]
  },
  {
   "cell_type": "code",
   "execution_count": 1,
   "metadata": {},
   "outputs": [
    {
     "name": "stdout",
     "output_type": "stream",
     "text": [
      "a + b = 14\n",
      "a - b = 10\n",
      "a * b = 24\n",
      "a % b = 0\n",
      "a / b = 6.0\n",
      "a // b = 6\n",
      "a ** b = 144\n"
     ]
    }
   ],
   "source": [
    "a = 12\n",
    "b = 2\n",
    "# '+' Operator\n",
    "print('a + b =',a+b)                  # Prints addition of a and b\n",
    "\n",
    "# '-' Operator\n",
    "print('a - b =',a-b)                  # Prints subtraction of  a and b\n",
    "\n",
    "# '*' Operator\n",
    "print('a * b =',a*b)                  # Prints multiplication of  a and b\n",
    "\n",
    "# '%' Operator\n",
    "print('a % b =',a%b)                  # Prints remainder of division between a and b\n",
    "\n",
    "# '/' Operator\n",
    "print('a / b =',a/b)                  # Prints division of  a and b\n",
    "\n",
    "# '//' Operator\n",
    "print('a // b =',a//b)                # Prints the interger value of the division between a and b \n",
    "\n",
    "# '**' Operator\n",
    "print('a ** b =',a**b)                # Prints the result of a to the power b\n"
   ]
  },
  {
   "cell_type": "markdown",
   "metadata": {},
   "source": [
    "<a id=\"comp\"> </a>\n",
    "### Comparison Operator\n",
    "Comparison Operator carries out the comparison between operands. They tell us whether an operand is greater than the other, lesser, equal, or a combination of those. It either returns <em>True</em> or <em>False</em> according to the condition."
   ]
  },
  {
   "cell_type": "code",
   "execution_count": 2,
   "metadata": {},
   "outputs": [
    {
     "name": "stdout",
     "output_type": "stream",
     "text": [
      "a > b  is False\n",
      "a < b  is True\n",
      "a == b  is False\n",
      "a != b  is True\n",
      "a >= b  is False\n",
      "a <= b  is True\n"
     ]
    }
   ],
   "source": [
    "a = 10\n",
    "b = 20\n",
    "\n",
    "# '>' Operator\n",
    "print('a > b  is',a>b)                 # Prints False since a is smaller than b\n",
    "\n",
    "# '<' Operator\n",
    "print('a < b  is',a<b)                 # Prints True since a is smaller than b\n",
    "\n",
    "# '==' Operator\n",
    "print('a == b  is',a==b)                 # Prints False since a and b are not equal\n",
    "\n",
    "# '!=' Operator\n",
    "print('a != b  is',a!=b)                 # Prints True since a is not equal to b\n",
    "\n",
    "# '>=' Operator\n",
    "print('a >= b  is',a>=b)                 # Prints False since a is not smaller nor equal to b\n",
    "\n",
    "# '<= y' Operator\n",
    "print('a <= b  is',a<=b)                 # Prints True since a is smaller than b"
   ]
  },
  {
   "cell_type": "markdown",
   "metadata": {},
   "source": [
    "<a id=\"assign\"> </a>\n",
    "### Assignment Operator\n",
    "An assignment operator assigns a value to a variable. It may manipulate the value by a factor before assigning it."
   ]
  },
  {
   "cell_type": "code",
   "execution_count": 3,
   "metadata": {},
   "outputs": [
    {
     "name": "stdout",
     "output_type": "stream",
     "text": [
      "x =  5\n",
      "Updated value of x after (x += 5) is 10\n",
      "Updated value of x after (x -=2) is 8\n",
      "Updated value of x after (x *= 2) is 16\n",
      "Updated value of x after (x /= 2) is 4.0\n"
     ]
    }
   ],
   "source": [
    "# '=' Operator\n",
    "x = 5                                 # Assigns the value to the variable on the left\n",
    "print(\"x = \", x)\n",
    "\n",
    "# '+=' Operator                 \n",
    "x += 5 \n",
    "print(\"Updated value of x after (x += 5) is\", x)     # Adds the values on either side and assigns it to the expression on the left. x+=5 is the same as x=x+5.\n",
    "\n",
    "# '-=' Operator\n",
    "x -=2\n",
    "print(\"Updated value of x after (x -=2) is\", x)     # Subtracts 2 from the latest value of x and assigns it to x(which is 10).\n",
    "\n",
    "# '*=' Operator\n",
    "x *= 2\n",
    "print(\"Updated value of x after (x *= 2) is\", x)     # Multiplies the current value of x with 2 and assigns the result to the same variable\n",
    "\n",
    "# '/=' Operator\n",
    "x /= 4 \n",
    "print('Updated value of x after (x /= 2) is', x)     # Divides the current value of x with 4 and assigns the result to the same variable\n"
   ]
  },
  {
   "cell_type": "markdown",
   "metadata": {},
   "source": [
    "<em>i+=1 is the same as i=i+1, whereas i=+1 just means i=(+1)</em>"
   ]
  },
  {
   "cell_type": "markdown",
   "metadata": {},
   "source": [
    "<a id=\"logic\"> </a>\n",
    "### Logical Operators\n",
    "Logical operators are like conjunctions that you can use to combine more than one condition. We have three Python logical operator – **<em>and</em>**, **<em>or</em>**, and **<em>not</em>** that come under python operators."
   ]
  },
  {
   "cell_type": "markdown",
   "metadata": {},
   "source": [
    "#### 'and' Operator\n",
    "If the conditions on both the sides of the operator are true, then the expression as a whole is true."
   ]
  },
  {
   "cell_type": "code",
   "execution_count": 4,
   "metadata": {},
   "outputs": [
    {
     "name": "stdout",
     "output_type": "stream",
     "text": [
      "True\n"
     ]
    }
   ],
   "source": [
    "x = 11\n",
    "a = x>10 and x<20\n",
    "print(a)"
   ]
  },
  {
   "cell_type": "markdown",
   "metadata": {},
   "source": [
    "Here both the conditions are satisfied. Therefore we have True as the output."
   ]
  },
  {
   "cell_type": "code",
   "execution_count": 5,
   "metadata": {},
   "outputs": [
    {
     "name": "stdout",
     "output_type": "stream",
     "text": [
      "False\n"
     ]
    }
   ],
   "source": [
    "x = 11\n",
    "a = x>10 and x==12\n",
    "print(a)"
   ]
  },
  {
   "cell_type": "markdown",
   "metadata": {},
   "source": [
    "Here one of the condition is not satisfied. Therefore we have False as the output."
   ]
  },
  {
   "cell_type": "markdown",
   "metadata": {},
   "source": [
    "#### 'or' Operator\n",
    "The expression is false only if both the statements around the operator are false. Otherwise, it is true."
   ]
  },
  {
   "cell_type": "code",
   "execution_count": 6,
   "metadata": {},
   "outputs": [
    {
     "name": "stdout",
     "output_type": "stream",
     "text": [
      "True\n"
     ]
    }
   ],
   "source": [
    "x = 11\n",
    "a = x>10 or x==20\n",
    "print(a)"
   ]
  },
  {
   "cell_type": "markdown",
   "metadata": {},
   "source": [
    "Here one of the condition is satisfied. Therefore we have True as the output."
   ]
  },
  {
   "cell_type": "code",
   "execution_count": 7,
   "metadata": {},
   "outputs": [
    {
     "name": "stdout",
     "output_type": "stream",
     "text": [
      "False\n"
     ]
    }
   ],
   "source": [
    "x = 11\n",
    "a = x>12 or x==20\n",
    "print(a)"
   ]
  },
  {
   "cell_type": "markdown",
   "metadata": {},
   "source": [
    "None of the above condition is True. Therefore we have False as the output"
   ]
  },
  {
   "cell_type": "markdown",
   "metadata": {},
   "source": [
    "#### 'not' Operator\n",
    "It converts True to False, and False to True. So, basically, <em>not</em> inverts the Boolean value of an expression"
   ]
  },
  {
   "cell_type": "code",
   "execution_count": 8,
   "metadata": {},
   "outputs": [
    {
     "name": "stdout",
     "output_type": "stream",
     "text": [
      "True\n"
     ]
    }
   ],
   "source": [
    "x = 11\n",
    "a = x>12 or x==20\n",
    "print(not a)"
   ]
  },
  {
   "cell_type": "markdown",
   "metadata": {},
   "source": [
    "Since both the conditions are false in the above code, False is stored in <em>a</em> and finally the not operator inverts False to True"
   ]
  },
  {
   "cell_type": "markdown",
   "metadata": {},
   "source": [
    "<a id=\"member\"> </a>\n",
    "### Membership Operator"
   ]
  },
  {
   "cell_type": "markdown",
   "metadata": {},
   "source": [
    "Membership operators tests whether a value is a member of a sequence. The sequence may be a list, a string, a tuple, or a dictionary. <br>\n",
    "<br><em>in</em> and <em>not in</em> are the membership operators in Python. The output is in terms of True or False."
   ]
  },
  {
   "cell_type": "code",
   "execution_count": 9,
   "metadata": {},
   "outputs": [
    {
     "name": "stdout",
     "output_type": "stream",
     "text": [
      "True\n",
      "False\n"
     ]
    }
   ],
   "source": [
    "# String\n",
    "a = 'Great Learning'\n",
    "\n",
    "# Output: True\n",
    "print('L' in a)\n",
    "\n",
    "# Output: False\n",
    "print('O' in a)"
   ]
  },
  {
   "cell_type": "markdown",
   "metadata": {},
   "source": [
    "<a id=\"bitwise\"> </a>\n",
    "### Bitwise Operator"
   ]
  },
  {
   "cell_type": "markdown",
   "metadata": {},
   "source": [
    "These operators perform bit by bit operations on the operands. "
   ]
  },
  {
   "cell_type": "code",
   "execution_count": 10,
   "metadata": {},
   "outputs": [
    {
     "name": "stdout",
     "output_type": "stream",
     "text": [
      "2\n",
      "15\n",
      "13\n",
      "-11\n",
      "40\n",
      "2\n"
     ]
    }
   ],
   "source": [
    "a = 10\n",
    "b = 7\n",
    "\n",
    "# Bitwise and(&) operator\n",
    "print(a & b)              # binary for 10 is 1010 and binary for 7 is 111. If we & each bit we get 0010. which is 2\n",
    "\n",
    "# Bitwise or(|) operator\n",
    "print(a | b)              # binary for 10 is 1010 and binary for 7 is 111. If we | each bit we get 1111, which is 15\n",
    "\n",
    "# Bitwise xor(^) operator\n",
    "print(a^b)                # binary for 10 is 1010 and binary for 7 is 111. If we ~ each bit we get 1101, which is 13\n",
    "\n",
    "# Bitwise One’s Complement(~) operator. Python One's complement of a number ‘A’ is equal to -(A+1)\n",
    "print(~a)                 # binary for 10 is 1010. One's complement for 1010 is -(1010+1) --> -(1011), which is -11\n",
    "\n",
    "# Bitwise left shift(<<) operator \n",
    "print(a<<2)               # binary for 10 is 1010 and <<2 will convert 1010 to 101000 which is 40\n",
    "\n",
    "# Bitwise left shift(<<) operator \n",
    "print(a>>2)               # binary for 10 is 1010 and >>2 will convert 1010 to 10 which is 2"
   ]
  },
  {
   "cell_type": "markdown",
   "metadata": {
    "id": "KWHIPGtfWJDN"
   },
   "source": [
    "<a id=\"pfc\"> </a>\n",
    "## Python flow control\n",
    "<table align=\"left\">\n",
    "    <tr>\n",
    "        <td width=\"15%\">\n",
    "            <img src=\"note.png\">\n",
    "        </td>\n",
    "        <td>\n",
    "            <div align=\"left\", style=\"font-size:120%\">\n",
    "                <font color=\"#21618C\">\n",
    "                    <b>\n",
    "                        <br>A program’s control flow is the order in which the program’s code executes. The control flow of a Python program is regulated by: <br>\n",
    "                        <br>1. Conditional Statements\n",
    "                        <br>2. Loops, and \n",
    "                        <br>3. Function Calls\n",
    "                    </b>\n",
    "                </font>\n",
    "            </div>\n",
    "        </td>\n",
    "    </tr>\n",
    "</table>"
   ]
  },
  {
   "cell_type": "markdown",
   "metadata": {
    "id": "WbhkjF98WJDO"
   },
   "source": [
    "<td width=\"15%\">\n",
    "            <img src=\"control.png\">\n",
    "</td>"
   ]
  },
  {
   "cell_type": "markdown",
   "metadata": {
    "id": "1SwsLAbNWJDO"
   },
   "source": [
    "The **selection** structure tests a condition, then executes one sequence of statements instead of another, depending on whether the condition is true or false. A condition is any variable or expression that returns a BOOLEAN value (TRUE or FALSE).<br><br>\n",
    "The **iteration** structure executes a sequence of statements repeatedly as long as a condition holds true.<br><br>\n",
    "The **sequence** structure simply executes a sequence of statements in the order in which they occur.<br><br>"
   ]
  },
  {
   "cell_type": "markdown",
   "metadata": {
    "id": "oUnP8V7vWJDP"
   },
   "source": [
    "<a id=\"condition\"> </a>\n",
    "### The if- statement\n",
    "You might want to execute some statements only if some condition holds, or choose statements to execute depending on several mutually exclusive conditions. The Python compound statement if, which uses if, elif, and else clauses, lets you conditionally execute blocks of statements."
   ]
  },
  {
   "cell_type": "markdown",
   "metadata": {
    "id": "YwBYw-_yWJDP"
   },
   "source": [
    "#### Syntax:\n",
    "<em>if test_expression1:\n",
    "<br> &emsp;&emsp;statement(s)</br>\n",
    "<br>elif test_expression2:\n",
    "<br>&emsp;&emsp;    statement(s)\n",
    "<br>elif test_expression3:\n",
    "<br>&emsp;&emsp;    statement(s)\n",
    "<br>.\n",
    "<br>.\n",
    "<br>.\n",
    "<br>else:\n",
    " <br>&emsp;&emsp;   statement(s)"
   ]
  },
  {
   "cell_type": "code",
   "execution_count": 11,
   "metadata": {
    "colab": {
     "base_uri": "https://localhost:8080/"
    },
    "executionInfo": {
     "elapsed": 488,
     "status": "ok",
     "timestamp": 1667812117931,
     "user": {
      "displayName": "David Pratap",
      "userId": "09405790748084406328"
     },
     "user_tz": -330
    },
    "id": "E7zMpWy5WJDQ",
    "outputId": "e2755351-3c36-466d-9c38-2b0168b804bc"
   },
   "outputs": [
    {
     "name": "stdout",
     "output_type": "stream",
     "text": [
      "x is positive and odd\n"
     ]
    }
   ],
   "source": [
    "x = 5\n",
    "if x < 0: \n",
    "    print (\"x is negative\")\n",
    "elif x % 2: \n",
    "    print (\"x is positive and odd\")\n",
    "else: \n",
    "    print (\"x is even and non-negative\")"
   ]
  },
  {
   "cell_type": "markdown",
   "metadata": {
    "id": "dso25wH5WJDS"
   },
   "source": [
    "<a id=\"while\"> </a>\n",
    "### The while- Loop\n",
    "A while loop is a control flow statement that allows code to be executed repeatedly based on a given Boolean condition. The while loop can be thought of as a repeating if statement."
   ]
  },
  {
   "cell_type": "markdown",
   "metadata": {
    "id": "SpYkcYLVWJDS"
   },
   "source": [
    "#### Syntax:\n",
    "<em>while test_expression:\n",
    "<br> &emsp;&emsp;statement(s)\n",
    "</em>\n",
    "<br><br>First, test_expression, which is known as the loop condition, is evaluated. If the condition is false, the while statement ends. If the loop condition is satisfied, the statement or statements that comprise the loop body are executed. When the loop body finishes executing, the loop condition is evaluated again, to see if another iteration should be performed. This process continues until the loop condition is false, at which point the while statement ends."
   ]
  },
  {
   "cell_type": "code",
   "execution_count": 12,
   "metadata": {
    "colab": {
     "base_uri": "https://localhost:8080/"
    },
    "executionInfo": {
     "elapsed": 361,
     "status": "ok",
     "timestamp": 1667812122178,
     "user": {
      "displayName": "David Pratap",
      "userId": "09405790748084406328"
     },
     "user_tz": -330
    },
    "id": "AKrv_wDIWJDS",
    "outputId": "97bc0451-66f6-43c5-f02c-82e7c53b574a"
   },
   "outputs": [
    {
     "name": "stdout",
     "output_type": "stream",
     "text": [
      "The sum is 55\n"
     ]
    }
   ],
   "source": [
    "n = 10\n",
    "\n",
    "# initialize sum and counter\n",
    "sum = 0\n",
    "i = 1\n",
    "\n",
    "while i <= n:\n",
    "    sum = sum + i\n",
    "    i = i+1    # update counter\n",
    "\n",
    "# print the sum\n",
    "print(\"The sum is\", sum)"
   ]
  },
  {
   "cell_type": "markdown",
   "metadata": {
    "id": "BdXkyLqsWJDT"
   },
   "source": [
    "<a id=\"for\"> </a>\n",
    "### The for- Loop\n",
    "The for loop in Python is used to iterate over a sequence (list, tuple, string) or other iterable objects. Iterating over a sequence is called traversal."
   ]
  },
  {
   "cell_type": "markdown",
   "metadata": {
    "id": "orn12qw5WJDT"
   },
   "source": [
    "#### Syntax:\n",
    "<em>for iterator in sequence:\n",
    "<br> &emsp;&emsp;statement(s)\n",
    "</em>"
   ]
  },
  {
   "cell_type": "code",
   "execution_count": 13,
   "metadata": {
    "colab": {
     "base_uri": "https://localhost:8080/"
    },
    "executionInfo": {
     "elapsed": 377,
     "status": "ok",
     "timestamp": 1667812129562,
     "user": {
      "displayName": "David Pratap",
      "userId": "09405790748084406328"
     },
     "user_tz": -330
    },
    "id": "uNZYWPAqWJDT",
    "outputId": "03740f09-212b-4fdc-f530-39fb938fdf74"
   },
   "outputs": [
    {
     "name": "stdout",
     "output_type": "stream",
     "text": [
      "I\n",
      " \n",
      "l\n",
      "o\n",
      "v\n",
      "e\n",
      " \n",
      "P\n",
      "y\n",
      "t\n",
      "h\n",
      "o\n",
      "n\n",
      " \n"
     ]
    }
   ],
   "source": [
    "string = \"I love Python \"\n",
    "for i in string:\n",
    "    print(i)"
   ]
  },
  {
   "cell_type": "markdown",
   "metadata": {
    "id": "_bsRfRr3WJDT"
   },
   "source": [
    "#### The range() function"
   ]
  },
  {
   "cell_type": "markdown",
   "metadata": {
    "id": "TCJjOJVtWJDT"
   },
   "source": [
    "We can generate a sequence of numbers using <em>range()</em> function. <em>range(10)</em> will generate numbers from 0 to 9 (10 numbers). We can also define the start, stop and step size as range(start,stop,step size). step size defaults to 1 if not provided. \n",
    "<br><br>\n",
    "This function does not store all the values in memory, it would be inefficient. So it remembers the start, stop, step size and generates the next number on the go.<br>\n"
   ]
  },
  {
   "cell_type": "code",
   "execution_count": 14,
   "metadata": {
    "colab": {
     "base_uri": "https://localhost:8080/"
    },
    "executionInfo": {
     "elapsed": 2,
     "status": "ok",
     "timestamp": 1667812133318,
     "user": {
      "displayName": "David Pratap",
      "userId": "09405790748084406328"
     },
     "user_tz": -330
    },
    "id": "3Ds0QSq9WJDU",
    "outputId": "d6167c35-e9b8-4713-836d-352611633836"
   },
   "outputs": [
    {
     "data": {
      "text/plain": [
       "range(0, 10)"
      ]
     },
     "execution_count": 14,
     "metadata": {},
     "output_type": "execute_result"
    }
   ],
   "source": [
    "range(0, 10)"
   ]
  },
  {
   "cell_type": "markdown",
   "metadata": {
    "id": "_7BytQxXWJDU"
   },
   "source": [
    "We can use the <em>range()</em> function in for loops to iterate through a sequence of numbers. It can be combined with the <em>len()</em> function to iterate though a sequence using indexing."
   ]
  },
  {
   "cell_type": "code",
   "execution_count": 15,
   "metadata": {
    "colab": {
     "base_uri": "https://localhost:8080/"
    },
    "executionInfo": {
     "elapsed": 11,
     "status": "ok",
     "timestamp": 1667812134447,
     "user": {
      "displayName": "David Pratap",
      "userId": "09405790748084406328"
     },
     "user_tz": -330
    },
    "id": "yV1ZAI2iWJDU",
    "outputId": "c76154ce-fb21-49d0-f908-cfafef458bf5"
   },
   "outputs": [
    {
     "name": "stdout",
     "output_type": "stream",
     "text": [
      "0\n",
      "1\n",
      "2\n",
      "3\n",
      "4\n",
      "5\n",
      "6\n",
      "7\n",
      "8\n",
      "9\n"
     ]
    }
   ],
   "source": [
    "for i in range(10):\n",
    "    print(i)"
   ]
  },
  {
   "cell_type": "code",
   "execution_count": 16,
   "metadata": {
    "colab": {
     "base_uri": "https://localhost:8080/"
    },
    "executionInfo": {
     "elapsed": 8,
     "status": "ok",
     "timestamp": 1667812134448,
     "user": {
      "displayName": "David Pratap",
      "userId": "09405790748084406328"
     },
     "user_tz": -330
    },
    "id": "zttIJK7bWJDU",
    "outputId": "46464457-fccd-4dce-ccda-b796efc0b570"
   },
   "outputs": [
    {
     "name": "stdout",
     "output_type": "stream",
     "text": [
      "P\n",
      "y\n",
      "t\n",
      "h\n",
      "o\n",
      "n\n",
      " \n",
      "P\n",
      "r\n",
      "o\n",
      "g\n",
      "r\n",
      "a\n",
      "m\n",
      "m\n",
      "i\n",
      "n\n",
      "g\n"
     ]
    }
   ],
   "source": [
    "string = \"Python Programming\"\n",
    "\n",
    "# iterate over the string using index\n",
    "for i in range(len(string)):\n",
    "    print(string[i])"
   ]
  },
  {
   "cell_type": "markdown",
   "metadata": {
    "id": "xQN23dqRWJDU"
   },
   "source": [
    "<a id=\"pseudo\"> </a>\n",
    "## Pseudocode\n",
    "<table align=\"left\">\n",
    "    <tr>\n",
    "        <td width=\"15%\">\n",
    "            <img src=\"note.png\">\n",
    "        </td>\n",
    "        <td>\n",
    "            <div align=\"left\", style=\"font-size:120%\">\n",
    "                <font color=\"#21618C\">\n",
    "                    <b>\n",
    "                        <br>Before you write a piece of computer code, you have to know what the program is supposed to do. It is a good idea to write it in a simple way first to ensure you have included everything you need. The best way to set this up is by using pseudocode. <br>\n",
    "                    <br><br>Pseudocode is a simple way of writing programming code in English. It is not actual programming language. It uses short phrases to write code for programs before you actually create it in a specific language. Once you know what the program is about and how it will function, then you can use pseudocode to create statements to achieve the required results for your program.<br>\n",
    "                        \n",
    "                    </b>\n",
    "                </font>\n",
    "            </div>\n",
    "        </td>\n",
    "    </tr>\n",
    "</table>"
   ]
  },
  {
   "cell_type": "markdown",
   "metadata": {
    "id": "yhx1ETAhWJDV"
   },
   "source": [
    "**Pseudocode to create a program to add 2 numbers together and display the result.<br>**\n",
    "<em>\n",
    "<br>Read two numbers, A, B from user \n",
    "<br>Add the numbers in variable A and B\n",
    "<br>Print Sum<br>\n",
    "</em>"
   ]
  },
  {
   "cell_type": "markdown",
   "metadata": {
    "id": "aokQ54VDWJDV"
   },
   "source": [
    "Pseudocode can be written how you want. But some companies use specific pseudocode rules to keep everyone in the company on the same page. "
   ]
  },
  {
   "cell_type": "markdown",
   "metadata": {
    "id": "Id2zdyx1WJDV"
   },
   "source": [
    "**Pseudocode to create a program to check if a student has cleared the exam or not.<br>**\n",
    "<em>\n",
    "<br>Take students grade from the user \n",
    "<br>If student's grade is greater than or equal to 60, print \"pass\"\n",
    "<br>Otherwise print \"fail\"<br>\n",
    "</em>"
   ]
  },
  {
   "cell_type": "markdown",
   "metadata": {
    "id": "Bno-TB2OWJDV"
   },
   "source": [
    "**Pseudocode to create a program to print the average marks of ten students**\n",
    "\n",
    "<em>\n",
    "<br>Set total to zero \n",
    "<br>Set grade counter to one\n",
    "<br>While grade counter is less than or equal to ten\n",
    "<br>&emsp;&emsp;Input the next grade\n",
    "<br>&emsp;&emsp;Add the grade into the total\n",
    "<br>Set the class average to the total divided by ten\n",
    "<br>Print the class average.\n",
    "\n",
    "\n",
    "</em>"
   ]
  },
  {
   "cell_type": "markdown",
   "metadata": {
    "id": "9OLvCAzPMu_R"
   },
   "source": [
    "<a id=\"list\"> </a>\n",
    "## Introduction to List\n",
    "<table align=\"left\">\n",
    "    <tr>\n",
    "        <td width=\"15%\">\n",
    "            <img src=\"note.png\">\n",
    "        </td>\n",
    "        <td>\n",
    "            <div align=\"left\", style=\"font-size:120%\">\n",
    "                <font color=\"#21618C\">\n",
    "                    <b>A python list is a collection of items that are ordered. It implements the sequence protocol, and also allows you to add and remove elements from the sequence. We can use the index in square brackets, [ ], to identify a value belonging to the list by position.<br>\n",
    "                    </b>\n",
    "                </font>\n",
    "            </div>\n",
    "        </td>\n",
    "    </tr>\n",
    "</table>"
   ]
  },
  {
   "cell_type": "markdown",
   "metadata": {
    "id": "UU_YBCAYMu_U"
   },
   "source": [
    "### Constructing Lists\n",
    "\n",
    "To create a list, use square brackets [] and separate items in the list with commas.\n",
    "A list can be empty or contain any number of items with different data types (integers, float, strings, etc.)"
   ]
  },
  {
   "cell_type": "code",
   "execution_count": 17,
   "metadata": {
    "colab": {
     "base_uri": "https://localhost:8080/"
    },
    "executionInfo": {
     "elapsed": 637,
     "status": "ok",
     "timestamp": 1667812141855,
     "user": {
      "displayName": "David Pratap",
      "userId": "09405790748084406328"
     },
     "user_tz": -330
    },
    "id": "gwQgv6WkMu_X",
    "outputId": "a485c79e-8d48-43a1-c58a-703765c24e0c"
   },
   "outputs": [
    {
     "data": {
      "text/plain": [
       "[]"
      ]
     },
     "execution_count": 17,
     "metadata": {},
     "output_type": "execute_result"
    }
   ],
   "source": [
    "# create an empty list\n",
    "empty_list = []\n",
    "empty_list"
   ]
  },
  {
   "cell_type": "markdown",
   "metadata": {
    "id": "c_EEP9dGMu_t"
   },
   "source": [
    "Use the built-in list type object to create lists"
   ]
  },
  {
   "cell_type": "code",
   "execution_count": 18,
   "metadata": {
    "colab": {
     "base_uri": "https://localhost:8080/"
    },
    "executionInfo": {
     "elapsed": 4,
     "status": "ok",
     "timestamp": 1667812142417,
     "user": {
      "displayName": "David Pratap",
      "userId": "09405790748084406328"
     },
     "user_tz": -330
    },
    "id": "qazFXWoYMu_3",
    "outputId": "1022eeb2-b6af-4105-a18d-22e8711b42a9"
   },
   "outputs": [
    {
     "data": {
      "text/plain": [
       "[]"
      ]
     },
     "execution_count": 18,
     "metadata": {},
     "output_type": "execute_result"
    }
   ],
   "source": [
    "# empty list\n",
    "empty_list = list()\n",
    "empty_list"
   ]
  },
  {
   "cell_type": "markdown",
   "metadata": {
    "id": "vnBIF1t6MvAD"
   },
   "source": [
    "<table align=\"left\">\n",
    "    <tr>\n",
    "        <td width=\"7%\">\n",
    "            <img src=\"caution.png\">\n",
    "        </td>\n",
    "        <td>\n",
    "            <div align=\"left\", style=\"font-size:120%\">\n",
    "                <font color=\"#21618C\">\n",
    "                    <b>Note that python creates a single new list every time you use the [ ] expression\n",
    "                    </b>\n",
    "                </font>\n",
    "            </div>\n",
    "        </td>\n",
    "    </tr>\n",
    "</table>"
   ]
  },
  {
   "cell_type": "code",
   "execution_count": 19,
   "metadata": {
    "executionInfo": {
     "elapsed": 4,
     "status": "ok",
     "timestamp": 1667812145289,
     "user": {
      "displayName": "David Pratap",
      "userId": "09405790748084406328"
     },
     "user_tz": -330
    },
    "id": "kkIXG4TXMvAF"
   },
   "outputs": [],
   "source": [
    "list_1 = list_2 = [] # both names will point to the same list\n",
    "\n",
    "list_1 = []\n",
    "list_1 = list_2 # both names will point to the same list\n",
    "\n",
    "list_1 = []; list_2 = [] # independent lists"
   ]
  },
  {
   "cell_type": "markdown",
   "metadata": {
    "id": "2HbS3jhgMvAS"
   },
   "source": [
    "**Note : A list can also hold another list as an element, these are called nested lists**"
   ]
  },
  {
   "cell_type": "code",
   "execution_count": 20,
   "metadata": {
    "colab": {
     "base_uri": "https://localhost:8080/"
    },
    "executionInfo": {
     "elapsed": 5,
     "status": "ok",
     "timestamp": 1667812147292,
     "user": {
      "displayName": "David Pratap",
      "userId": "09405790748084406328"
     },
     "user_tz": -330
    },
    "id": "1tuHw3pyMvAV",
    "outputId": "6ea5a578-ac88-48b7-cd96-5d9c47279168"
   },
   "outputs": [
    {
     "data": {
      "text/plain": [
       "[['Data Science', 'Machine Learning'], [135, 232, 321]]"
      ]
     },
     "execution_count": 20,
     "metadata": {},
     "output_type": "execute_result"
    }
   ],
   "source": [
    "# nested list\n",
    "my_list = [['Data Science','Machine Learning'],[135,232,321]]\n",
    "my_list"
   ]
  },
  {
   "cell_type": "markdown",
   "metadata": {
    "id": "4Vj-15hQMvAg"
   },
   "source": [
    "### Accessing Elements in a List\n",
    "You can access the list items by referring to the index number"
   ]
  },
  {
   "cell_type": "markdown",
   "metadata": {
    "id": "Y-ggQFyZMvAj"
   },
   "source": [
    "**Indexing:**<br>\n",
    "Use the index operator [ ]. Each element in a list has an assigned index value. Note that the indexing in python starts from 0 and every index must be an integer"
   ]
  },
  {
   "cell_type": "markdown",
   "metadata": {
    "id": "EXrQI9tXMvAl"
   },
   "source": [
    "Print the second item of the list"
   ]
  },
  {
   "cell_type": "code",
   "execution_count": 21,
   "metadata": {
    "colab": {
     "base_uri": "https://localhost:8080/"
    },
    "executionInfo": {
     "elapsed": 6,
     "status": "ok",
     "timestamp": 1667812151468,
     "user": {
      "displayName": "David Pratap",
      "userId": "09405790748084406328"
     },
     "user_tz": -330
    },
    "id": "9Rdqy7fhMvAn",
    "outputId": "2e8a0046-a4e9-421d-90d5-44c02d5fafc5"
   },
   "outputs": [
    {
     "name": "stdout",
     "output_type": "stream",
     "text": [
      "machine learning\n"
     ]
    }
   ],
   "source": [
    "# define a list\n",
    "course = ['data science', 'machine learning', 'python', 'html', 'big data' ]\n",
    "\n",
    "# access the second item of a list at index 1\n",
    "print(course[1])"
   ]
  },
  {
   "cell_type": "markdown",
   "metadata": {
    "id": "hAqDI1QVMvA2"
   },
   "source": [
    "**Negative Indexing**:<br>\n",
    "Negative indexing means position count starts from the end of the list, -1 refers to the last item, -2 refers to the second last item"
   ]
  },
  {
   "cell_type": "markdown",
   "metadata": {
    "id": "si5OlLmmMvA4"
   },
   "source": [
    "Print the second last item of the list"
   ]
  },
  {
   "cell_type": "code",
   "execution_count": 22,
   "metadata": {
    "colab": {
     "base_uri": "https://localhost:8080/"
    },
    "executionInfo": {
     "elapsed": 13,
     "status": "ok",
     "timestamp": 1667812154351,
     "user": {
      "displayName": "David Pratap",
      "userId": "09405790748084406328"
     },
     "user_tz": -330
    },
    "id": "jpWatm4hMvA6",
    "outputId": "de1e36d0-8f84-4206-ffde-1abf9f87fbb6"
   },
   "outputs": [
    {
     "name": "stdout",
     "output_type": "stream",
     "text": [
      "html\n"
     ]
    }
   ],
   "source": [
    "# define a list\n",
    "course = ['data science', 'machine learning', 'python', 'html', 'big data' ]\n",
    "\n",
    "# access the second item of a list at index -2\n",
    "print(course[-2])"
   ]
  },
  {
   "cell_type": "markdown",
   "metadata": {
    "id": "29sbl9vnMvBF"
   },
   "source": [
    "**Length of List:**<br>\n",
    "Use len() function to find total number of elements in a list"
   ]
  },
  {
   "cell_type": "code",
   "execution_count": 23,
   "metadata": {
    "colab": {
     "base_uri": "https://localhost:8080/"
    },
    "executionInfo": {
     "elapsed": 4,
     "status": "ok",
     "timestamp": 1667812155337,
     "user": {
      "displayName": "David Pratap",
      "userId": "09405790748084406328"
     },
     "user_tz": -330
    },
    "id": "OXwlMIBtMvBH",
    "outputId": "d31451a0-5848-445d-8f60-8f7853616fd7"
   },
   "outputs": [
    {
     "data": {
      "text/plain": [
       "5"
      ]
     },
     "execution_count": 23,
     "metadata": {},
     "output_type": "execute_result"
    }
   ],
   "source": [
    "# define a list\n",
    "course = ['data science', 'machine learning', 'python', 'html', 'big data' ]\n",
    "\n",
    "# print the length of the list\n",
    "len(course)"
   ]
  },
  {
   "cell_type": "markdown",
   "metadata": {
    "id": "KGbAwO5WMvBS"
   },
   "source": [
    "### Slicing of a List\n",
    "List uses the slicing operator : (colon) to extract part of the sequence"
   ]
  },
  {
   "cell_type": "markdown",
   "metadata": {
    "id": "JBbuSE_gMvBU"
   },
   "source": [
    "Return first three elements from the list"
   ]
  },
  {
   "cell_type": "code",
   "execution_count": 24,
   "metadata": {
    "colab": {
     "base_uri": "https://localhost:8080/"
    },
    "executionInfo": {
     "elapsed": 4,
     "status": "ok",
     "timestamp": 1667812155723,
     "user": {
      "displayName": "David Pratap",
      "userId": "09405790748084406328"
     },
     "user_tz": -330
    },
    "id": "xX1zWrVSMvBY",
    "outputId": "48fcaf6c-e72d-45a3-8afa-76f43247f0d2"
   },
   "outputs": [
    {
     "data": {
      "text/plain": [
       "['data science', 'machine learning', 'python']"
      ]
     },
     "execution_count": 24,
     "metadata": {},
     "output_type": "execute_result"
    }
   ],
   "source": [
    "# define a list\n",
    "course = ['data science', 'machine learning', 'python', 'html', 'big data' ]\n",
    "\n",
    "# print first three element from the list\n",
    "course[:3]"
   ]
  },
  {
   "cell_type": "markdown",
   "metadata": {
    "id": "Hl1ISfB1MvBp"
   },
   "source": [
    "Return last three elements from the list"
   ]
  },
  {
   "cell_type": "code",
   "execution_count": 25,
   "metadata": {
    "colab": {
     "base_uri": "https://localhost:8080/"
    },
    "executionInfo": {
     "elapsed": 27,
     "status": "ok",
     "timestamp": 1667812158115,
     "user": {
      "displayName": "David Pratap",
      "userId": "09405790748084406328"
     },
     "user_tz": -330
    },
    "id": "xu5wShpGMvBt",
    "outputId": "fc091d67-2a68-463d-d756-47081c6f0fe6"
   },
   "outputs": [
    {
     "data": {
      "text/plain": [
       "['python', 'html', 'big data']"
      ]
     },
     "execution_count": 25,
     "metadata": {},
     "output_type": "execute_result"
    }
   ],
   "source": [
    "# define a list\n",
    "course = ['data science', 'machine learning', 'python', 'html', 'big data' ]\n",
    "\n",
    "# print last three element from the list\n",
    "course[2:]"
   ]
  },
  {
   "cell_type": "markdown",
   "metadata": {
    "id": "arPvAcYNMvB6"
   },
   "source": [
    "Select elements from beginning to end"
   ]
  },
  {
   "cell_type": "code",
   "execution_count": 26,
   "metadata": {
    "colab": {
     "base_uri": "https://localhost:8080/"
    },
    "executionInfo": {
     "elapsed": 3,
     "status": "ok",
     "timestamp": 1667812159073,
     "user": {
      "displayName": "David Pratap",
      "userId": "09405790748084406328"
     },
     "user_tz": -330
    },
    "id": "PdT9JwHhMvB7",
    "outputId": "8fc55e9d-3995-495c-e388-689708146274"
   },
   "outputs": [
    {
     "data": {
      "text/plain": [
       "['data science', 'machine learning', 'python', 'html', 'big data']"
      ]
     },
     "execution_count": 26,
     "metadata": {},
     "output_type": "execute_result"
    }
   ],
   "source": [
    "# define a list\n",
    "course = ['data science', 'machine learning', 'python', 'html', 'big data' ]\n",
    "\n",
    "# print the all elements\n",
    "course[:]"
   ]
  },
  {
   "cell_type": "markdown",
   "metadata": {
    "id": "NCO4MdVjMvCF"
   },
   "source": [
    "Select first four elements"
   ]
  },
  {
   "cell_type": "code",
   "execution_count": 27,
   "metadata": {
    "colab": {
     "base_uri": "https://localhost:8080/"
    },
    "executionInfo": {
     "elapsed": 4,
     "status": "ok",
     "timestamp": 1667812160302,
     "user": {
      "displayName": "David Pratap",
      "userId": "09405790748084406328"
     },
     "user_tz": -330
    },
    "id": "vOtDfba6MvCH",
    "outputId": "a949bec2-a611-4226-c1f2-73a79279aed0"
   },
   "outputs": [
    {
     "data": {
      "text/plain": [
       "['data science', 'machine learning', 'python', 'html']"
      ]
     },
     "execution_count": 27,
     "metadata": {},
     "output_type": "execute_result"
    }
   ],
   "source": [
    "# define a list\n",
    "course = ['data science', 'machine learning', 'python', 'html', 'big data' ]\n",
    "\n",
    "# print first four elements\n",
    "course[0:4]"
   ]
  },
  {
   "cell_type": "markdown",
   "metadata": {
    "id": "_4qE_54iMvCR"
   },
   "source": [
    "If all three 'start', 'stop', and 'step' are provided, it generates portion of sequence beginning from 'start' till 'stop' with increment of 'step'"
   ]
  },
  {
   "cell_type": "code",
   "execution_count": 28,
   "metadata": {
    "colab": {
     "base_uri": "https://localhost:8080/"
    },
    "executionInfo": {
     "elapsed": 4,
     "status": "ok",
     "timestamp": 1667812162536,
     "user": {
      "displayName": "David Pratap",
      "userId": "09405790748084406328"
     },
     "user_tz": -330
    },
    "id": "O_7zn-_gMvCT",
    "outputId": "8ec39b0a-e66f-4d3b-a151-cdd239d714a4"
   },
   "outputs": [
    {
     "name": "stdout",
     "output_type": "stream",
     "text": [
      "[3, 5, 7]\n"
     ]
    }
   ],
   "source": [
    "a = [1,2,3,4,5,6,7,8,9,10]\n",
    "print(a[2:7:2])"
   ]
  },
  {
   "cell_type": "code",
   "execution_count": 29,
   "metadata": {
    "colab": {
     "base_uri": "https://localhost:8080/"
    },
    "executionInfo": {
     "elapsed": 11,
     "status": "ok",
     "timestamp": 1667812164071,
     "user": {
      "displayName": "David Pratap",
      "userId": "09405790748084406328"
     },
     "user_tz": -330
    },
    "id": "NahuIOTBMvCf",
    "outputId": "cc463c7c-d8d1-488f-ed1d-1c84f6d0157e"
   },
   "outputs": [
    {
     "name": "stdout",
     "output_type": "stream",
     "text": [
      "[8, 6, 4, 2]\n"
     ]
    }
   ],
   "source": [
    "a = [1,2,3,4,5,6,7,8,9,10]\n",
    "print(a[7:0:-2])"
   ]
  },
  {
   "cell_type": "markdown",
   "metadata": {
    "id": "iCGahWMHMvCo"
   },
   "source": [
    "### Change Item Value\n",
    "Refer to the index number to change the value of a specific item"
   ]
  },
  {
   "cell_type": "code",
   "execution_count": 30,
   "metadata": {
    "colab": {
     "base_uri": "https://localhost:8080/"
    },
    "executionInfo": {
     "elapsed": 4,
     "status": "ok",
     "timestamp": 1667812164071,
     "user": {
      "displayName": "David Pratap",
      "userId": "09405790748084406328"
     },
     "user_tz": -330
    },
    "id": "WxS-StcYMvCq",
    "outputId": "93200726-04c8-4541-a9aa-e2facc54b059"
   },
   "outputs": [
    {
     "data": {
      "text/plain": [
       "['data science', 'machine learning', 'python', 'statistics', 'big data']"
      ]
     },
     "execution_count": 30,
     "metadata": {},
     "output_type": "execute_result"
    }
   ],
   "source": [
    "# define a list\n",
    "course = ['data science', 'machine learning', 'python', 'html', 'big data' ]\n",
    "\n",
    "# change the third item\n",
    "course[3] = 'statistics'\n",
    "\n",
    "course"
   ]
  },
  {
   "cell_type": "markdown",
   "metadata": {
    "id": "poGqfPalMvC-"
   },
   "source": [
    "### List Methods\n",
    "Python has in-built methods that you can use on lists and arrays"
   ]
  },
  {
   "cell_type": "markdown",
   "metadata": {
    "id": "d4SutkaOMvDA"
   },
   "source": [
    "<table align=\"left\">\n",
    "    <tr>\n",
    "        <td width=\"7%\">\n",
    "            <img src=\"caution.png\">\n",
    "        </td>\n",
    "        <td>\n",
    "            <div align=\"left\", style=\"font-size:120%\">\n",
    "                <font color=\"#21618C\">\n",
    "                    <b>Python does not have built-in support for arrays, but python lists can be in place of arrays\n",
    "                    </b>\n",
    "                </font>\n",
    "            </div>\n",
    "        </td>\n",
    "    </tr>\n",
    "</table>"
   ]
  },
  {
   "cell_type": "markdown",
   "metadata": {
    "id": "ODSOCTFYMvDC"
   },
   "source": [
    "Python has built-in methods that you can use on list:<br>\n",
    "append()<br>\n",
    "insert()<br>\n",
    "extend()<br>\n",
    "sort()<br>\n",
    "del <br>\n",
    "clear()<br>\n",
    "remove()<br>\n",
    "pop()<br>\n",
    "reverse()<br>"
   ]
  },
  {
   "cell_type": "markdown",
   "metadata": {
    "id": "XcntWkcwMvDD"
   },
   "source": [
    "**list.append(item)**<br>\n",
    "The method list.append(item) will add the element at the end of a list"
   ]
  },
  {
   "cell_type": "code",
   "execution_count": 31,
   "metadata": {
    "colab": {
     "base_uri": "https://localhost:8080/"
    },
    "executionInfo": {
     "elapsed": 6,
     "status": "ok",
     "timestamp": 1667812167004,
     "user": {
      "displayName": "David Pratap",
      "userId": "09405790748084406328"
     },
     "user_tz": -330
    },
    "id": "lNPsdwExMvDF",
    "outputId": "18bb238e-3f9f-4d90-83dd-a6df215b2ac4"
   },
   "outputs": [
    {
     "data": {
      "text/plain": [
       "['data science',\n",
       " 'machine learning',\n",
       " 'python',\n",
       " 'html',\n",
       " 'big data',\n",
       " ['statistics']]"
      ]
     },
     "execution_count": 31,
     "metadata": {},
     "output_type": "execute_result"
    }
   ],
   "source": [
    "# define a list\n",
    "course1 = ['data science', 'machine learning', 'python', 'html', 'big data' ]\n",
    "\n",
    "course2 = ['statistics']\n",
    "\n",
    "# add element to the list\n",
    "course1.append(course2)\n",
    "course1"
   ]
  },
  {
   "cell_type": "markdown",
   "metadata": {
    "id": "NhawKzOIMvDP"
   },
   "source": [
    "**list.insert(i, item)**<br>\n",
    "This method will insert an element at the $i^{th}$ index in a list"
   ]
  },
  {
   "cell_type": "code",
   "execution_count": 32,
   "metadata": {
    "colab": {
     "base_uri": "https://localhost:8080/"
    },
    "executionInfo": {
     "elapsed": 5,
     "status": "ok",
     "timestamp": 1667812169197,
     "user": {
      "displayName": "David Pratap",
      "userId": "09405790748084406328"
     },
     "user_tz": -330
    },
    "id": "eWtxoQeCMvDQ",
    "outputId": "8074cef6-8925-474c-f25f-a9a0ba8370f1"
   },
   "outputs": [
    {
     "data": {
      "text/plain": [
       "['data science',\n",
       " 'machine learning',\n",
       " 'statistics',\n",
       " 'python',\n",
       " 'html',\n",
       " 'big data']"
      ]
     },
     "execution_count": 32,
     "metadata": {},
     "output_type": "execute_result"
    }
   ],
   "source": [
    "# define a list\n",
    "course = ['data science', 'machine learning', 'python', 'html', 'big data' ]\n",
    "\n",
    "# insert element at 2nd index in a list\n",
    "course.insert(2, 'statistics')\n",
    "course"
   ]
  },
  {
   "cell_type": "markdown",
   "metadata": {
    "id": "-1G8u67aMvDZ"
   },
   "source": [
    "**list.extend(items)**<br>\n",
    "The extend method concatenates lists"
   ]
  },
  {
   "cell_type": "code",
   "execution_count": 33,
   "metadata": {
    "colab": {
     "base_uri": "https://localhost:8080/"
    },
    "executionInfo": {
     "elapsed": 6,
     "status": "ok",
     "timestamp": 1667812170012,
     "user": {
      "displayName": "David Pratap",
      "userId": "09405790748084406328"
     },
     "user_tz": -330
    },
    "id": "1E0hTFGbMvDc",
    "outputId": "0ee91b40-4d2f-42dd-c531-03d4e4ede365"
   },
   "outputs": [
    {
     "data": {
      "text/plain": [
       "['data science',\n",
       " 'machine learning',\n",
       " 'python',\n",
       " 'html',\n",
       " 'big data',\n",
       " 'artificial intelligence']"
      ]
     },
     "execution_count": 33,
     "metadata": {},
     "output_type": "execute_result"
    }
   ],
   "source": [
    "# define a first list\n",
    "course1 = ['data science', 'machine learning', 'python', 'html', 'big data']\n",
    "\n",
    "# define a second list\n",
    "course2 = ['artificial intelligence']\n",
    "\n",
    "# concatenate the list\n",
    "course1.extend(course2)\n",
    "\n",
    "course1"
   ]
  },
  {
   "cell_type": "markdown",
   "metadata": {
    "id": "sp1bO_UuMvDl"
   },
   "source": [
    "**list.sort(key, reverse)**<br>\n",
    "The sort method sorts a list in-place without creating a new object"
   ]
  },
  {
   "cell_type": "code",
   "execution_count": 34,
   "metadata": {
    "colab": {
     "base_uri": "https://localhost:8080/"
    },
    "executionInfo": {
     "elapsed": 11,
     "status": "ok",
     "timestamp": 1667812171453,
     "user": {
      "displayName": "David Pratap",
      "userId": "09405790748084406328"
     },
     "user_tz": -330
    },
    "id": "OTBztmZFMvDn",
    "outputId": "4b281b54-63fb-415e-9020-00099cdfb713"
   },
   "outputs": [
    {
     "data": {
      "text/plain": [
       "[2500, 5000, 10000, 17500, 20000, 25000, 50000]"
      ]
     },
     "execution_count": 34,
     "metadata": {},
     "output_type": "execute_result"
    }
   ],
   "source": [
    "# declare a numeric list\n",
    "income = [2500, 25000, 10000, 50000, 20000, 5000, 17500]\n",
    "# sort() function is used to sort the numeric values in the list in ascending order\n",
    "income.sort()\n",
    "income"
   ]
  },
  {
   "cell_type": "code",
   "execution_count": 35,
   "metadata": {
    "colab": {
     "base_uri": "https://localhost:8080/"
    },
    "executionInfo": {
     "elapsed": 643,
     "status": "ok",
     "timestamp": 1667812172087,
     "user": {
      "displayName": "David Pratap",
      "userId": "09405790748084406328"
     },
     "user_tz": -330
    },
    "id": "_t7auygSMvD3",
    "outputId": "1d4650e8-9d5b-4c02-9d5d-f304159ca3f8"
   },
   "outputs": [
    {
     "data": {
      "text/plain": [
       "[50000, 25000, 20000, 17500, 10000, 5000, 2500]"
      ]
     },
     "execution_count": 35,
     "metadata": {},
     "output_type": "execute_result"
    }
   ],
   "source": [
    "# set the reverse parameter to False to arrange the elements in the descending order\n",
    "income.sort(reverse = True)\n",
    "income"
   ]
  },
  {
   "cell_type": "code",
   "execution_count": 36,
   "metadata": {
    "colab": {
     "base_uri": "https://localhost:8080/"
    },
    "executionInfo": {
     "elapsed": 5,
     "status": "ok",
     "timestamp": 1667812172088,
     "user": {
      "displayName": "David Pratap",
      "userId": "09405790748084406328"
     },
     "user_tz": -330
    },
    "id": "GQwYfANKMvEC",
    "outputId": "4bdf2208-034b-4757-cff4-a1db0df8a49d"
   },
   "outputs": [
    {
     "data": {
      "text/plain": [
       "['a', 'fox', 'the', 'over', 'lazy', 'frog', 'quick', 'brown', 'jumps']"
      ]
     },
     "execution_count": 36,
     "metadata": {},
     "output_type": "execute_result"
    }
   ],
   "source": [
    "# We can also sort a collection of strings by their length using the key parameter\n",
    "sentence = ['a', 'quick', 'brown', 'fox', 'jumps', 'over', 'the', 'lazy', 'frog']\n",
    "sentence.sort(key = len)\n",
    "sentence"
   ]
  },
  {
   "cell_type": "markdown",
   "metadata": {
    "id": "4ThC5PQhMvER"
   },
   "source": [
    "**Deleting List Elements**<br>\n",
    "Use the del keyword to delete an item at specific index"
   ]
  },
  {
   "cell_type": "code",
   "execution_count": 37,
   "metadata": {
    "colab": {
     "base_uri": "https://localhost:8080/"
    },
    "executionInfo": {
     "elapsed": 5,
     "status": "ok",
     "timestamp": 1667812174594,
     "user": {
      "displayName": "David Pratap",
      "userId": "09405790748084406328"
     },
     "user_tz": -330
    },
    "id": "3xjDLBlzMvES",
    "outputId": "b4a17ffc-7805-41dc-9674-9570c4414030"
   },
   "outputs": [
    {
     "data": {
      "text/plain": [
       "['data science', 'machine learning', 'html', 'big data']"
      ]
     },
     "execution_count": 37,
     "metadata": {},
     "output_type": "execute_result"
    }
   ],
   "source": [
    "# define a first list\n",
    "course = ['data science', 'machine learning', 'python', 'html', 'big data' ]\n",
    "\n",
    "# delete the third element from the list\n",
    "del course[2]\n",
    "\n",
    "# print the output\n",
    "course"
   ]
  },
  {
   "cell_type": "code",
   "execution_count": 38,
   "metadata": {
    "colab": {
     "base_uri": "https://localhost:8080/"
    },
    "executionInfo": {
     "elapsed": 9,
     "status": "ok",
     "timestamp": 1667812174973,
     "user": {
      "displayName": "David Pratap",
      "userId": "09405790748084406328"
     },
     "user_tz": -330
    },
    "id": "WRfkHYHzMvEa",
    "outputId": "2c7c2dd0-8205-46fc-a37f-1276e4094abe"
   },
   "outputs": [
    {
     "data": {
      "text/plain": [
       "['python', 'html', 'big data']"
      ]
     },
     "execution_count": 38,
     "metadata": {},
     "output_type": "execute_result"
    }
   ],
   "source": [
    "# define a first list\n",
    "course = ['data science', 'machine learning', 'python', 'html', 'big data' ]\n",
    "\n",
    "# delete multiple items from the list\n",
    "del course[0:2]\n",
    "\n",
    "# print the output\n",
    "course"
   ]
  },
  {
   "cell_type": "markdown",
   "metadata": {
    "id": "hbP046vOMvEk"
   },
   "source": [
    "**list.clear()**\n",
    "<br>The clear method resets the list to an empty state"
   ]
  },
  {
   "cell_type": "code",
   "execution_count": 39,
   "metadata": {
    "colab": {
     "base_uri": "https://localhost:8080/"
    },
    "executionInfo": {
     "elapsed": 7,
     "status": "ok",
     "timestamp": 1667812174974,
     "user": {
      "displayName": "David Pratap",
      "userId": "09405790748084406328"
     },
     "user_tz": -330
    },
    "id": "zpOCD-nUMvEl",
    "outputId": "ee2d3b5b-0c8d-4a2b-ac06-2e362bf94e7a"
   },
   "outputs": [
    {
     "data": {
      "text/plain": [
       "[]"
      ]
     },
     "execution_count": 39,
     "metadata": {},
     "output_type": "execute_result"
    }
   ],
   "source": [
    "sentence = ['a', 'quick', 'brown', 'fox', 'jumps', 'over', 'the', 'lazy', 'frog']\n",
    "sentence.clear()\n",
    "sentence"
   ]
  },
  {
   "cell_type": "markdown",
   "metadata": {
    "id": "rp6Ze_LlMvEv"
   },
   "source": [
    "**list.remove(item)**<br>\n",
    "It will search and remove only the first occurrence of an item"
   ]
  },
  {
   "cell_type": "code",
   "execution_count": 40,
   "metadata": {
    "colab": {
     "base_uri": "https://localhost:8080/"
    },
    "executionInfo": {
     "elapsed": 414,
     "status": "ok",
     "timestamp": 1667812181589,
     "user": {
      "displayName": "David Pratap",
      "userId": "09405790748084406328"
     },
     "user_tz": -330
    },
    "id": "54lS8_AtMvEx",
    "outputId": "a5b5f0fa-0ce8-436a-cfec-a5a73ede5ecb"
   },
   "outputs": [
    {
     "data": {
      "text/plain": [
       "['data science', 'machine learning', 'python', 'big data', 'html']"
      ]
     },
     "execution_count": 40,
     "metadata": {},
     "output_type": "execute_result"
    }
   ],
   "source": [
    "# define a first list\n",
    "course = ['data science', 'machine learning', 'python', 'html', 'big data', 'html' ]\n",
    "\n",
    "course.remove('html')\n",
    "\n",
    "course"
   ]
  },
  {
   "cell_type": "markdown",
   "metadata": {
    "id": "F33XrGkLMvE6"
   },
   "source": [
    "**list.pop()**<br>\n",
    "Removes and returns the last item of a list"
   ]
  },
  {
   "cell_type": "code",
   "execution_count": 41,
   "metadata": {
    "colab": {
     "base_uri": "https://localhost:8080/",
     "height": 35
    },
    "executionInfo": {
     "elapsed": 9,
     "status": "ok",
     "timestamp": 1667812183481,
     "user": {
      "displayName": "David Pratap",
      "userId": "09405790748084406328"
     },
     "user_tz": -330
    },
    "id": "4X2L0lHJMvE7",
    "outputId": "fd6be490-7606-40e1-fdb8-b4aeb83dfaef"
   },
   "outputs": [
    {
     "data": {
      "text/plain": [
       "'html'"
      ]
     },
     "execution_count": 41,
     "metadata": {},
     "output_type": "execute_result"
    }
   ],
   "source": [
    "# define a first list\n",
    "course = ['data science', 'machine learning', 'python', 'html', 'big data', 'html' ]\n",
    "\n",
    "course.pop()"
   ]
  },
  {
   "cell_type": "markdown",
   "metadata": {
    "id": "jZKSoD5gMvFH"
   },
   "source": [
    "**list.reverse()**<br>\n",
    "It reverses the order of the items in a list"
   ]
  },
  {
   "cell_type": "code",
   "execution_count": 42,
   "metadata": {
    "colab": {
     "base_uri": "https://localhost:8080/"
    },
    "executionInfo": {
     "elapsed": 4,
     "status": "ok",
     "timestamp": 1667812185624,
     "user": {
      "displayName": "David Pratap",
      "userId": "09405790748084406328"
     },
     "user_tz": -330
    },
    "id": "u3lNajpuMvFK",
    "outputId": "62e01220-86f1-42e1-ceff-de9e6ead8f8e"
   },
   "outputs": [
    {
     "data": {
      "text/plain": [
       "['html', 'big data', 'html', 'python', 'machine learning', 'data science']"
      ]
     },
     "execution_count": 42,
     "metadata": {},
     "output_type": "execute_result"
    }
   ],
   "source": [
    "# define a first list\n",
    "course = ['data science', 'machine learning', 'python', 'html', 'big data', 'html' ]\n",
    "\n",
    "course.reverse()\n",
    "\n",
    "course"
   ]
  },
  {
   "cell_type": "markdown",
   "metadata": {
    "id": "r90h1hnvMvFT"
   },
   "source": [
    "### Common List Operations"
   ]
  },
  {
   "cell_type": "markdown",
   "metadata": {
    "id": "tg2vYGmBMvFV"
   },
   "source": [
    "**Concatenation(+)**<br>\n",
    "The '+' operator is used to combine i.e. concatenate two lists"
   ]
  },
  {
   "cell_type": "code",
   "execution_count": 43,
   "metadata": {
    "colab": {
     "base_uri": "https://localhost:8080/"
    },
    "executionInfo": {
     "elapsed": 4,
     "status": "ok",
     "timestamp": 1667812187204,
     "user": {
      "displayName": "David Pratap",
      "userId": "09405790748084406328"
     },
     "user_tz": -330
    },
    "id": "fCBvVu0MMvFX",
    "outputId": "896360e9-7fac-4c05-8ead-d118a927d9ff"
   },
   "outputs": [
    {
     "data": {
      "text/plain": [
       "['data science',\n",
       " 'machine learning',\n",
       " 'python',\n",
       " 'html',\n",
       " 'big data',\n",
       " 'artificial intelligence']"
      ]
     },
     "execution_count": 43,
     "metadata": {},
     "output_type": "execute_result"
    }
   ],
   "source": [
    "# define a first list\n",
    "course1 = ['data science', 'machine learning', 'python', 'html', 'big data' ]\n",
    "\n",
    "# define a second list\n",
    "course2 = ['artificial intelligence']\n",
    "\n",
    "# concatenate the list\n",
    "course1 + course2"
   ]
  },
  {
   "cell_type": "markdown",
   "metadata": {
    "id": "tZJOoEGvMvFf"
   },
   "source": [
    "**Repetition(*)**<br>\n",
    "\n",
    "The <b>' * '</b> operator is used to repeat a list 'n' number of times. The 'n' is specified by the user <br>\n",
    "<b>Note: 'n' should be positive</b>"
   ]
  },
  {
   "cell_type": "code",
   "execution_count": 44,
   "metadata": {
    "colab": {
     "base_uri": "https://localhost:8080/"
    },
    "executionInfo": {
     "elapsed": 3,
     "status": "ok",
     "timestamp": 1667812189772,
     "user": {
      "displayName": "David Pratap",
      "userId": "09405790748084406328"
     },
     "user_tz": -330
    },
    "id": "XluiR8paMvFh",
    "outputId": "8b4d19f9-d910-4173-cdbf-09ea2ec0a79a"
   },
   "outputs": [
    {
     "data": {
      "text/plain": [
       "['data science',\n",
       " 'machine learning',\n",
       " 'python',\n",
       " 'html',\n",
       " 'big data',\n",
       " 'data science',\n",
       " 'machine learning',\n",
       " 'python',\n",
       " 'html',\n",
       " 'big data']"
      ]
     },
     "execution_count": 44,
     "metadata": {},
     "output_type": "execute_result"
    }
   ],
   "source": [
    "# define a first list\n",
    "course1 = ['data science', 'machine learning', 'python', 'html', 'big data' ]\n",
    "\n",
    "course1*2"
   ]
  },
  {
   "cell_type": "markdown",
   "metadata": {
    "id": "qvV0GbunMvFr"
   },
   "source": [
    "<a id=\"tuple\"> </a>\n",
    "## Introduction to Tuple\n",
    "<table align=\"left\">\n",
    "    <tr>\n",
    "        <td width=\"15%\">\n",
    "            <img src=\"note.png\">\n",
    "        </td>\n",
    "        <td>\n",
    "            <div align=\"left\", style=\"font-size:120%\">\n",
    "                <font color=\"#21618C\">\n",
    "                    <b>A tuple is a collection of elements which are ordered. A tuple once defined cannot be modified.<br><br>\n",
    "                    Tuples with elements is created by elements separated by comma surrounding round brackets.  Its actually Trailing commas that define a tuple not parentheses. Round brackets are required incase of ambiguity.\n",
    "                    <br><br>\n",
    "                    To iterate over the items of a tuple is faster compared to iterating over a list.<br>\n",
    "                    </b>\n",
    "                </font>\n",
    "            </div>\n",
    "        </td>\n",
    "    </tr>\n",
    "</table>"
   ]
  },
  {
   "cell_type": "markdown",
   "metadata": {
    "id": "hPPNLsuxMvFt"
   },
   "source": [
    "### Creating Tuple\n",
    "Here, we are creating few tuples"
   ]
  },
  {
   "cell_type": "code",
   "execution_count": 45,
   "metadata": {
    "colab": {
     "base_uri": "https://localhost:8080/"
    },
    "executionInfo": {
     "elapsed": 407,
     "status": "ok",
     "timestamp": 1667812205851,
     "user": {
      "displayName": "David Pratap",
      "userId": "09405790748084406328"
     },
     "user_tz": -330
    },
    "id": "BmE0OkoLMvFv",
    "outputId": "e8299efd-8c2f-4437-8750-2a3ca2f9b526"
   },
   "outputs": [
    {
     "name": "stdout",
     "output_type": "stream",
     "text": [
      "('hello', 'python', 'hello', 'world')\n"
     ]
    }
   ],
   "source": [
    "# tuple of strings\n",
    "my_tuple = (\"hello\", \"python\", \"hello\", \"world\")\n",
    "print(my_tuple)"
   ]
  },
  {
   "cell_type": "code",
   "execution_count": 46,
   "metadata": {
    "colab": {
     "base_uri": "https://localhost:8080/"
    },
    "executionInfo": {
     "elapsed": 5,
     "status": "ok",
     "timestamp": 1667812209130,
     "user": {
      "displayName": "David Pratap",
      "userId": "09405790748084406328"
     },
     "user_tz": -330
    },
    "id": "QPh1rMRaMvF5",
    "outputId": "ebba68b8-5058-4776-c71c-cb5f3a1a5564"
   },
   "outputs": [
    {
     "name": "stdout",
     "output_type": "stream",
     "text": [
      "(123, 2.228, 'hello python')\n"
     ]
    }
   ],
   "source": [
    "# tuple of int, float, string\n",
    "my_tuple = (123, 2.228, \"hello python\")\n",
    "print(my_tuple)"
   ]
  },
  {
   "cell_type": "code",
   "execution_count": 47,
   "metadata": {
    "colab": {
     "base_uri": "https://localhost:8080/"
    },
    "executionInfo": {
     "elapsed": 6,
     "status": "ok",
     "timestamp": 1667812211330,
     "user": {
      "displayName": "David Pratap",
      "userId": "09405790748084406328"
     },
     "user_tz": -330
    },
    "id": "UWde6t5CMvGH",
    "outputId": "db9e2edf-364a-4eda-e2fb-9296019362a5"
   },
   "outputs": [
    {
     "name": "stdout",
     "output_type": "stream",
     "text": [
      "('python', [12, 12, 31])\n"
     ]
    }
   ],
   "source": [
    "# tuple of string and list\n",
    "my_tuple = (\"python\", [12, 12, 31])\n",
    "print(my_tuple)"
   ]
  },
  {
   "cell_type": "code",
   "execution_count": 48,
   "metadata": {
    "colab": {
     "base_uri": "https://localhost:8080/"
    },
    "executionInfo": {
     "elapsed": 5,
     "status": "ok",
     "timestamp": 1667812211839,
     "user": {
      "displayName": "David Pratap",
      "userId": "09405790748084406328"
     },
     "user_tz": -330
    },
    "id": "5cZLhcwiMvGR",
    "outputId": "6d00f2ba-24e4-4daf-f09d-e586de4aa610"
   },
   "outputs": [
    {
     "name": "stdout",
     "output_type": "stream",
     "text": [
      "((2546, 332, 421), ('python', 63.1, 'hi'))\n"
     ]
    }
   ],
   "source": [
    "# tuples inside another tuple\n",
    "# nested tuple\n",
    "my_tuple = ((2546, 332, 421), (\"python\", 63.1, \"hi\"))\n",
    "print(my_tuple)"
   ]
  },
  {
   "cell_type": "markdown",
   "metadata": {
    "id": "MbrVo1YLMvGZ"
   },
   "source": [
    "### Access Tuple Elements\n",
    "Use indices to access the items of a tuple"
   ]
  },
  {
   "cell_type": "code",
   "execution_count": 49,
   "metadata": {
    "colab": {
     "base_uri": "https://localhost:8080/",
     "height": 35
    },
    "executionInfo": {
     "elapsed": 6,
     "status": "ok",
     "timestamp": 1667812212392,
     "user": {
      "displayName": "David Pratap",
      "userId": "09405790748084406328"
     },
     "user_tz": -330
    },
    "id": "RoztYEPeMvGb",
    "outputId": "1dd623fb-a786-4061-a02b-d85e3bc8fca5"
   },
   "outputs": [
    {
     "data": {
      "text/plain": [
       "'yellow'"
      ]
     },
     "execution_count": 49,
     "metadata": {},
     "output_type": "execute_result"
    }
   ],
   "source": [
    "# tuple of strings\n",
    "my_tuple = (\"mango\", \"yellow\", \"green\", \"blue\")\n",
    "\n",
    "# access the second element from the list\n",
    "my_tuple[1]"
   ]
  },
  {
   "cell_type": "markdown",
   "metadata": {
    "id": "mNiBiEDGMvGv"
   },
   "source": [
    "**Negative Indexing**<br>\n",
    "In Negative indexing position counting starts from the end, -1 refers to the last element, -2 refers to the second last element of the tuple"
   ]
  },
  {
   "cell_type": "code",
   "execution_count": 50,
   "metadata": {
    "colab": {
     "base_uri": "https://localhost:8080/",
     "height": 35
    },
    "executionInfo": {
     "elapsed": 7,
     "status": "ok",
     "timestamp": 1667812214513,
     "user": {
      "displayName": "David Pratap",
      "userId": "09405790748084406328"
     },
     "user_tz": -330
    },
    "id": "pi_ItPWgMvGy",
    "outputId": "ac8e6ad6-f097-4ac8-a523-f1a722b9abc2"
   },
   "outputs": [
    {
     "data": {
      "text/plain": [
       "'blue'"
      ]
     },
     "execution_count": 50,
     "metadata": {},
     "output_type": "execute_result"
    }
   ],
   "source": [
    "# tuple of strings\n",
    "my_tuple = (\"mango\", \"yellow\", \"green\", \"blue\")\n",
    "\n",
    "# print last item of the tuple\n",
    "my_tuple[-1]"
   ]
  },
  {
   "cell_type": "markdown",
   "metadata": {
    "id": "V8JW-ApfMvHF"
   },
   "source": [
    "**Range of Indices**<br>\n",
    "Specify a range of indices by specifying the start and the end of the range.\n",
    "When specifying a range, the output will be a new tuple with the specified items"
   ]
  },
  {
   "cell_type": "code",
   "execution_count": 51,
   "metadata": {
    "colab": {
     "base_uri": "https://localhost:8080/"
    },
    "executionInfo": {
     "elapsed": 2,
     "status": "ok",
     "timestamp": 1667812577639,
     "user": {
      "displayName": "David Pratap",
      "userId": "09405790748084406328"
     },
     "user_tz": -330
    },
    "id": "u3kLhVhNMvHL",
    "outputId": "7982192a-54c5-403b-c840-59dd55b19fb9"
   },
   "outputs": [
    {
     "data": {
      "text/plain": [
       "('blue', 353)"
      ]
     },
     "execution_count": 51,
     "metadata": {},
     "output_type": "execute_result"
    }
   ],
   "source": [
    "# define the tuple\n",
    "my_tuple = (\"mango\", \"yellow\", \"green\", \"blue\", 353, 363.2, 'w')\n",
    "\n",
    "# return fourth and fifth element from the list\n",
    "my_tuple[3:5]"
   ]
  },
  {
   "cell_type": "markdown",
   "metadata": {
    "id": "zxymMb9ZMvHi"
   },
   "source": [
    "**Range of Negative Indices**<br>\n",
    "Specify negative indices to start the search from the end of the tuple"
   ]
  },
  {
   "cell_type": "code",
   "execution_count": 52,
   "metadata": {
    "colab": {
     "base_uri": "https://localhost:8080/"
    },
    "executionInfo": {
     "elapsed": 592,
     "status": "ok",
     "timestamp": 1667812582279,
     "user": {
      "displayName": "David Pratap",
      "userId": "09405790748084406328"
     },
     "user_tz": -330
    },
    "id": "wHWKdy4tMvHq",
    "outputId": "cfebd037-c0da-4389-d136-0ca565e39aaf"
   },
   "outputs": [
    {
     "data": {
      "text/plain": [
       "(353, 363.2)"
      ]
     },
     "execution_count": 52,
     "metadata": {},
     "output_type": "execute_result"
    }
   ],
   "source": [
    "# define the tuple\n",
    "my_tuple = (\"mango\", \"yellow\", \"green\", \"blue\", 353, 363.2, 'w')\n",
    "\n",
    "# return the items from index -3 (included) to index -1 (excluded)\n",
    "my_tuple[-3:-1]"
   ]
  },
  {
   "cell_type": "markdown",
   "metadata": {
    "id": "skNuBThzMvH6"
   },
   "source": [
    "### Change Tuple Values\n",
    "We cannot change the items of a tuple because items of tuple are immutable. However we can change the elements of nested items in a tuple that are mutable"
   ]
  },
  {
   "cell_type": "code",
   "execution_count": 53,
   "metadata": {
    "colab": {
     "base_uri": "https://localhost:8080/"
    },
    "executionInfo": {
     "elapsed": 411,
     "status": "ok",
     "timestamp": 1667812586428,
     "user": {
      "displayName": "David Pratap",
      "userId": "09405790748084406328"
     },
     "user_tz": -330
    },
    "id": "eZvGHXqiMvIA",
    "outputId": "01f2a4f6-e2d6-44ca-ec7d-45f47b6c98f3"
   },
   "outputs": [
    {
     "name": "stdout",
     "output_type": "stream",
     "text": [
      "(123, ['s', 'a', 'v'], 'World')\n",
      "(123, ['s', 'a', 99], 'World')\n"
     ]
    }
   ],
   "source": [
    "my_tuple = (123, ['s', 'a', 'v'], \"World\")\n",
    "print(my_tuple)\n",
    "\n",
    "# changing the element of the list \n",
    "# this is valid because list is mutable\n",
    "my_tuple[1][2] = 99\n",
    "print(my_tuple)"
   ]
  },
  {
   "cell_type": "code",
   "execution_count": 54,
   "metadata": {
    "colab": {
     "base_uri": "https://localhost:8080/",
     "height": 201
    },
    "executionInfo": {
     "elapsed": 588,
     "status": "error",
     "timestamp": 1667812588630,
     "user": {
      "displayName": "David Pratap",
      "userId": "09405790748084406328"
     },
     "user_tz": -330
    },
    "id": "t2XWJqTGMvIV",
    "outputId": "71fac3b1-2ef3-470d-d88b-9082fbc09e3c"
   },
   "outputs": [
    {
     "ename": "TypeError",
     "evalue": "'tuple' object does not support item assignment",
     "output_type": "error",
     "traceback": [
      "\u001b[1;31m---------------------------------------------------------------------------\u001b[0m",
      "\u001b[1;31mTypeError\u001b[0m                                 Traceback (most recent call last)",
      "Cell \u001b[1;32mIn[54], line 6\u001b[0m\n\u001b[0;32m      2\u001b[0m my_tuple \u001b[38;5;241m=\u001b[39m (\u001b[38;5;124m\"\u001b[39m\u001b[38;5;124mmango\u001b[39m\u001b[38;5;124m\"\u001b[39m, \u001b[38;5;124m\"\u001b[39m\u001b[38;5;124myellow\u001b[39m\u001b[38;5;124m\"\u001b[39m, \u001b[38;5;124m\"\u001b[39m\u001b[38;5;124mgreen\u001b[39m\u001b[38;5;124m\"\u001b[39m, \u001b[38;5;124m\"\u001b[39m\u001b[38;5;124mblue\u001b[39m\u001b[38;5;124m\"\u001b[39m, \u001b[38;5;241m353\u001b[39m, \u001b[38;5;241m363.2\u001b[39m, \u001b[38;5;124m'\u001b[39m\u001b[38;5;124mw\u001b[39m\u001b[38;5;124m'\u001b[39m)\n\u001b[0;32m      4\u001b[0m \u001b[38;5;66;03m# changing the element of tuple\u001b[39;00m\n\u001b[0;32m      5\u001b[0m \u001b[38;5;66;03m# This throws an error since tuple elements are immutable\u001b[39;00m\n\u001b[1;32m----> 6\u001b[0m my_tuple[\u001b[38;5;241m0\u001b[39m] \u001b[38;5;241m=\u001b[39m \u001b[38;5;124m'\u001b[39m\u001b[38;5;124morange\u001b[39m\u001b[38;5;124m'\u001b[39m\n",
      "\u001b[1;31mTypeError\u001b[0m: 'tuple' object does not support item assignment"
     ]
    }
   ],
   "source": [
    "# define the tuple\n",
    "my_tuple = (\"mango\", \"yellow\", \"green\", \"blue\", 353, 363.2, 'w')\n",
    "\n",
    "# changing the element of tuple\n",
    "# This throws an error since tuple elements are immutable\n",
    "my_tuple[0] = 'orange'"
   ]
  },
  {
   "cell_type": "markdown",
   "metadata": {
    "id": "Y56dywexMvIv"
   },
   "source": [
    "### Delete Operation on Tuple\n",
    "We already discussed above that we cannot delete the elements of a tuple. However deleting entire tuple is possible"
   ]
  },
  {
   "cell_type": "code",
   "execution_count": 55,
   "metadata": {
    "colab": {
     "base_uri": "https://localhost:8080/",
     "height": 201
    },
    "executionInfo": {
     "elapsed": 8,
     "status": "error",
     "timestamp": 1667812589241,
     "user": {
      "displayName": "David Pratap",
      "userId": "09405790748084406328"
     },
     "user_tz": -330
    },
    "id": "j8MTw5DzMvIy",
    "outputId": "d1f96d38-5a37-4f50-cae2-f2e290a0d55e"
   },
   "outputs": [
    {
     "ename": "TypeError",
     "evalue": "'tuple' object doesn't support item deletion",
     "output_type": "error",
     "traceback": [
      "\u001b[1;31m---------------------------------------------------------------------------\u001b[0m",
      "\u001b[1;31mTypeError\u001b[0m                                 Traceback (most recent call last)",
      "Cell \u001b[1;32mIn[55], line 4\u001b[0m\n\u001b[0;32m      1\u001b[0m \u001b[38;5;66;03m# define the tuple\u001b[39;00m\n\u001b[0;32m      2\u001b[0m my_tuple \u001b[38;5;241m=\u001b[39m (\u001b[38;5;124m\"\u001b[39m\u001b[38;5;124mmango\u001b[39m\u001b[38;5;124m\"\u001b[39m, \u001b[38;5;124m\"\u001b[39m\u001b[38;5;124myellow\u001b[39m\u001b[38;5;124m\"\u001b[39m, \u001b[38;5;124m\"\u001b[39m\u001b[38;5;124mgreen\u001b[39m\u001b[38;5;124m\"\u001b[39m, \u001b[38;5;124m\"\u001b[39m\u001b[38;5;124mblue\u001b[39m\u001b[38;5;124m\"\u001b[39m, \u001b[38;5;241m353\u001b[39m, \u001b[38;5;241m363.2\u001b[39m, \u001b[38;5;124m'\u001b[39m\u001b[38;5;124mw\u001b[39m\u001b[38;5;124m'\u001b[39m)\n\u001b[1;32m----> 4\u001b[0m \u001b[38;5;28;01mdel\u001b[39;00m my_tuple[\u001b[38;5;241m0\u001b[39m]\n",
      "\u001b[1;31mTypeError\u001b[0m: 'tuple' object doesn't support item deletion"
     ]
    }
   ],
   "source": [
    "# define the tuple\n",
    "my_tuple = (\"mango\", \"yellow\", \"green\", \"blue\", 353, 363.2, 'w')\n",
    "\n",
    "del my_tuple[0]"
   ]
  },
  {
   "cell_type": "code",
   "execution_count": 56,
   "metadata": {
    "colab": {
     "base_uri": "https://localhost:8080/",
     "height": 201
    },
    "executionInfo": {
     "elapsed": 7,
     "status": "error",
     "timestamp": 1667812591182,
     "user": {
      "displayName": "David Pratap",
      "userId": "09405790748084406328"
     },
     "user_tz": -330
    },
    "id": "CAtrIFukMvI8",
    "outputId": "10b5efb8-a049-480c-c966-b47e75568e1a"
   },
   "outputs": [
    {
     "ename": "NameError",
     "evalue": "name 'my_tuple' is not defined",
     "output_type": "error",
     "traceback": [
      "\u001b[1;31m---------------------------------------------------------------------------\u001b[0m",
      "\u001b[1;31mNameError\u001b[0m                                 Traceback (most recent call last)",
      "Cell \u001b[1;32mIn[56], line 4\u001b[0m\n\u001b[0;32m      1\u001b[0m \u001b[38;5;66;03m# deleting entire tuple is possible\u001b[39;00m\n\u001b[0;32m      2\u001b[0m \u001b[38;5;28;01mdel\u001b[39;00m my_tuple\n\u001b[1;32m----> 4\u001b[0m \u001b[38;5;28mprint\u001b[39m(my_tuple)\n",
      "\u001b[1;31mNameError\u001b[0m: name 'my_tuple' is not defined"
     ]
    }
   ],
   "source": [
    "# deleting entire tuple is possible\n",
    "del my_tuple\n",
    "\n",
    "print(my_tuple)"
   ]
  },
  {
   "cell_type": "markdown",
   "metadata": {
    "id": "zIEKUEqqMvJF"
   },
   "source": [
    "### Tuple Methods"
   ]
  },
  {
   "cell_type": "markdown",
   "metadata": {
    "id": "uNagZDxzMvJH"
   },
   "source": [
    "Python has built-in methods which can be used on tuples:<br>\n",
    "count()<br>\n",
    "index()<br>"
   ]
  },
  {
   "cell_type": "markdown",
   "metadata": {
    "id": "6vW7KZ7mMvJM"
   },
   "source": [
    "**count()**<br>\n",
    "It returns the number of times a specified element occurs in a tuple"
   ]
  },
  {
   "cell_type": "code",
   "execution_count": 57,
   "metadata": {
    "colab": {
     "base_uri": "https://localhost:8080/"
    },
    "executionInfo": {
     "elapsed": 904,
     "status": "ok",
     "timestamp": 1667812594422,
     "user": {
      "displayName": "David Pratap",
      "userId": "09405790748084406328"
     },
     "user_tz": -330
    },
    "id": "BeKwDQoXMvJQ",
    "outputId": "227c7d9f-afc9-4d86-8e19-16d85cfb1464"
   },
   "outputs": [
    {
     "data": {
      "text/plain": [
       "4"
      ]
     },
     "execution_count": 57,
     "metadata": {},
     "output_type": "execute_result"
    }
   ],
   "source": [
    "my_tuple = ('a','p','p','l','e','e','d','e', 'd','e','a','c','w')\n",
    "my_tuple.count('e')"
   ]
  },
  {
   "cell_type": "markdown",
   "metadata": {
    "id": "4JLvxhawMvJi"
   },
   "source": [
    "**index()**<br>\n",
    "It searches the tuple for the first occurance of a specified element and returns the index value for that particular position"
   ]
  },
  {
   "cell_type": "code",
   "execution_count": 58,
   "metadata": {
    "colab": {
     "base_uri": "https://localhost:8080/"
    },
    "executionInfo": {
     "elapsed": 564,
     "status": "ok",
     "timestamp": 1667812597268,
     "user": {
      "displayName": "David Pratap",
      "userId": "09405790748084406328"
     },
     "user_tz": -330
    },
    "id": "oMcLU4FwMvJj",
    "outputId": "3f40fd4e-791e-4ecf-da05-3767889ea407"
   },
   "outputs": [
    {
     "data": {
      "text/plain": [
       "3"
      ]
     },
     "execution_count": 58,
     "metadata": {},
     "output_type": "execute_result"
    }
   ],
   "source": [
    "my_tuple = ('a','p','p','l','e','e','d','e', 'd','e','a','c','w')\n",
    "my_tuple.index('l')"
   ]
  },
  {
   "cell_type": "markdown",
   "metadata": {
    "id": "HXCnVTshMvJr"
   },
   "source": [
    "<a id=\"dictionary\"> </a>\n",
    "## Introduction to Dictionary\n",
    "<table align=\"left\">\n",
    "    <tr>\n",
    "        <td width=\"15%\">\n",
    "            <img src=\"note.png\">\n",
    "        </td>\n",
    "        <td>\n",
    "            <div align=\"left\", style=\"font-size:120%\">\n",
    "                <font color=\"#21618C\">\n",
    "                    <b>Python dictionary is an unordered collection of elements.\n",
    "                    It map keys to values and these key-value pairs provide a useful way to store data in python.<br>\n",
    "                    </b>\n",
    "                </font>\n",
    "            </div>\n",
    "        </td>\n",
    "    </tr>\n",
    "</table>"
   ]
  },
  {
   "cell_type": "markdown",
   "metadata": {
    "collapsed": true,
    "id": "DoaRX025MvJt"
   },
   "source": [
    "**Syntax:**<br>\n",
    "dictionary_name = {&nbsp;key_1: value_1,<br>\n",
    "&nbsp;&nbsp;&nbsp;&nbsp;&nbsp;&nbsp;&nbsp;&nbsp;&nbsp;&nbsp;&nbsp;&nbsp;&nbsp;&nbsp;&nbsp;&nbsp;&nbsp;&nbsp;&nbsp;&nbsp;&nbsp;&nbsp;&nbsp;&nbsp;&nbsp;&nbsp;&nbsp;&nbsp;&nbsp;&nbsp;&nbsp;&nbsp;                   key_2: value_2,<br>\n",
    "&nbsp;&nbsp;&nbsp;&nbsp;&nbsp;&nbsp;&nbsp;&nbsp;&nbsp;&nbsp;&nbsp;&nbsp;&nbsp;&nbsp;&nbsp;&nbsp;&nbsp;&nbsp;&nbsp;&nbsp;&nbsp;&nbsp;&nbsp;&nbsp;&nbsp;&nbsp;&nbsp;&nbsp;&nbsp;&nbsp;&nbsp;&nbsp;                    key_3: value_3,<br>\n",
    "&nbsp;&nbsp;&nbsp;&nbsp;&nbsp;&nbsp;&nbsp;&nbsp;&nbsp;&nbsp;&nbsp;&nbsp;&nbsp;&nbsp;&nbsp;&nbsp;&nbsp;&nbsp;&nbsp;&nbsp;&nbsp;&nbsp;&nbsp;&nbsp;&nbsp;&nbsp;&nbsp;&nbsp;&nbsp;&nbsp;&nbsp;&nbsp;                    }"
   ]
  },
  {
   "cell_type": "markdown",
   "metadata": {
    "collapsed": true,
    "id": "P8za5JoIMvJu"
   },
   "source": [
    "### Create Dictionary\n",
    "Separate keys from values with a colon(:), and a pair from another by a comma(,). Put it all in curly braces"
   ]
  },
  {
   "cell_type": "code",
   "execution_count": 59,
   "metadata": {
    "colab": {
     "base_uri": "https://localhost:8080/"
    },
    "executionInfo": {
     "elapsed": 428,
     "status": "ok",
     "timestamp": 1667812601579,
     "user": {
      "displayName": "David Pratap",
      "userId": "09405790748084406328"
     },
     "user_tz": -330
    },
    "id": "lWf1db0ZMvJw",
    "outputId": "f5e8992a-1045-45cc-b378-a8078f5d87fa"
   },
   "outputs": [
    {
     "name": "stdout",
     "output_type": "stream",
     "text": [
      "{'Mia': 83847, 'John': 83837, 'Jill': 94766}\n"
     ]
    }
   ],
   "source": [
    "# create dictionary\n",
    "balance = {\n",
    "    \"Mia\" : 83847,\n",
    "    \"John\" : 83837,\n",
    "    \"Jill\" : 94766\n",
    "}\n",
    "print(balance)"
   ]
  },
  {
   "cell_type": "markdown",
   "metadata": {
    "id": "Mo0qfbesMvKE"
   },
   "source": [
    "### Accessing Items\n",
    "Use the key name inside the square brackets to access the elements from a dictionary"
   ]
  },
  {
   "cell_type": "code",
   "execution_count": 60,
   "metadata": {
    "colab": {
     "base_uri": "https://localhost:8080/"
    },
    "executionInfo": {
     "elapsed": 511,
     "status": "ok",
     "timestamp": 1667812603706,
     "user": {
      "displayName": "David Pratap",
      "userId": "09405790748084406328"
     },
     "user_tz": -330
    },
    "id": "iOPaRUgzMvKG",
    "outputId": "5fdb600d-06c4-4d7e-cb6b-d6e8628cb4ea"
   },
   "outputs": [
    {
     "data": {
      "text/plain": [
       "83847"
      ]
     },
     "execution_count": 60,
     "metadata": {},
     "output_type": "execute_result"
    }
   ],
   "source": [
    "# Get the value for key \"Mia\" \n",
    "x = balance[\"Mia\"]\n",
    "x"
   ]
  },
  {
   "cell_type": "markdown",
   "metadata": {
    "id": "B-8l7hvyMvKj"
   },
   "source": [
    "We can use get method to get the value of \"Mia\" key"
   ]
  },
  {
   "cell_type": "code",
   "execution_count": 61,
   "metadata": {
    "colab": {
     "base_uri": "https://localhost:8080/"
    },
    "executionInfo": {
     "elapsed": 646,
     "status": "ok",
     "timestamp": 1667812605899,
     "user": {
      "displayName": "David Pratap",
      "userId": "09405790748084406328"
     },
     "user_tz": -330
    },
    "id": "BVSlE6NpMvKl",
    "outputId": "97d47705-a305-4a6e-c8f6-c5adb3ac29ce"
   },
   "outputs": [
    {
     "data": {
      "text/plain": [
       "83847"
      ]
     },
     "execution_count": 61,
     "metadata": {},
     "output_type": "execute_result"
    }
   ],
   "source": [
    "x = balance.get(\"Mia\")\n",
    "x"
   ]
  },
  {
   "cell_type": "markdown",
   "metadata": {
    "id": "tvSE2Q1DMvKt"
   },
   "source": [
    "### Change Values\n",
    "Change the value of a specific element by referring to its key name"
   ]
  },
  {
   "cell_type": "code",
   "execution_count": 62,
   "metadata": {
    "colab": {
     "base_uri": "https://localhost:8080/"
    },
    "executionInfo": {
     "elapsed": 5,
     "status": "ok",
     "timestamp": 1667812605900,
     "user": {
      "displayName": "David Pratap",
      "userId": "09405790748084406328"
     },
     "user_tz": -330
    },
    "id": "Mn290kSeMvKv",
    "outputId": "a21353b7-30d7-4e78-e6d1-2a5180216aaf"
   },
   "outputs": [
    {
     "data": {
      "text/plain": [
       "{2015: 34500, 2016: 34300, 2017: 40000}"
      ]
     },
     "execution_count": 62,
     "metadata": {},
     "output_type": "execute_result"
    }
   ],
   "source": [
    "# create a dictionary\n",
    "year_sales = {\n",
    "  2015: 34500,\n",
    "  2016: 34300,\n",
    "  2017: 40000\n",
    "}\n",
    "\n",
    "year_sales"
   ]
  },
  {
   "cell_type": "code",
   "execution_count": 63,
   "metadata": {
    "colab": {
     "base_uri": "https://localhost:8080/"
    },
    "executionInfo": {
     "elapsed": 3,
     "status": "ok",
     "timestamp": 1667812606493,
     "user": {
      "displayName": "David Pratap",
      "userId": "09405790748084406328"
     },
     "user_tz": -330
    },
    "id": "FWCPIEjZMvLZ",
    "outputId": "d1379e2a-40e6-49e6-d1d6-45de2f858e9d"
   },
   "outputs": [
    {
     "data": {
      "text/plain": [
       "{2015: 45000, 2016: 34300, 2017: 40000}"
      ]
     },
     "execution_count": 63,
     "metadata": {},
     "output_type": "execute_result"
    }
   ],
   "source": [
    "# Change the sales figure for 2015\n",
    "year_sales[2015] = 45000\n",
    "\n",
    "year_sales"
   ]
  },
  {
   "cell_type": "markdown",
   "metadata": {
    "id": "dbQ9-DAnMvLp"
   },
   "source": [
    "**Dictionary Length**"
   ]
  },
  {
   "cell_type": "code",
   "execution_count": 64,
   "metadata": {
    "colab": {
     "base_uri": "https://localhost:8080/"
    },
    "executionInfo": {
     "elapsed": 3,
     "status": "ok",
     "timestamp": 1667812607906,
     "user": {
      "displayName": "David Pratap",
      "userId": "09405790748084406328"
     },
     "user_tz": -330
    },
    "id": "mhXW5WE1MvLr",
    "outputId": "aa83e442-728b-4296-89e8-9c3b8f4bd255"
   },
   "outputs": [
    {
     "name": "stdout",
     "output_type": "stream",
     "text": [
      "3\n"
     ]
    }
   ],
   "source": [
    "# print the length of dictionary\n",
    "print(len(year_sales))"
   ]
  },
  {
   "cell_type": "markdown",
   "metadata": {
    "id": "l_bfd_BKMvL3"
   },
   "source": [
    "**Adding Items**<br>\n",
    "Add an item to the dictionary by using a new index key and assign a value to it"
   ]
  },
  {
   "cell_type": "code",
   "execution_count": 65,
   "metadata": {
    "colab": {
     "base_uri": "https://localhost:8080/"
    },
    "executionInfo": {
     "elapsed": 1114,
     "status": "ok",
     "timestamp": 1667812609616,
     "user": {
      "displayName": "David Pratap",
      "userId": "09405790748084406328"
     },
     "user_tz": -330
    },
    "id": "a0Z9xWm3MvL5",
    "outputId": "7a764ce1-a004-4721-c2d2-45e3ebd05450"
   },
   "outputs": [
    {
     "data": {
      "text/plain": [
       "{2015: 34500, 2016: 34300, 2017: 40000, '2018': 55000}"
      ]
     },
     "execution_count": 65,
     "metadata": {},
     "output_type": "execute_result"
    }
   ],
   "source": [
    "# create a dictionary\n",
    "year_sales = {\n",
    "  2015: 34500,\n",
    "  2016: 34300,\n",
    "  2017: 40000\n",
    "}\n",
    "\n",
    "year_sales['2018'] = 55000\n",
    "\n",
    "year_sales"
   ]
  },
  {
   "cell_type": "markdown",
   "metadata": {
    "id": "mWGtNptZMvMD"
   },
   "source": [
    "### Dictionary Method"
   ]
  },
  {
   "cell_type": "markdown",
   "metadata": {
    "id": "AD84T3bAMvMF"
   },
   "source": [
    "**Removing Items**<br>\n",
    "Following are the methods to remove items from a dictionary:<br>\n",
    "keys() method<br>\n",
    "values() method<br>\n",
    "items() method<br>\n",
    "pop() method<br>\n",
    "popitem() method<br>\n",
    "del keywords<br>\n",
    "clear() method<br>\n",
    "copy() method<br>\n",
    "update() method<br>"
   ]
  },
  {
   "cell_type": "markdown",
   "metadata": {
    "id": "229g1Ao8MvMG"
   },
   "source": [
    "**keys()**"
   ]
  },
  {
   "cell_type": "code",
   "execution_count": 66,
   "metadata": {
    "collapsed": true,
    "executionInfo": {
     "elapsed": 398,
     "status": "ok",
     "timestamp": 1667812612590,
     "user": {
      "displayName": "David Pratap",
      "userId": "09405790748084406328"
     },
     "user_tz": -330
    },
    "id": "yN9etvZnMvMI"
   },
   "outputs": [],
   "source": [
    "# declare a dictionary containing information of cars and their respective horsepowers\n",
    "horsepower = {'BMW':949 , 'Mercedes':945 ,'Ferrari':954 ,'Volkswagen': 976,'Renault ':889}"
   ]
  },
  {
   "cell_type": "markdown",
   "metadata": {
    "id": "us8jPOgUMvMQ"
   },
   "source": [
    "Let us now check now call the keys of the dictionary"
   ]
  },
  {
   "cell_type": "code",
   "execution_count": 67,
   "metadata": {
    "colab": {
     "base_uri": "https://localhost:8080/"
    },
    "executionInfo": {
     "elapsed": 10,
     "status": "ok",
     "timestamp": 1667812614463,
     "user": {
      "displayName": "David Pratap",
      "userId": "09405790748084406328"
     },
     "user_tz": -330
    },
    "id": "eG__BrRCMvMS",
    "outputId": "b050271d-a34b-4ce0-a769-e91821611455"
   },
   "outputs": [
    {
     "data": {
      "text/plain": [
       "dict_keys(['BMW', 'Mercedes', 'Ferrari', 'Volkswagen', 'Renault '])"
      ]
     },
     "execution_count": 67,
     "metadata": {},
     "output_type": "execute_result"
    }
   ],
   "source": [
    "horsepower.keys()"
   ]
  },
  {
   "cell_type": "markdown",
   "metadata": {
    "id": "gGSNTyRdMvMc"
   },
   "source": [
    "It is possible to check whether a key belongs to the dictionary or not using the keyword 'in'"
   ]
  },
  {
   "cell_type": "code",
   "execution_count": 68,
   "metadata": {
    "colab": {
     "base_uri": "https://localhost:8080/"
    },
    "executionInfo": {
     "elapsed": 8,
     "status": "ok",
     "timestamp": 1667812614464,
     "user": {
      "displayName": "David Pratap",
      "userId": "09405790748084406328"
     },
     "user_tz": -330
    },
    "id": "5laY-odPMvMe",
    "outputId": "ff87ab2a-5f93-408e-97c9-723a647fc58f"
   },
   "outputs": [
    {
     "data": {
      "text/plain": [
       "False"
      ]
     },
     "execution_count": 68,
     "metadata": {},
     "output_type": "execute_result"
    }
   ],
   "source": [
    "'Honda' in horsepower"
   ]
  },
  {
   "cell_type": "code",
   "execution_count": 69,
   "metadata": {
    "colab": {
     "base_uri": "https://localhost:8080/"
    },
    "executionInfo": {
     "elapsed": 5,
     "status": "ok",
     "timestamp": 1667812616911,
     "user": {
      "displayName": "David Pratap",
      "userId": "09405790748084406328"
     },
     "user_tz": -330
    },
    "id": "9XEUDa_RMvMs",
    "outputId": "fa2f3d5e-0f0d-4aab-a5ad-5ceff9ea1c3a"
   },
   "outputs": [
    {
     "data": {
      "text/plain": [
       "True"
      ]
     },
     "execution_count": 69,
     "metadata": {},
     "output_type": "execute_result"
    }
   ],
   "source": [
    "'BMW' in horsepower"
   ]
  },
  {
   "cell_type": "markdown",
   "metadata": {
    "id": "p-EIZd01MvM0"
   },
   "source": [
    "**values()**"
   ]
  },
  {
   "cell_type": "markdown",
   "metadata": {
    "id": "FoNqjYUGMvM2"
   },
   "source": [
    "Let us now check the values for all the keys in the dictionary"
   ]
  },
  {
   "cell_type": "code",
   "execution_count": 70,
   "metadata": {
    "colab": {
     "base_uri": "https://localhost:8080/"
    },
    "executionInfo": {
     "elapsed": 5,
     "status": "ok",
     "timestamp": 1667812618506,
     "user": {
      "displayName": "David Pratap",
      "userId": "09405790748084406328"
     },
     "user_tz": -330
    },
    "id": "_PjiFyRmMvM4",
    "outputId": "da9f77ae-2d25-4026-c29b-9cc4ff08d47e"
   },
   "outputs": [
    {
     "data": {
      "text/plain": [
       "dict_values([949, 945, 954, 976, 889])"
      ]
     },
     "execution_count": 70,
     "metadata": {},
     "output_type": "execute_result"
    }
   ],
   "source": [
    "horsepower.values()"
   ]
  },
  {
   "cell_type": "markdown",
   "metadata": {
    "id": "ILtupRvvMvM_"
   },
   "source": [
    "However, like keys of the dictionary it is not possible to check whether a value belongs to the dictionary or not using the keyword 'in'"
   ]
  },
  {
   "cell_type": "code",
   "execution_count": 71,
   "metadata": {
    "colab": {
     "base_uri": "https://localhost:8080/"
    },
    "executionInfo": {
     "elapsed": 4,
     "status": "ok",
     "timestamp": 1667812620948,
     "user": {
      "displayName": "David Pratap",
      "userId": "09405790748084406328"
     },
     "user_tz": -330
    },
    "id": "ao1tz7GoMvNA",
    "outputId": "2f3a5f16-2b72-446e-bc80-6ee2bb3a6467"
   },
   "outputs": [
    {
     "data": {
      "text/plain": [
       "False"
      ]
     },
     "execution_count": 71,
     "metadata": {},
     "output_type": "execute_result"
    }
   ],
   "source": [
    "934 in horsepower"
   ]
  },
  {
   "cell_type": "code",
   "execution_count": 72,
   "metadata": {
    "colab": {
     "base_uri": "https://localhost:8080/"
    },
    "executionInfo": {
     "elapsed": 3,
     "status": "ok",
     "timestamp": 1667812622577,
     "user": {
      "displayName": "David Pratap",
      "userId": "09405790748084406328"
     },
     "user_tz": -330
    },
    "id": "ZabGhRhaMvNH",
    "outputId": "e801dd13-8e29-4d36-e766-dfb39e8a1c6e"
   },
   "outputs": [
    {
     "data": {
      "text/plain": [
       "False"
      ]
     },
     "execution_count": 72,
     "metadata": {},
     "output_type": "execute_result"
    }
   ],
   "source": [
    "949 in horsepower"
   ]
  },
  {
   "cell_type": "markdown",
   "metadata": {
    "id": "IyI5Li8JMvNN"
   },
   "source": [
    "The values '934' and '949' are considered to be keys in the above cells. Since there are no such keys in the dictionary 'False' is returned."
   ]
  },
  {
   "cell_type": "markdown",
   "metadata": {
    "id": "Iou7kzHnMvNP"
   },
   "source": [
    "**items()**"
   ]
  },
  {
   "cell_type": "markdown",
   "metadata": {
    "id": "LpqKFNirMvNQ"
   },
   "source": [
    "The function item() returns the key along with its value."
   ]
  },
  {
   "cell_type": "code",
   "execution_count": 73,
   "metadata": {
    "colab": {
     "base_uri": "https://localhost:8080/"
    },
    "executionInfo": {
     "elapsed": 21,
     "status": "ok",
     "timestamp": 1667812625010,
     "user": {
      "displayName": "David Pratap",
      "userId": "09405790748084406328"
     },
     "user_tz": -330
    },
    "id": "_MEI2U7fMvNS",
    "outputId": "fc3251d8-1c46-457b-b836-9f2dfa0e345b"
   },
   "outputs": [
    {
     "data": {
      "text/plain": [
       "dict_items([('BMW', 949), ('Mercedes', 945), ('Ferrari', 954), ('Volkswagen', 976), ('Renault ', 889)])"
      ]
     },
     "execution_count": 73,
     "metadata": {},
     "output_type": "execute_result"
    }
   ],
   "source": [
    "horsepower.items()"
   ]
  },
  {
   "cell_type": "markdown",
   "metadata": {
    "id": "Jvmp2SBRMvNa"
   },
   "source": [
    "It is possible to access the elements of the dictionary. It can be done as follows:"
   ]
  },
  {
   "cell_type": "code",
   "execution_count": 74,
   "metadata": {
    "colab": {
     "base_uri": "https://localhost:8080/"
    },
    "executionInfo": {
     "elapsed": 17,
     "status": "ok",
     "timestamp": 1667812625010,
     "user": {
      "displayName": "David Pratap",
      "userId": "09405790748084406328"
     },
     "user_tz": -330
    },
    "id": "VGqy0yS_MvNc",
    "outputId": "4ad6e960-b2a0-4e3e-838e-7d982dd7ba09"
   },
   "outputs": [
    {
     "data": {
      "text/plain": [
       "('Mercedes', 945)"
      ]
     },
     "execution_count": 74,
     "metadata": {},
     "output_type": "execute_result"
    }
   ],
   "source": [
    "a = horsepower.items()\n",
    "a = list(a)\n",
    "a[1]"
   ]
  },
  {
   "cell_type": "markdown",
   "metadata": {
    "id": "CuCYloFaMvNi"
   },
   "source": [
    "**pop()**<br>\n",
    "Remove the element with the specified key name"
   ]
  },
  {
   "cell_type": "code",
   "execution_count": 75,
   "metadata": {
    "colab": {
     "base_uri": "https://localhost:8080/"
    },
    "executionInfo": {
     "elapsed": 15,
     "status": "ok",
     "timestamp": 1667812625011,
     "user": {
      "displayName": "David Pratap",
      "userId": "09405790748084406328"
     },
     "user_tz": -330
    },
    "id": "fDuxIXMSMvNk",
    "outputId": "cc98e61d-a466-4185-a286-bd0417aa1df0"
   },
   "outputs": [
    {
     "data": {
      "text/plain": [
       "{2016: 34300, 2017: 40000}"
      ]
     },
     "execution_count": 75,
     "metadata": {},
     "output_type": "execute_result"
    }
   ],
   "source": [
    "# create a dictionary\n",
    "year_sales = {\n",
    "  2015: 34500,\n",
    "  2016: 34300,\n",
    "  2017: 40000\n",
    "}\n",
    "\n",
    "# remove key from dictionary\n",
    "year_sales.pop(2015)\n",
    "\n",
    "year_sales"
   ]
  },
  {
   "cell_type": "markdown",
   "metadata": {
    "id": "4m2RnpUeMvNz"
   },
   "source": [
    "**popitem()**<br>\n",
    "It removes the last inserted item"
   ]
  },
  {
   "cell_type": "code",
   "execution_count": 76,
   "metadata": {
    "colab": {
     "base_uri": "https://localhost:8080/"
    },
    "executionInfo": {
     "elapsed": 576,
     "status": "ok",
     "timestamp": 1667812626196,
     "user": {
      "displayName": "David Pratap",
      "userId": "09405790748084406328"
     },
     "user_tz": -330
    },
    "id": "tAoPnnN9MvN1",
    "outputId": "518e1aca-057c-4c3c-819c-7495e86a2072"
   },
   "outputs": [
    {
     "data": {
      "text/plain": [
       "{2015: 34500, 2016: 34300}"
      ]
     },
     "execution_count": 76,
     "metadata": {},
     "output_type": "execute_result"
    }
   ],
   "source": [
    "# create a dictionary\n",
    "year_sales = {\n",
    "  2015: 34500,\n",
    "  2016: 34300,\n",
    "  2017: 40000\n",
    "}\n",
    "\n",
    "# remove last item from the dictionary\n",
    "year_sales.popitem()\n",
    "\n",
    "year_sales"
   ]
  },
  {
   "cell_type": "markdown",
   "metadata": {
    "id": "Ms7fMsu9MvN-"
   },
   "source": [
    "**del keyword**<br>\n",
    "delete the item with the specified key name"
   ]
  },
  {
   "cell_type": "code",
   "execution_count": 77,
   "metadata": {
    "colab": {
     "base_uri": "https://localhost:8080/"
    },
    "executionInfo": {
     "elapsed": 19,
     "status": "ok",
     "timestamp": 1667812627349,
     "user": {
      "displayName": "David Pratap",
      "userId": "09405790748084406328"
     },
     "user_tz": -330
    },
    "id": "QKgvM5DZMvOA",
    "outputId": "5fe316db-7225-422f-9330-560740a63a8b"
   },
   "outputs": [
    {
     "data": {
      "text/plain": [
       "{2016: 34300, 2017: 40000}"
      ]
     },
     "execution_count": 77,
     "metadata": {},
     "output_type": "execute_result"
    }
   ],
   "source": [
    "# create a dictionary\n",
    "year_sales = {\n",
    "  2015: 34500,\n",
    "  2016: 34300,\n",
    "  2017: 40000\n",
    "}\n",
    "\n",
    "# delete item from the dictionary\n",
    "del year_sales[2015]\n",
    "\n",
    "year_sales"
   ]
  },
  {
   "cell_type": "markdown",
   "metadata": {
    "id": "NPjRk04sMvOJ"
   },
   "source": [
    "**clear()**<br>\n",
    "The clear() keyword empties the entire dictionary"
   ]
  },
  {
   "cell_type": "code",
   "execution_count": 78,
   "metadata": {
    "colab": {
     "base_uri": "https://localhost:8080/"
    },
    "executionInfo": {
     "elapsed": 17,
     "status": "ok",
     "timestamp": 1667812627350,
     "user": {
      "displayName": "David Pratap",
      "userId": "09405790748084406328"
     },
     "user_tz": -330
    },
    "id": "y_kdrV4RMvOK",
    "outputId": "c887af9d-0ee1-4957-8d86-3049780258e0"
   },
   "outputs": [
    {
     "data": {
      "text/plain": [
       "{}"
      ]
     },
     "execution_count": 78,
     "metadata": {},
     "output_type": "execute_result"
    }
   ],
   "source": [
    "# create a dictionary\n",
    "year_sales = {\n",
    "  2015: 34500,\n",
    "  2016: 34300,\n",
    "  2017: 40000\n",
    "}\n",
    "\n",
    "# clear the dictionary\n",
    "year_sales.clear()\n",
    "\n",
    "year_sales"
   ]
  },
  {
   "cell_type": "markdown",
   "metadata": {
    "id": "zrT-hJBeMvOS"
   },
   "source": [
    "**Copy()**<br>\n",
    "You cannot copy a dictionary by using dict2 = dict1, because dict2 will only be a reference to dict1, and changes made in dict1 will also be made in dict2.<br>\n",
    "Use copy() method to make copy of dictionary"
   ]
  },
  {
   "cell_type": "code",
   "execution_count": 79,
   "metadata": {
    "collapsed": true,
    "executionInfo": {
     "elapsed": 3,
     "status": "ok",
     "timestamp": 1667812627905,
     "user": {
      "displayName": "David Pratap",
      "userId": "09405790748084406328"
     },
     "user_tz": -330
    },
    "id": "yWBI9QvPMvOU"
   },
   "outputs": [],
   "source": [
    "# create a dictionary\n",
    "year_sales1 = {\n",
    "  2015: 34500,\n",
    "  2016: 34300,\n",
    "  2017: 40000\n",
    "}\n",
    "\n",
    "# make a copy of dictionary\n",
    "copy_dict = year_sales.copy()"
   ]
  },
  {
   "cell_type": "markdown",
   "metadata": {
    "id": "LUDf2yOIMvOe"
   },
   "source": [
    "**update()**<br>\n",
    "Add and modify dictionaries by using the dict.update() method"
   ]
  },
  {
   "cell_type": "code",
   "execution_count": 80,
   "metadata": {
    "colab": {
     "base_uri": "https://localhost:8080/"
    },
    "executionInfo": {
     "elapsed": 1110,
     "status": "ok",
     "timestamp": 1667812629573,
     "user": {
      "displayName": "David Pratap",
      "userId": "09405790748084406328"
     },
     "user_tz": -330
    },
    "id": "dfS2-EWPMvOp",
    "outputId": "fb9a4d28-b87d-43a0-f066-dab066de5da8"
   },
   "outputs": [
    {
     "data": {
      "text/plain": [
       "{2015: 34500, 2016: 34300, 2017: 40000, 2018: 30000}"
      ]
     },
     "execution_count": 80,
     "metadata": {},
     "output_type": "execute_result"
    }
   ],
   "source": [
    "# create a dictionary\n",
    "year_sales = {\n",
    "  2015: 34500,\n",
    "  2016: 34300,\n",
    "  2017: 40000\n",
    "}\n",
    "\n",
    "# update dictionary\n",
    "year_sales.update({2018:30000})\n",
    "\n",
    "year_sales"
   ]
  },
  {
   "cell_type": "markdown",
   "metadata": {
    "id": "MBr8TdBxMvOv"
   },
   "source": [
    "<a id=\"sets\"> </a>\n",
    "## Introduction to Sets\n",
    "<table align=\"left\">\n",
    "    <tr>\n",
    "        <td width=\"15%\">\n",
    "            <img src=\"note.png\">\n",
    "        </td>\n",
    "        <td>\n",
    "            <div align=\"left\", style=\"font-size:120%\">\n",
    "                <font color=\"#21618C\">\n",
    "                    <b>It is a collection of unique items.<br> \n",
    "                    It is used to eliminate duplicate items from a list.<br>\n",
    "                    Also, it supports set operations like union intersection and difference.                    \n",
    "                    </b>\n",
    "                </font>\n",
    "            </div>\n",
    "        </td>\n",
    "    </tr>\n",
    "</table>"
   ]
  },
  {
   "cell_type": "markdown",
   "metadata": {
    "id": "fDB_MWgeMvOw"
   },
   "source": [
    "### Creating Set\n",
    "In Python sets are written with curly brackets"
   ]
  },
  {
   "cell_type": "code",
   "execution_count": 81,
   "metadata": {
    "colab": {
     "base_uri": "https://localhost:8080/"
    },
    "executionInfo": {
     "elapsed": 5,
     "status": "ok",
     "timestamp": 1667812630103,
     "user": {
      "displayName": "David Pratap",
      "userId": "09405790748084406328"
     },
     "user_tz": -330
    },
    "id": "4rwbiuhSMvOy",
    "outputId": "1afd61be-33c8-45da-81a9-897f6355deeb"
   },
   "outputs": [
    {
     "name": "stdout",
     "output_type": "stream",
     "text": [
      "{32, 33, 11, 12, 13, 21, 23, 24, 31}\n"
     ]
    },
    {
     "data": {
      "text/plain": [
       "{1, 2, 3, 4}"
      ]
     },
     "execution_count": 81,
     "metadata": {},
     "output_type": "execute_result"
    }
   ],
   "source": [
    "# create a set\n",
    "age_set = {11, 12, 31, 13, 24, 32, 33, 21, 23, 12}\n",
    "print (age_set)\n",
    "\n",
    "# create a set\n",
    "set([1, 2, 3, 4])"
   ]
  },
  {
   "cell_type": "markdown",
   "metadata": {
    "id": "JzubQQl4MvO6"
   },
   "source": [
    "<table align=\"left\">\n",
    "    <tr>\n",
    "        <td width=\"7%\">\n",
    "            <img src=\"caution.png\">\n",
    "        </td>\n",
    "        <td>\n",
    "            <div align=\"left\", style=\"font-size:120%\">\n",
    "                <font color=\"#21618C\">\n",
    "                    <b>Observed that the set contains unique items only even though we put duplicates into it\n",
    "                    </b>\n",
    "                </font>\n",
    "            </div>\n",
    "        </td>\n",
    "    </tr>\n",
    "</table>"
   ]
  },
  {
   "cell_type": "markdown",
   "metadata": {
    "id": "72f9ZXaiMvO8"
   },
   "source": [
    "A set can contain elements of different data types"
   ]
  },
  {
   "cell_type": "code",
   "execution_count": 82,
   "metadata": {
    "colab": {
     "base_uri": "https://localhost:8080/"
    },
    "executionInfo": {
     "elapsed": 8,
     "status": "ok",
     "timestamp": 1667812630470,
     "user": {
      "displayName": "David Pratap",
      "userId": "09405790748084406328"
     },
     "user_tz": -330
    },
    "id": "nj_f_DSYMvO9",
    "outputId": "26c9b669-1c57-4581-a17d-f7e1b8ac4fc5"
   },
   "outputs": [
    {
     "data": {
      "text/plain": [
       "{12, 4, 'python', 'world'}"
      ]
     },
     "execution_count": 82,
     "metadata": {},
     "output_type": "execute_result"
    }
   ],
   "source": [
    "# create a set\n",
    "new_set = {12, 12, 'python', 4, 'world'}\n",
    "\n",
    "# print\n",
    "new_set"
   ]
  },
  {
   "cell_type": "markdown",
   "metadata": {
    "id": "_ma0anzCMvPE"
   },
   "source": [
    "Following are the methods that you can use on sets:<br>\n",
    "add()<br>\n",
    "update()<br>\n",
    "len()<br>\n",
    "remove()<br>\n",
    "pop()<br>"
   ]
  },
  {
   "cell_type": "markdown",
   "metadata": {
    "id": "Pns7-BGBMvPG"
   },
   "source": [
    "### Change Items\n",
    "Once a set is created, you cannot modify its items, but you can add new items"
   ]
  },
  {
   "cell_type": "markdown",
   "metadata": {
    "id": "3zaLKDdhMvPM"
   },
   "source": [
    "**Add Items**<br>\n",
    "Use add() method to add one item to a set<br>\n",
    "Use update() method to add more than one item"
   ]
  },
  {
   "cell_type": "code",
   "execution_count": 83,
   "metadata": {
    "colab": {
     "base_uri": "https://localhost:8080/"
    },
    "executionInfo": {
     "elapsed": 11,
     "status": "ok",
     "timestamp": 1667812633044,
     "user": {
      "displayName": "David Pratap",
      "userId": "09405790748084406328"
     },
     "user_tz": -330
    },
    "id": "_X6MVoBKMvPN",
    "outputId": "a9ecb009-8cda-481f-d990-51709165ccf3"
   },
   "outputs": [
    {
     "data": {
      "text/plain": [
       "{'hi', 'python', 'world'}"
      ]
     },
     "execution_count": 83,
     "metadata": {},
     "output_type": "execute_result"
    }
   ],
   "source": [
    "# create a set\n",
    "my_set = {'python','world'}\n",
    "\n",
    "# add element\n",
    "my_set.add(\"hi\")\n",
    "\n",
    "my_set"
   ]
  },
  {
   "cell_type": "markdown",
   "metadata": {
    "id": "vsVkXdFMMvPU"
   },
   "source": [
    "Add multiple items to a set"
   ]
  },
  {
   "cell_type": "code",
   "execution_count": 84,
   "metadata": {
    "colab": {
     "base_uri": "https://localhost:8080/"
    },
    "executionInfo": {
     "elapsed": 9,
     "status": "ok",
     "timestamp": 1667812633045,
     "user": {
      "displayName": "David Pratap",
      "userId": "09405790748084406328"
     },
     "user_tz": -330
    },
    "id": "mLQ6R50cMvPV",
    "outputId": "6a022eb7-79cb-458f-e118-376c91c784fc"
   },
   "outputs": [
    {
     "data": {
      "text/plain": [
       "{'data science', 'machine learning', 'python', 'world'}"
      ]
     },
     "execution_count": 84,
     "metadata": {},
     "output_type": "execute_result"
    }
   ],
   "source": [
    "# create a set\n",
    "my_set = {'python','world'}\n",
    "\n",
    "# update the set\n",
    "my_set.update(['data science', 'machine learning'])\n",
    "\n",
    "my_set"
   ]
  },
  {
   "cell_type": "markdown",
   "metadata": {
    "id": "-eysOh0RMvPf"
   },
   "source": [
    "**Length of Set**"
   ]
  },
  {
   "cell_type": "code",
   "execution_count": 85,
   "metadata": {
    "colab": {
     "base_uri": "https://localhost:8080/"
    },
    "executionInfo": {
     "elapsed": 10,
     "status": "ok",
     "timestamp": 1667812634054,
     "user": {
      "displayName": "David Pratap",
      "userId": "09405790748084406328"
     },
     "user_tz": -330
    },
    "id": "01i339xIMvPg",
    "outputId": "e66a9794-ab40-4075-82fa-ed0a60883cd6"
   },
   "outputs": [
    {
     "data": {
      "text/plain": [
       "2"
      ]
     },
     "execution_count": 85,
     "metadata": {},
     "output_type": "execute_result"
    }
   ],
   "source": [
    "# create a set\n",
    "my_set = {'python','world'}\n",
    "\n",
    "# print the length of set\n",
    "len(my_set)"
   ]
  },
  {
   "cell_type": "markdown",
   "metadata": {
    "id": "nZKih-JuMvPp"
   },
   "source": [
    "**remove() method**<br>\n",
    "Use remove() or discard() method to remove an item in a set"
   ]
  },
  {
   "cell_type": "code",
   "execution_count": 86,
   "metadata": {
    "colab": {
     "base_uri": "https://localhost:8080/"
    },
    "executionInfo": {
     "elapsed": 8,
     "status": "ok",
     "timestamp": 1667812634054,
     "user": {
      "displayName": "David Pratap",
      "userId": "09405790748084406328"
     },
     "user_tz": -330
    },
    "id": "3ekfaea7MvPq",
    "outputId": "c4e28776-b271-494b-dd8a-675d6e5722b0"
   },
   "outputs": [
    {
     "data": {
      "text/plain": [
       "{'machine learning', 'python', 'world'}"
      ]
     },
     "execution_count": 86,
     "metadata": {},
     "output_type": "execute_result"
    }
   ],
   "source": [
    "# create a set\n",
    "my_set = {'data science', 'machine learning', 'python', 'world'}\n",
    "\n",
    "# remove element from list \n",
    "my_set.remove('data science')\n",
    "\n",
    "my_set"
   ]
  },
  {
   "cell_type": "markdown",
   "metadata": {
    "id": "FzQlhHRbMvPy"
   },
   "source": [
    "**pop() method**<br>\n",
    "It removes a random element from the set and returns the removed element"
   ]
  },
  {
   "cell_type": "code",
   "execution_count": 87,
   "metadata": {
    "colab": {
     "base_uri": "https://localhost:8080/",
     "height": 35
    },
    "executionInfo": {
     "elapsed": 1165,
     "status": "ok",
     "timestamp": 1667812636359,
     "user": {
      "displayName": "David Pratap",
      "userId": "09405790748084406328"
     },
     "user_tz": -330
    },
    "id": "WiURjuJ6MvP0",
    "outputId": "ae3d57a1-b350-4757-a429-144dac3fa0f3"
   },
   "outputs": [
    {
     "data": {
      "text/plain": [
       "'world'"
      ]
     },
     "execution_count": 87,
     "metadata": {},
     "output_type": "execute_result"
    }
   ],
   "source": [
    "# create a set\n",
    "my_set = {'data science', 'machine learning', 'python', 'world'}\n",
    "\n",
    "# remove random element from set \n",
    "my_set.pop()"
   ]
  },
  {
   "cell_type": "code",
   "execution_count": 88,
   "metadata": {
    "colab": {
     "base_uri": "https://localhost:8080/",
     "height": 35
    },
    "executionInfo": {
     "elapsed": 10,
     "status": "ok",
     "timestamp": 1667812636359,
     "user": {
      "displayName": "David Pratap",
      "userId": "09405790748084406328"
     },
     "user_tz": -330
    },
    "id": "Y7n0zVGaMvP7",
    "outputId": "014682f4-5a56-4549-856b-29bbeb3c7ae8"
   },
   "outputs": [
    {
     "data": {
      "text/plain": [
       "1"
      ]
     },
     "execution_count": 88,
     "metadata": {},
     "output_type": "execute_result"
    }
   ],
   "source": [
    "# create a set\n",
    "my_set1 = {1,2,3,\"data\", \"science\"}\n",
    "\n",
    "# remove random element from set\n",
    "my_set1.pop()"
   ]
  },
  {
   "cell_type": "markdown",
   "metadata": {
    "id": "mHG1BpwIMvQC"
   },
   "source": [
    "### Set Operations"
   ]
  },
  {
   "cell_type": "markdown",
   "metadata": {
    "id": "0fbiygveMvQD"
   },
   "source": [
    "**Disjoint set**: if the two sets have no common elements"
   ]
  },
  {
   "cell_type": "code",
   "execution_count": 89,
   "metadata": {
    "colab": {
     "base_uri": "https://localhost:8080/"
    },
    "executionInfo": {
     "elapsed": 8,
     "status": "ok",
     "timestamp": 1667812636960,
     "user": {
      "displayName": "David Pratap",
      "userId": "09405790748084406328"
     },
     "user_tz": -330
    },
    "id": "ymBlCsYIMvQE",
    "outputId": "b6f221cc-53c1-467f-90fe-74b6a4f0aea3"
   },
   "outputs": [
    {
     "name": "stdout",
     "output_type": "stream",
     "text": [
      "False\n"
     ]
    }
   ],
   "source": [
    "print (set([11, 12, 22, 33, 4]).isdisjoint(set([4, 1])))"
   ]
  },
  {
   "cell_type": "markdown",
   "metadata": {
    "id": "pX-Sp2rhMvQL"
   },
   "source": [
    "**Checking for subset**<br>\n",
    "Use issubset() method to check whether all elements of a set are contained in another set"
   ]
  },
  {
   "cell_type": "code",
   "execution_count": 90,
   "metadata": {
    "colab": {
     "base_uri": "https://localhost:8080/"
    },
    "executionInfo": {
     "elapsed": 6,
     "status": "ok",
     "timestamp": 1667812637560,
     "user": {
      "displayName": "David Pratap",
      "userId": "09405790748084406328"
     },
     "user_tz": -330
    },
    "id": "oYD-WdKzMvQM",
    "outputId": "ef7a374c-7b64-4d35-81f9-6ce062566c42"
   },
   "outputs": [
    {
     "name": "stdout",
     "output_type": "stream",
     "text": [
      "Is a subset of b? True\n"
     ]
    }
   ],
   "source": [
    "# check whether one set 'a' is a subset of the 'b'\n",
    "a = set([1, 3, 4, 5])\n",
    "b = set([1, 3, 4, 5, 6])\n",
    "print('Is a subset of b?', a.issubset(b))"
   ]
  },
  {
   "cell_type": "markdown",
   "metadata": {
    "id": "LCsbXzdpMvQR"
   },
   "source": [
    "**Set Union**<br>\n",
    "Use union() method to compute the union of two or more sets"
   ]
  },
  {
   "cell_type": "code",
   "execution_count": 91,
   "metadata": {
    "colab": {
     "base_uri": "https://localhost:8080/"
    },
    "executionInfo": {
     "elapsed": 4,
     "status": "ok",
     "timestamp": 1667812638544,
     "user": {
      "displayName": "David Pratap",
      "userId": "09405790748084406328"
     },
     "user_tz": -330
    },
    "id": "Kmv2dUPgMvQS",
    "outputId": "ee3e554d-8ea8-46f7-89d4-e749eedcecd1"
   },
   "outputs": [
    {
     "name": "stdout",
     "output_type": "stream",
     "text": [
      "{1, 2, 3, 4, 5, 6}\n"
     ]
    }
   ],
   "source": [
    "a = set([1, 2, 3])\n",
    "b = set([3, 4, 5, 6])\n",
    "print (a.union(b))"
   ]
  },
  {
   "cell_type": "markdown",
   "metadata": {
    "id": "rxwbhO7jMvQX"
   },
   "source": [
    "**Set Intersection**<br>\n",
    "Take intersection to find the common elements"
   ]
  },
  {
   "cell_type": "code",
   "execution_count": 92,
   "metadata": {
    "colab": {
     "base_uri": "https://localhost:8080/"
    },
    "executionInfo": {
     "elapsed": 406,
     "status": "ok",
     "timestamp": 1667812684142,
     "user": {
      "displayName": "David Pratap",
      "userId": "09405790748084406328"
     },
     "user_tz": -330
    },
    "id": "QQtdJoZ5MvQY",
    "outputId": "c768da6e-8c3e-4559-ef3c-c2d91627593f"
   },
   "outputs": [
    {
     "name": "stdout",
     "output_type": "stream",
     "text": [
      "{12, 78}\n",
      "{12, 78}\n",
      "{12, 78}\n"
     ]
    }
   ],
   "source": [
    "a = set([12,34,56,78])\n",
    "b = set([12,45,67,89,78])\n",
    "c = set([12,34,56,78,56])\n",
    "print (a & b)\n",
    "print(a.intersection(b))\n",
    "print (a & b & c)"
   ]
  },
  {
   "cell_type": "markdown",
   "metadata": {
    "id": "OMfwNfeNMvQi"
   },
   "source": [
    "**Set Difference**<br>\n",
    "It returns a new set containing all items from the first set that are not in the other set"
   ]
  },
  {
   "cell_type": "code",
   "execution_count": 93,
   "metadata": {
    "colab": {
     "base_uri": "https://localhost:8080/"
    },
    "executionInfo": {
     "elapsed": 361,
     "status": "ok",
     "timestamp": 1667812707657,
     "user": {
      "displayName": "David Pratap",
      "userId": "09405790748084406328"
     },
     "user_tz": -330
    },
    "id": "p_nISPbPMvQj",
    "outputId": "64df4852-b6e1-46c7-9309-c3d51bd2127e"
   },
   "outputs": [
    {
     "name": "stdout",
     "output_type": "stream",
     "text": [
      "{56, 89, 77}\n",
      "{56, 89, 77}\n"
     ]
    }
   ],
   "source": [
    "a = set([23,45,56,77,89])\n",
    "b = set([23,45,54,33,23])\n",
    "print(a - b)\n",
    "print(a.difference(b))"
   ]
  }
 ],
 "metadata": {
  "colab": {
   "collapsed_sections": [
    "KGbAwO5WMvBS",
    "iCGahWMHMvCo",
    "poGqfPalMvC-",
    "r90h1hnvMvFT",
    "qvV0GbunMvFr",
    "hPPNLsuxMvFt",
    "MbrVo1YLMvGZ",
    "skNuBThzMvH6",
    "Y56dywexMvIv",
    "zIEKUEqqMvJF",
    "HXCnVTshMvJr",
    "P8za5JoIMvJu",
    "Mo0qfbesMvKE",
    "tvSE2Q1DMvKt",
    "mWGtNptZMvMD",
    "MBr8TdBxMvOv",
    "fDB_MWgeMvOw",
    "Pns7-BGBMvPG",
    "mHG1BpwIMvQC",
    "nMG2F7RN9CEZ",
    "3AAclNVk9CEZ",
    "vIS-gZ9p9CEZ",
    "j-Nph9nZ9CEa",
    "JUpk76m69CEc",
    "7uAyzt9t9CEd",
    "hrlKxh6M9CEe",
    "plKEuiEC9CEe",
    "FOYqthrw9CEg",
    "RVrqUUR99CEh"
   ],
   "provenance": []
  },
  "kernelspec": {
   "display_name": "Python 3 (ipykernel)",
   "language": "python",
   "name": "python3"
  },
  "language_info": {
   "codemirror_mode": {
    "name": "ipython",
    "version": 3
   },
   "file_extension": ".py",
   "mimetype": "text/x-python",
   "name": "python",
   "nbconvert_exporter": "python",
   "pygments_lexer": "ipython3",
   "version": "3.11.2"
  }
 },
 "nbformat": 4,
 "nbformat_minor": 1
}
