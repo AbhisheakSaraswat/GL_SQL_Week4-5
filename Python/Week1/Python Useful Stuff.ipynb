{
 "cells": [
  {
   "cell_type": "markdown",
   "id": "78a277e0",
   "metadata": {},
   "source": [
    "### Python Useful Stuff\n",
    "* Enumerate\n",
    "* Zip\n",
    "* zip_longest"
   ]
  },
  {
   "cell_type": "markdown",
   "id": "5ac2675f",
   "metadata": {},
   "source": [
    "### Enumerate\n",
    "\n",
    "Using enumerate function (Python built-in function) we can assign a unique index of each object.\n",
    "By default, index will starts from 0, if you want to change the starting position of index then you can.\n",
    "\n",
    "Note: Each item of enumerate (index, number) will be in tuple."
   ]
  },
  {
   "cell_type": "code",
   "execution_count": 1,
   "id": "7536b527",
   "metadata": {},
   "outputs": [],
   "source": [
    "lst = [12,67,89,23,45,78,90,34,45,78,12,34,56,78,34,56,90,78,34,56,56,78]"
   ]
  },
  {
   "cell_type": "code",
   "execution_count": 2,
   "id": "81f4e518",
   "metadata": {},
   "outputs": [
    {
     "data": {
      "text/plain": [
       "5"
      ]
     },
     "execution_count": 2,
     "metadata": {},
     "output_type": "execute_result"
    }
   ],
   "source": [
    "lst.count(78)"
   ]
  },
  {
   "cell_type": "code",
   "execution_count": 3,
   "id": "053022b4",
   "metadata": {},
   "outputs": [
    {
     "data": {
      "text/plain": [
       "2"
      ]
     },
     "execution_count": 3,
     "metadata": {},
     "output_type": "execute_result"
    }
   ],
   "source": [
    "lst.count(45)"
   ]
  },
  {
   "cell_type": "code",
   "execution_count": 4,
   "id": "aeac801f",
   "metadata": {},
   "outputs": [
    {
     "data": {
      "text/plain": [
       "<enumerate at 0x22e0a3e0400>"
      ]
     },
     "execution_count": 4,
     "metadata": {},
     "output_type": "execute_result"
    }
   ],
   "source": [
    "enumerate(lst)"
   ]
  },
  {
   "cell_type": "code",
   "execution_count": 5,
   "id": "8632da04",
   "metadata": {},
   "outputs": [],
   "source": [
    "# above line is creating an object which contain index and its number"
   ]
  },
  {
   "cell_type": "code",
   "execution_count": 6,
   "id": "d93c4019",
   "metadata": {},
   "outputs": [],
   "source": [
    "# how to retrieve the value from above object using data structure and using loop"
   ]
  },
  {
   "cell_type": "code",
   "execution_count": 7,
   "id": "69ed6099",
   "metadata": {},
   "outputs": [
    {
     "name": "stdout",
     "output_type": "stream",
     "text": [
      "[(0, 12), (1, 67), (2, 89), (3, 23), (4, 45), (5, 78), (6, 90), (7, 34), (8, 45), (9, 78), (10, 12), (11, 34), (12, 56), (13, 78), (14, 34), (15, 56), (16, 90), (17, 78), (18, 34), (19, 56), (20, 56), (21, 78)]\n"
     ]
    }
   ],
   "source": [
    "print(list(enumerate(lst)))"
   ]
  },
  {
   "cell_type": "code",
   "execution_count": 11,
   "id": "912d7869",
   "metadata": {},
   "outputs": [
    {
     "name": "stdout",
     "output_type": "stream",
     "text": [
      "5 9 13 17 21 "
     ]
    }
   ],
   "source": [
    "for pair in enumerate(lst):\n",
    "    if pair[-1] == 78:\n",
    "        print(pair[0], end = \" \")"
   ]
  },
  {
   "cell_type": "code",
   "execution_count": 13,
   "id": "1713cd1d",
   "metadata": {},
   "outputs": [
    {
     "name": "stdout",
     "output_type": "stream",
     "text": [
      "[(0, 'A'), (1, 'b'), (2, 'h'), (3, 'i'), (4, 's'), (5, 'h'), (6, 'e'), (7, 'a'), (8, 'k')]\n"
     ]
    }
   ],
   "source": [
    "print(list(enumerate(\"Abhisheak\")))"
   ]
  },
  {
   "cell_type": "code",
   "execution_count": 14,
   "id": "a2bad4ab",
   "metadata": {},
   "outputs": [
    {
     "name": "stdout",
     "output_type": "stream",
     "text": [
      "[(100, 'A'), (101, 'b'), (102, 'h'), (103, 'i'), (104, 's'), (105, 'h'), (106, 'e'), (107, 'a'), (108, 'k')]\n"
     ]
    }
   ],
   "source": [
    "print(list(enumerate(\"Abhisheak\",100)))"
   ]
  },
  {
   "cell_type": "code",
   "execution_count": 15,
   "id": "98b01b46",
   "metadata": {},
   "outputs": [
    {
     "data": {
      "text/plain": [
       "((0, 'P'), (1, 'y'), (2, 't'), (3, 'h'), (4, 'o'), (5, 'n'))"
      ]
     },
     "execution_count": 15,
     "metadata": {},
     "output_type": "execute_result"
    }
   ],
   "source": [
    "tuple(enumerate(\"Python\"))"
   ]
  },
  {
   "cell_type": "code",
   "execution_count": 16,
   "id": "bc7510fe",
   "metadata": {},
   "outputs": [
    {
     "data": {
      "text/plain": [
       "{(0, 'p'), (1, 'y'), (2, 't'), (3, 'h'), (4, 'o'), (5, 'n')}"
      ]
     },
     "execution_count": 16,
     "metadata": {},
     "output_type": "execute_result"
    }
   ],
   "source": [
    "set(enumerate(\"python\"))"
   ]
  },
  {
   "cell_type": "code",
   "execution_count": 17,
   "id": "fe4b3b6b",
   "metadata": {},
   "outputs": [
    {
     "data": {
      "text/plain": [
       "{0: 'P', 1: 'y', 2: 't', 3: 'h', 4: 'o', 5: 'n'}"
      ]
     },
     "execution_count": 17,
     "metadata": {},
     "output_type": "execute_result"
    }
   ],
   "source": [
    "dict(enumerate(\"Python\"))"
   ]
  },
  {
   "cell_type": "code",
   "execution_count": 20,
   "id": "36634a25",
   "metadata": {},
   "outputs": [
    {
     "name": "stdout",
     "output_type": "stream",
     "text": [
      "Great\n",
      "\n",
      "Learning\n"
     ]
    }
   ],
   "source": [
    "print(\"Great\")\n",
    "print()\n",
    "print(\"Learning\")"
   ]
  },
  {
   "cell_type": "code",
   "execution_count": 21,
   "id": "9d961d7b",
   "metadata": {},
   "outputs": [
    {
     "name": "stdout",
     "output_type": "stream",
     "text": [
      "Great | Learning\n"
     ]
    }
   ],
   "source": [
    "print(\"Great\", end = \" | \") # by default end = \"\\n\"\n",
    "print(\"Learning\")"
   ]
  },
  {
   "cell_type": "code",
   "execution_count": 22,
   "id": "fa32c878",
   "metadata": {},
   "outputs": [
    {
     "name": "stdout",
     "output_type": "stream",
     "text": [
      "0\n",
      "1\n",
      "2\n",
      "3\n",
      "4\n"
     ]
    }
   ],
   "source": [
    "for i in range(5):\n",
    "    print(i, end = \"\\n\")"
   ]
  },
  {
   "cell_type": "code",
   "execution_count": 23,
   "id": "99217eda",
   "metadata": {},
   "outputs": [
    {
     "name": "stdout",
     "output_type": "stream",
     "text": [
      "0 1 2 3 4 "
     ]
    }
   ],
   "source": [
    "for i in range(5):\n",
    "    print(i, end = \" \")"
   ]
  },
  {
   "cell_type": "markdown",
   "id": "83aaf12c",
   "metadata": {},
   "source": [
    "### Zip\n",
    "\n",
    "Using this function we can combine more than 1 iterable object or data structure, It will also create an object like enumerate function.\n",
    "\n",
    "Zip always works on shortest iterable and return the output in the form of tuple object like enumerate."
   ]
  },
  {
   "cell_type": "code",
   "execution_count": 24,
   "id": "3fef4d35",
   "metadata": {},
   "outputs": [],
   "source": [
    "lst1 = [1,3,5,6,8,9]\n",
    "lst2 = [4,7,9,0]"
   ]
  },
  {
   "cell_type": "code",
   "execution_count": 25,
   "id": "99303b5e",
   "metadata": {},
   "outputs": [
    {
     "data": {
      "text/plain": [
       "<zip at 0x22e0aa5b680>"
      ]
     },
     "execution_count": 25,
     "metadata": {},
     "output_type": "execute_result"
    }
   ],
   "source": [
    "zip(lst1,lst2)"
   ]
  },
  {
   "cell_type": "code",
   "execution_count": 26,
   "id": "29cf8636",
   "metadata": {},
   "outputs": [
    {
     "data": {
      "text/plain": [
       "[(1, 4), (3, 7), (5, 9), (6, 0)]"
      ]
     },
     "execution_count": 26,
     "metadata": {},
     "output_type": "execute_result"
    }
   ],
   "source": [
    "list(zip(lst1,lst2))"
   ]
  },
  {
   "cell_type": "code",
   "execution_count": 27,
   "id": "e210bc14",
   "metadata": {},
   "outputs": [],
   "source": [
    "lst1 = [1,3,5,6,8,9]\n",
    "lst2 = [4,7,9,0]\n",
    "lst3 = [4,5,6,7,8,9,0]\n",
    "lst4 = [11,12]"
   ]
  },
  {
   "cell_type": "code",
   "execution_count": 28,
   "id": "8e6645f7",
   "metadata": {},
   "outputs": [
    {
     "data": {
      "text/plain": [
       "[(1, 4, 4, 11), (3, 7, 5, 12)]"
      ]
     },
     "execution_count": 28,
     "metadata": {},
     "output_type": "execute_result"
    }
   ],
   "source": [
    "list(zip(lst1,lst2,lst3,lst4))"
   ]
  },
  {
   "cell_type": "code",
   "execution_count": 32,
   "id": "b29cedd3",
   "metadata": {},
   "outputs": [
    {
     "data": {
      "text/plain": [
       "{1: 4, 3: 7, 5: 9, 6: 0}"
      ]
     },
     "execution_count": 32,
     "metadata": {},
     "output_type": "execute_result"
    }
   ],
   "source": [
    "dict(zip(lst1,lst2))"
   ]
  },
  {
   "cell_type": "code",
   "execution_count": 34,
   "id": "e43dbade",
   "metadata": {},
   "outputs": [],
   "source": [
    "lst1 = [1,3,5,6,8,9]\n",
    "lst2 = [4,7,9,0]\n",
    "lst3 = [4,5,6,7,8,9,0,11]\n",
    "lst4 = [11,12]"
   ]
  },
  {
   "cell_type": "code",
   "execution_count": 35,
   "id": "f9fd7313",
   "metadata": {},
   "outputs": [],
   "source": [
    "from itertools import zip_longest"
   ]
  },
  {
   "cell_type": "code",
   "execution_count": 36,
   "id": "7fb9750f",
   "metadata": {},
   "outputs": [
    {
     "data": {
      "text/plain": [
       "[(1, 4, 4, 11),\n",
       " (3, 7, 5, 12),\n",
       " (5, 9, 6, None),\n",
       " (6, 0, 7, None),\n",
       " (8, None, 8, None),\n",
       " (9, None, 9, None),\n",
       " (None, None, 0, None),\n",
       " (None, None, 11, None)]"
      ]
     },
     "execution_count": 36,
     "metadata": {},
     "output_type": "execute_result"
    }
   ],
   "source": [
    "list(zip_longest(lst1,lst2,lst3,lst4))"
   ]
  },
  {
   "cell_type": "code",
   "execution_count": 39,
   "id": "2365d9ae",
   "metadata": {},
   "outputs": [
    {
     "data": {
      "text/plain": [
       "[(1, 4, 4, 11),\n",
       " (3, 7, 5, 12),\n",
       " (5, 9, 6, '-'),\n",
       " (6, 0, 7, '-'),\n",
       " (8, '-', 8, '-'),\n",
       " (9, '-', 9, '-'),\n",
       " ('-', '-', 0, '-'),\n",
       " ('-', '-', 11, '-')]"
      ]
     },
     "execution_count": 39,
     "metadata": {},
     "output_type": "execute_result"
    }
   ],
   "source": [
    "list(zip_longest(lst1,lst2,lst3,lst4, fillvalue = \"-\"))"
   ]
  },
  {
   "cell_type": "code",
   "execution_count": 40,
   "id": "2655b377",
   "metadata": {},
   "outputs": [
    {
     "data": {
      "text/plain": [
       "[(1, 4, 4, 11),\n",
       " (3, 7, 5, 12),\n",
       " (5, 9, 6, 0),\n",
       " (6, 0, 7, 0),\n",
       " (8, 0, 8, 0),\n",
       " (9, 0, 9, 0),\n",
       " (0, 0, 0, 0),\n",
       " (0, 0, 11, 0)]"
      ]
     },
     "execution_count": 40,
     "metadata": {},
     "output_type": "execute_result"
    }
   ],
   "source": [
    "list(zip_longest(lst1,lst2,lst3,lst4, fillvalue = 0))"
   ]
  },
  {
   "cell_type": "code",
   "execution_count": 41,
   "id": "5d54f71f",
   "metadata": {},
   "outputs": [
    {
     "name": "stdout",
     "output_type": "stream",
     "text": [
      "zip_longest(iter1 [,iter2 [...]], [fillvalue=None]) --> zip_longest object\n",
      "\n",
      "Return a zip_longest object whose .__next__() method returns a tuple where\n",
      "the i-th element comes from the i-th iterable argument.  The .__next__()\n",
      "method continues until the longest iterable in the argument sequence\n",
      "is exhausted and then it raises StopIteration.  When the shorter iterables\n",
      "are exhausted, the fillvalue is substituted in their place.  The fillvalue\n",
      "defaults to None or can be specified by a keyword argument.\n",
      "\n"
     ]
    }
   ],
   "source": [
    "print(zip_longest.__doc__)"
   ]
  },
  {
   "cell_type": "code",
   "execution_count": 42,
   "id": "42ccbb99",
   "metadata": {},
   "outputs": [
    {
     "name": "stdout",
     "output_type": "stream",
     "text": [
      "Extend list by appending elements from the iterable.\n"
     ]
    }
   ],
   "source": [
    "print(list.extend.__doc__)"
   ]
  },
  {
   "cell_type": "code",
   "execution_count": 43,
   "id": "96d18659",
   "metadata": {},
   "outputs": [],
   "source": [
    "list.extend?"
   ]
  },
  {
   "cell_type": "markdown",
   "id": "bd4fe9f2",
   "metadata": {},
   "source": [
    "### Python String:\n",
    "\n",
    "https://youtu.be/q6F2rjb8zXM?si=zu3Z0s87apUSqzBk"
   ]
  },
  {
   "cell_type": "code",
   "execution_count": 44,
   "id": "c764f77a",
   "metadata": {},
   "outputs": [],
   "source": [
    "import os"
   ]
  },
  {
   "cell_type": "code",
   "execution_count": 45,
   "id": "074280d7",
   "metadata": {},
   "outputs": [
    {
     "data": {
      "text/plain": [
       "'C:\\\\Users\\\\AEPAC\\\\Desktop\\\\GL\\\\Python\\\\Week 1 - Operators and Data Structures - Inclass Exercise\\\\Week 1'"
      ]
     },
     "execution_count": 45,
     "metadata": {},
     "output_type": "execute_result"
    }
   ],
   "source": [
    "os.getcwd()"
   ]
  },
  {
   "cell_type": "code",
   "execution_count": null,
   "id": "5a297363",
   "metadata": {},
   "outputs": [],
   "source": []
  }
 ],
 "metadata": {
  "kernelspec": {
   "display_name": "Python 3 (ipykernel)",
   "language": "python",
   "name": "python3"
  },
  "language_info": {
   "codemirror_mode": {
    "name": "ipython",
    "version": 3
   },
   "file_extension": ".py",
   "mimetype": "text/x-python",
   "name": "python",
   "nbconvert_exporter": "python",
   "pygments_lexer": "ipython3",
   "version": "3.11.2"
  }
 },
 "nbformat": 4,
 "nbformat_minor": 5
}
